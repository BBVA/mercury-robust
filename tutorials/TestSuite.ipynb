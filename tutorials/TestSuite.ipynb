{
 "cells": [
  {
   "cell_type": "markdown",
   "id": "44PIHAs9INBD",
   "metadata": {
    "id": "44PIHAs9INBD"
   },
   "source": [
    "# Introduction\n",
    "\n",
    "This Notebook uses the TestSuite from mercury.robust in order to execute several tests and check the result afterwards. This is an alternative to running a test individually as shown in the notebook RobustTestingExample.ipynb. The TestSuite approach can be useful to guarantee some specific conditions of a trained model and used dataset "
   ]
  },
  {
   "cell_type": "code",
   "execution_count": 1,
   "id": "K2t_kGMhINBG",
   "metadata": {
    "id": "K2t_kGMhINBG"
   },
   "outputs": [],
   "source": [
    "import numpy as np\n",
    "import pandas as pd\n",
    "\n",
    "from sklearn.model_selection import train_test_split\n",
    "from sklearn.preprocessing import StandardScaler, OneHotEncoder\n",
    "from sklearn.linear_model import LogisticRegression\n",
    "from sklearn.ensemble import RandomForestClassifier\n",
    "from sklearn.pipeline import Pipeline\n",
    "from sklearn.compose import ColumnTransformer\n",
    "from sklearn.base import clone as clone_sklearn_model\n",
    "from sklearn.metrics import f1_score\n",
    "\n",
    "pd.set_option('display.max_colwidth', None)"
   ]
  },
  {
   "cell_type": "markdown",
   "id": "6cdVxveRINBG",
   "metadata": {
    "id": "6cdVxveRINBG"
   },
   "source": [
    "## Load Dataset\n",
    "\n",
    "We will use the default credit card Dataset from the UCI machine learning repository. The dataset was used in [[2]](#[2])"
   ]
  },
  {
   "cell_type": "code",
   "execution_count": 2,
   "id": "I08nDDvyINBH",
   "metadata": {
    "id": "I08nDDvyINBH"
   },
   "outputs": [],
   "source": [
    "path_dataset = \"./data/credit/\"\n",
    "uci_credit = pd.read_csv(path_dataset + \"UCI_Credit_card.csv\")\n",
    "uci_credit = uci_credit.drop('ID', axis=1)\n",
    "\n",
    "uci_credit[\"SEX\"] = uci_credit[\"SEX\"].astype(str)\n",
    "uci_credit[\"EDUCATION\"] = uci_credit[\"EDUCATION\"].astype(str)\n",
    "uci_credit[\"MARRIAGE\"] = uci_credit[\"MARRIAGE\"].astype(str)"
   ]
  },
  {
   "cell_type": "code",
   "execution_count": 3,
   "id": "DXuor-lRINBI",
   "metadata": {
    "colab": {
     "base_uri": "https://localhost:8080/"
    },
    "id": "DXuor-lRINBI",
    "outputId": "35757dfe-0021-4dce-cbac-99ff643e31e2"
   },
   "outputs": [
    {
     "name": "stdout",
     "output_type": "stream",
     "text": [
      "(21000, 24)\n",
      "(9000, 24)\n"
     ]
    }
   ],
   "source": [
    "df_train, df_test = train_test_split(uci_credit, test_size=0.3, random_state=2000)\n",
    "print(df_train.shape)\n",
    "print(df_test.shape)"
   ]
  },
  {
   "cell_type": "markdown",
   "id": "rrQepf5bOIZA",
   "metadata": {
    "id": "rrQepf5bOIZA"
   },
   "source": [
    "Let's specify which features will be numerical, which will be categorical, and what will be the target column"
   ]
  },
  {
   "cell_type": "code",
   "execution_count": 4,
   "id": "6EWGej3DKQQO",
   "metadata": {
    "id": "6EWGej3DKQQO"
   },
   "outputs": [],
   "source": [
    "pay_feats = [c for c in df_train.columns if \"PAY_\" in c]\n",
    "bill_feats = [c for c in df_train.columns if \"BILL_\" in c]\n",
    "num_feats = ['LIMIT_BAL', 'AGE'] + pay_feats + bill_feats\n",
    "\n",
    "cat_feats = ['SEX', 'EDUCATION', 'MARRIAGE']\n",
    "\n",
    "label_col = \"default.payment.next.month\""
   ]
  },
  {
   "cell_type": "markdown",
   "id": "1CFhc6EmINBI",
   "metadata": {
    "id": "1CFhc6EmINBI"
   },
   "source": [
    "## Train model\n",
    "\n",
    "We create a function to create the model. The model will be a sklearn pipeline, which will be composed by transformations of numerical and categorical features (separately) and a RandomForestClassifier.\n",
    "\n",
    "We also define a function to train the model (we will use it to train the model now and later in our tests)."
   ]
  },
  {
   "cell_type": "code",
   "execution_count": 5,
   "id": "onEkl5bZINBI",
   "metadata": {
    "id": "onEkl5bZINBI"
   },
   "outputs": [],
   "source": [
    "def create_model(num_feats=None, cat_feats=None, random_state=None, max_depth=None, min_samples_leaf=1):\n",
    "\n",
    "    numeric_transformer = Pipeline(steps=[(\"scaler\", StandardScaler())])\n",
    "    categorical_transformer = OneHotEncoder(handle_unknown=\"ignore\")\n",
    "\n",
    "    preprocessor = ColumnTransformer(\n",
    "        transformers=[\n",
    "            (\"num\", numeric_transformer, num_feats),\n",
    "            (\"cat\", categorical_transformer, cat_feats),\n",
    "        ], remainder='drop'\n",
    "    )\n",
    "\n",
    "    pipeline = Pipeline(\n",
    "        steps=[\n",
    "            (\"preprocessor\", preprocessor), \n",
    "            (\"classifier\", RandomForestClassifier(\n",
    "                random_state=random_state, \n",
    "                class_weight='balanced', \n",
    "                max_depth=None,\n",
    "                min_samples_leaf=min_samples_leaf\n",
    "            ))]\n",
    "    )\n",
    "    \n",
    "    return pipeline\n",
    "\n",
    "def train_model(model, X, y, train_params=None):\n",
    "    return model.fit(X, y)\n",
    "    "
   ]
  },
  {
   "cell_type": "markdown",
   "id": "5NNMiFbRINBJ",
   "metadata": {
    "id": "5NNMiFbRINBJ"
   },
   "source": [
    "Let's now to train a model"
   ]
  },
  {
   "cell_type": "code",
   "execution_count": 6,
   "id": "wE90OuFlINBJ",
   "metadata": {
    "colab": {
     "base_uri": "https://localhost:8080/"
    },
    "id": "wE90OuFlINBJ",
    "outputId": "1327eac2-37fb-4d03-e48b-343d52b2b780"
   },
   "outputs": [
    {
     "name": "stdout",
     "output_type": "stream",
     "text": [
      "0.44204322200392926\n"
     ]
    }
   ],
   "source": [
    "pipeline = create_model(num_feats=num_feats, cat_feats=cat_feats)\n",
    "unfitted_pipeline = clone_sklearn_model(pipeline)\n",
    "fitted_pipeline = train_model(pipeline, df_train[num_feats + cat_feats], df_train[label_col])\n",
    "\n",
    "print(f1_score(df_test[label_col], fitted_pipeline.predict(df_test)))"
   ]
  },
  {
   "cell_type": "markdown",
   "id": "b7bg4ZRaINBJ",
   "metadata": {
    "id": "b7bg4ZRaINBJ"
   },
   "source": [
    "## Create TestSuite\n",
    "\n",
    "Now we will create a TestSuite with some tests that will check our data and our model. \n",
    "\n",
    "We need to import the tests that we are going to use and the `TestSuite` object from mercury.robust"
   ]
  },
  {
   "cell_type": "code",
   "execution_count": 7,
   "id": "XXwkKQ19INBJ",
   "metadata": {
    "id": "XXwkKQ19INBJ"
   },
   "outputs": [],
   "source": [
    "from mercury.dataschema import DataSchema\n",
    "from mercury.dataschema.feature import FeatType\n",
    "from mercury.robust.data_tests import (\n",
    "    SameSchemaTest, \n",
    "    LinearCombinationsTest,\n",
    "    LabelLeakingTest,\n",
    "    NoisyLabelsTest,\n",
    "    SampleLeakingTest,\n",
    "    NoDuplicatesTest\n",
    ")\n",
    "from mercury.robust.model_tests import ModelReproducibilityTest, TreeCoverageTest\n",
    "from mercury.robust import TestSuite"
   ]
  },
  {
   "cell_type": "markdown",
   "id": "BuuHUsf9INBK",
   "metadata": {
    "id": "BuuHUsf9INBK"
   },
   "source": [
    "Let's create a `DataSchema` object for our dataset. By default, it tries to infer the types of each variable. In this case, it identifies some payment features as categorical features because they have few unique values. However, we prefer them to be discrete, so we specify a custom_feature_mapping for this two columns:"
   ]
  },
  {
   "cell_type": "code",
   "execution_count": 8,
   "id": "Gdvtow56INBK",
   "metadata": {
    "id": "Gdvtow56INBK"
   },
   "outputs": [],
   "source": [
    "custom_feature_mapping = {\n",
    "    \"PAY_0\": FeatType.DISCRETE,\n",
    "    \"PAY_2\": FeatType.DISCRETE,\n",
    "    \"PAY_3\": FeatType.DISCRETE,\n",
    "    \"PAY_4\": FeatType.DISCRETE,\n",
    "    \"PAY_5\": FeatType.DISCRETE,\n",
    "    \"PAY_6\": FeatType.DISCRETE,\n",
    "}\n",
    "\n",
    "schma_reference = DataSchema().generate(df_train, force_types=custom_feature_mapping).calculate_statistics()"
   ]
  },
  {
   "cell_type": "markdown",
   "id": "i2L4Q8BqINBK",
   "metadata": {
    "id": "i2L4Q8BqINBK"
   },
   "source": [
    "Since our tests could fail, we might need to create the Suite several times, so let's define a function in order to be able to create the same several times easily. Our Test Suite will be composed by:\n",
    "- `SampleLeakingTest`: Looks if there are samples in the test dataset that are identical to samples in the base/train dataset. If that is the case, the test fails.\n",
    "- `NoDuplicatesTest`: Checks if no duplcated samples are present in a dataframe (training set in this case).\n",
    "- `LinearCombinationsTest`: Ensures a certain dataset doesn't have any linear combination between its numerical columns and no categorical variable is redundant.\n",
    "- `LabelLeakingTest`: Ensures that the target variable is not being leaked into the predictors.\n",
    "- `NoisyLabelsTest`: Looks if the labels of a dataset contain a high level of noise.\n",
    "- `ModelReproducibilityTest`: Checks if the training of a model is reproducible.\n",
    "- `TreeCoverageTest`: Checks whether a given test_dataset covers a minimum percentage of all the branches of a tree (specific for tree-based models)"
   ]
  },
  {
   "cell_type": "code",
   "execution_count": 9,
   "id": "nAaUQHbvINBK",
   "metadata": {
    "id": "nAaUQHbvINBK"
   },
   "outputs": [],
   "source": [
    "def create_suite(df_train, df_test, unfitted_model, fitted_model, label_name, num_feats, cat_feats, schma_reference):\n",
    "    \n",
    "    # Sample Leaking Test\n",
    "    sample_leaking_test = SampleLeakingTest(\n",
    "        base_dataset=df_train[num_feats + cat_feats + [label_name]],\n",
    "        test_dataset=df_test[num_feats + cat_feats + [label_name]]\n",
    "    )\n",
    "\n",
    "    # NoDuplicatesTest\n",
    "    no_dups_test = NoDuplicatesTest(\n",
    "        dataset=df_train[cat_feats + num_feats + [label_name]]\n",
    "    )\n",
    "\n",
    "    # Linear Combinations Test\n",
    "    linear_comb_test = LinearCombinationsTest(df_train, dataset_schema=schma_reference)\n",
    "\n",
    "    # Label Leaking Test (we ignore str features since currently are not supported in this test)\n",
    "    ignore_feats = [f for f in df_train.columns if f not in num_feats+cat_feats and f!=label_name]\n",
    "    label_leak_test = LabelLeakingTest(\n",
    "        df_train,\n",
    "        label_name=label_name,\n",
    "        ignore_feats=ignore_feats,\n",
    "        threshold = 0.05,\n",
    "        dataset_schema=schma_reference,\n",
    "        handle_str_cols='transform'\n",
    "    )\n",
    "\n",
    "    # Noisy Labels Test\n",
    "    noisy_labels_test = NoisyLabelsTest(\n",
    "        df_train,\n",
    "        label_name=label_name,\n",
    "        threshold=0.30,\n",
    "        preprocessor=unfitted_pipeline.steps[0][1],\n",
    "        dataset_schema=schma_reference,\n",
    "        #custom_feature_map = custom_feature_mapping,\n",
    "        label_issues_args={\"clf\": LogisticRegression(solver='newton-cg')}\n",
    "    )\n",
    "\n",
    "    # Model Reproducibility Test\n",
    "    def eval_model(model, X, y, eval_params=None):\n",
    "        return f1_score(y, model.predict(X))\n",
    "\n",
    "    def get_predictions(model, X, predict_params=None):\n",
    "        return model.predict(X)\n",
    "\n",
    "    reproducibility_test = ModelReproducibilityTest(\n",
    "        model = unfitted_pipeline,\n",
    "        train_dataset = df_train,\n",
    "        target=label_name,\n",
    "        train_fn = train_model,\n",
    "        eval_fn = eval_model,\n",
    "        train_params = None,\n",
    "        eval_params = None,\n",
    "        predict_fn = get_predictions,\n",
    "        threshold_eval = 0,\n",
    "        threshold_yhat = 0,\n",
    "        test_dataset = df_test\n",
    "    )\n",
    "\n",
    "    # Tree Coverage Test\n",
    "    tree_coverage_test = TreeCoverageTest(model=fitted_model, test_dataset=df_test[num_feats + cat_feats])\n",
    "    \n",
    "    # Create Suite\n",
    "    test_suite = TestSuite(\n",
    "        tests=[\n",
    "            sample_leaking_test,\n",
    "            no_dups_test,\n",
    "            linear_comb_test,\n",
    "            label_leak_test,\n",
    "            noisy_labels_test,  \n",
    "            reproducibility_test,\n",
    "            tree_coverage_test\n",
    "        ]\n",
    "    )\n",
    "    return test_suite"
   ]
  },
  {
   "cell_type": "markdown",
   "id": "wL7OTc71INBK",
   "metadata": {
    "id": "wL7OTc71INBK"
   },
   "source": [
    "Now let's create a suite and run it. We can use the method `run()` to run the suite and the method `get_results_as_df()` to obtain a summary of the results once all the tests have run:"
   ]
  },
  {
   "cell_type": "code",
   "execution_count": 10,
   "id": "KO0lrKo5INBK",
   "metadata": {
    "colab": {
     "base_uri": "https://localhost:8080/",
     "height": 660
    },
    "id": "KO0lrKo5INBK",
    "outputId": "8dc5b0a2-4a2d-438a-eb41-b1f95c54d59c"
   },
   "outputs": [
    {
     "data": {
      "text/html": [
       "<div>\n",
       "<style scoped>\n",
       "    .dataframe tbody tr th:only-of-type {\n",
       "        vertical-align: middle;\n",
       "    }\n",
       "\n",
       "    .dataframe tbody tr th {\n",
       "        vertical-align: top;\n",
       "    }\n",
       "\n",
       "    .dataframe thead th {\n",
       "        text-align: right;\n",
       "    }\n",
       "</style>\n",
       "<table border=\"1\" class=\"dataframe\">\n",
       "  <thead>\n",
       "    <tr style=\"text-align: right;\">\n",
       "      <th></th>\n",
       "      <th>name</th>\n",
       "      <th>state</th>\n",
       "      <th>error</th>\n",
       "      <th>info</th>\n",
       "    </tr>\n",
       "  </thead>\n",
       "  <tbody>\n",
       "    <tr>\n",
       "      <th>0</th>\n",
       "      <td>SampleLeakingTest</td>\n",
       "      <td>TestState.FAIL</td>\n",
       "      <td>Num of samples in test set that appear in train set is 17 (a proportion of 0.002 test samples )and the max allowed is 0</td>\n",
       "      <td>{'num_duplicated': 17, 'percentage_duplicated': 0.001888888888888889}</td>\n",
       "    </tr>\n",
       "    <tr>\n",
       "      <th>1</th>\n",
       "      <td>NoDuplicatesTest</td>\n",
       "      <td>TestState.FAIL</td>\n",
       "      <td>Your dataset has 17 duplicates. Drop or inspect them via the `info` method</td>\n",
       "      <td>{'num_duplicated': 17, 'index_duplicates': [28779, 13556, 10374, 627, 19487, 21881, 22726, 13106, 18325, 11976, 6313, 6124, 1601, 13912, 21768, 8320, 27966]}</td>\n",
       "    </tr>\n",
       "    <tr>\n",
       "      <th>2</th>\n",
       "      <td>LinearCombinationsTest</td>\n",
       "      <td>TestState.SUCCESS</td>\n",
       "      <td></td>\n",
       "      <td>None</td>\n",
       "    </tr>\n",
       "    <tr>\n",
       "      <th>3</th>\n",
       "      <td>LabelLeakingTest</td>\n",
       "      <td>TestState.SUCCESS</td>\n",
       "      <td></td>\n",
       "      <td>{'importances': {'LIMIT_BAL': 0.5, 'PAY_AMT4': 0.5, 'PAY_AMT3': 0.5, 'AGE': 0.5, 'PAY_AMT6': 0.5, 'SEX': 0.5, 'EDUCATION': 0.5, 'MARRIAGE': 0.5, 'PAY_AMT5': 0.5002164033758927, 'BILL_AMT6': 0.500324605063839, 'BILL_AMT4': 0.5004328067517854, 'PAY_AMT2': 0.5005104815455379, 'BILL_AMT5': 0.5005410084397317, 'PAY_AMT1': 0.5006963580272367, 'BILL_AMT3': 0.5007574118156243, 'BILL_AMT2': 0.5012872294830634, 'BILL_AMT1': 0.5015202538643211, 'PAY_6': 0.5907281954441032, 'PAY_5': 0.5970740834014303, 'PAY_4': 0.6097540805988488, 'PAY_3': 0.625762903155334, 'PAY_0': 0.642820612884643, 'PAY_2': 0.6474066164734326}}</td>\n",
       "    </tr>\n",
       "    <tr>\n",
       "      <th>4</th>\n",
       "      <td>NoisyLabelsTest</td>\n",
       "      <td>TestState.SUCCESS</td>\n",
       "      <td></td>\n",
       "      <td>{'rate_issues': 0.18576190476190477}</td>\n",
       "    </tr>\n",
       "    <tr>\n",
       "      <th>5</th>\n",
       "      <td>ModelReproducibilityTest</td>\n",
       "      <td>TestState.FAIL</td>\n",
       "      <td>Eval metric different in train dataset when training two times (0.9987 vs 0.9989). The max difference allowed is 0 The model is not reproducible.</td>\n",
       "      <td>None</td>\n",
       "    </tr>\n",
       "    <tr>\n",
       "      <th>6</th>\n",
       "      <td>TreeCoverageTest</td>\n",
       "      <td>TestState.FAIL</td>\n",
       "      <td>Achieved a coverage of 0.6391809920839384 while the minimum required was 0.7</td>\n",
       "      <td>{'coverage': 0.6391809920839384}</td>\n",
       "    </tr>\n",
       "  </tbody>\n",
       "</table>\n",
       "</div>"
      ],
      "text/plain": [
       "                       name              state  \\\n",
       "0         SampleLeakingTest     TestState.FAIL   \n",
       "1          NoDuplicatesTest     TestState.FAIL   \n",
       "2    LinearCombinationsTest  TestState.SUCCESS   \n",
       "3          LabelLeakingTest  TestState.SUCCESS   \n",
       "4           NoisyLabelsTest  TestState.SUCCESS   \n",
       "5  ModelReproducibilityTest     TestState.FAIL   \n",
       "6          TreeCoverageTest     TestState.FAIL   \n",
       "\n",
       "                                                                                                                                               error  \\\n",
       "0                            Num of samples in test set that appear in train set is 17 (a proportion of 0.002 test samples )and the max allowed is 0   \n",
       "1                                                                         Your dataset has 17 duplicates. Drop or inspect them via the `info` method   \n",
       "2                                                                                                                                                      \n",
       "3                                                                                                                                                      \n",
       "4                                                                                                                                                      \n",
       "5  Eval metric different in train dataset when training two times (0.9987 vs 0.9989). The max difference allowed is 0 The model is not reproducible.   \n",
       "6                                                                       Achieved a coverage of 0.6391809920839384 while the minimum required was 0.7   \n",
       "\n",
       "                                                                                                                                                                                                                                                                                                                                                                                                                                                                                                                                                                                                                                 info  \n",
       "0                                                                                                                                                                                                                                                                                                                                                                                                                                                                                                                                                               {'num_duplicated': 17, 'percentage_duplicated': 0.001888888888888889}  \n",
       "1                                                                                                                                                                                                                                                                                                                                                                                                                                                                       {'num_duplicated': 17, 'index_duplicates': [28779, 13556, 10374, 627, 19487, 21881, 22726, 13106, 18325, 11976, 6313, 6124, 1601, 13912, 21768, 8320, 27966]}  \n",
       "2                                                                                                                                                                                                                                                                                                                                                                                                                                                                                                                                                                                                                                None  \n",
       "3  {'importances': {'LIMIT_BAL': 0.5, 'PAY_AMT4': 0.5, 'PAY_AMT3': 0.5, 'AGE': 0.5, 'PAY_AMT6': 0.5, 'SEX': 0.5, 'EDUCATION': 0.5, 'MARRIAGE': 0.5, 'PAY_AMT5': 0.5002164033758927, 'BILL_AMT6': 0.500324605063839, 'BILL_AMT4': 0.5004328067517854, 'PAY_AMT2': 0.5005104815455379, 'BILL_AMT5': 0.5005410084397317, 'PAY_AMT1': 0.5006963580272367, 'BILL_AMT3': 0.5007574118156243, 'BILL_AMT2': 0.5012872294830634, 'BILL_AMT1': 0.5015202538643211, 'PAY_6': 0.5907281954441032, 'PAY_5': 0.5970740834014303, 'PAY_4': 0.6097540805988488, 'PAY_3': 0.625762903155334, 'PAY_0': 0.642820612884643, 'PAY_2': 0.6474066164734326}}  \n",
       "4                                                                                                                                                                                                                                                                                                                                                                                                                                                                                                                                                                                                {'rate_issues': 0.18576190476190477}  \n",
       "5                                                                                                                                                                                                                                                                                                                                                                                                                                                                                                                                                                                                                                None  \n",
       "6                                                                                                                                                                                                                                                                                                                                                                                                                                                                                                                                                                                                    {'coverage': 0.6391809920839384}  "
      ]
     },
     "execution_count": 10,
     "metadata": {},
     "output_type": "execute_result"
    }
   ],
   "source": [
    "test_suite = create_suite(df_train, df_test, unfitted_pipeline, fitted_pipeline, label_col, num_feats, cat_feats, schma_reference)\n",
    "test_results = test_suite.run()\n",
    "test_suite.get_results_as_df()"
   ]
  },
  {
   "cell_type": "markdown",
   "id": "JRVIMEYaINBK",
   "metadata": {
    "id": "JRVIMEYaINBK"
   },
   "source": [
    "We can see that there are four tests that failed:\n",
    "- The `SampleLeakingTest` has found that some samples in the training set also appear in the test set\n",
    "- The `NoDuplicatesTest` has found that the training dataset has some duplicates\n",
    "- The `ModelReproducibilityTest` has failed because training 2 times has resulted in a different metric\n",
    "- The `TreeCoverage` fails because when using the test in the resulting model the samples don't cover enough branches\n",
    "\n",
    "NOTE: Before we have run all the tests and checked the results at the end. Alternatively, you can set the parameter `run_safe` of the suite to `False` in order to raise an Exception when the first test fails"
   ]
  },
  {
   "cell_type": "markdown",
   "id": "d7DfhvEDINBK",
   "metadata": {
    "id": "d7DfhvEDINBK"
   },
   "source": [
    "## Trying to correct errors \n",
    "\n",
    "Looking at the failed tests, let's try to correct the errors."
   ]
  },
  {
   "cell_type": "markdown",
   "id": "833e018d",
   "metadata": {},
   "source": [
    "First, the we remove the duplicate samples in the training set"
   ]
  },
  {
   "cell_type": "code",
   "execution_count": 11,
   "id": "ZFySsgBaCx9E",
   "metadata": {
    "id": "ZFySsgBaCx9E"
   },
   "outputs": [],
   "source": [
    "df_train = df_train.drop_duplicates()"
   ]
  },
  {
   "cell_type": "code",
   "execution_count": 12,
   "id": "1_yVBsREDmWM",
   "metadata": {
    "colab": {
     "base_uri": "https://localhost:8080/"
    },
    "id": "1_yVBsREDmWM",
    "outputId": "e82c7bfd-0069-473a-927f-073aaf281d93"
   },
   "outputs": [
    {
     "data": {
      "text/plain": [
       "(20983, 24)"
      ]
     },
     "execution_count": 12,
     "metadata": {},
     "output_type": "execute_result"
    }
   ],
   "source": [
    "df_train.shape"
   ]
  },
  {
   "cell_type": "markdown",
   "id": "a2ef9855",
   "metadata": {},
   "source": [
    "Now we remove the samples from the test set that are identical to samples in the training set"
   ]
  },
  {
   "cell_type": "code",
   "execution_count": 13,
   "id": "GldbJsrkC1Po",
   "metadata": {
    "colab": {
     "base_uri": "https://localhost:8080/"
    },
    "id": "GldbJsrkC1Po",
    "outputId": "0c83d9c6-077a-474b-b731-9fe58e7a6815"
   },
   "outputs": [
    {
     "name": "stdout",
     "output_type": "stream",
     "text": [
      "(9000, 24)\n",
      "(8981, 24)\n"
     ]
    }
   ],
   "source": [
    "# Remove test samples that also appear in training set\n",
    "df_all = pd.concat([df_train, df_test])\n",
    "is_duplicated = df_all.duplicated(keep=False)\n",
    "print(df_test.shape)\n",
    "df_test = df_test.loc[~is_duplicated.iloc[len(df_train):]]\n",
    "print(df_test.shape)"
   ]
  },
  {
   "cell_type": "markdown",
   "id": "7d95c7d6",
   "metadata": {
    "id": "CR886TDkINBK"
   },
   "source": [
    "When training the model, we will specify a random_state to make the training reproducible and we will set the paramaters max_depth and min_samples_leaf to limit the complexity of the model"
   ]
  },
  {
   "cell_type": "code",
   "execution_count": 14,
   "id": "BdSzoVLdINBK",
   "metadata": {
    "colab": {
     "base_uri": "https://localhost:8080/"
    },
    "id": "BdSzoVLdINBK",
    "outputId": "aaf6ace0-1e29-4d82-b676-de41e3941589"
   },
   "outputs": [
    {
     "name": "stdout",
     "output_type": "stream",
     "text": [
      "0.541645633518425\n"
     ]
    }
   ],
   "source": [
    "pipeline = create_model(num_feats=num_feats, cat_feats=cat_feats, random_state=2020, max_depth=6, min_samples_leaf=5)\n",
    "unfitted_pipeline = clone_sklearn_model(pipeline)\n",
    "fitted_pipeline = train_model(pipeline, df_train[num_feats + cat_feats], df_train[label_col])\n",
    "\n",
    "print(f1_score(df_test[label_col], fitted_pipeline.predict(df_test)))"
   ]
  },
  {
   "cell_type": "markdown",
   "id": "omY2klXSINBL",
   "metadata": {
    "id": "omY2klXSINBL"
   },
   "source": [
    "<b> Running only specified tests </b>\n",
    "\n",
    "In order iterate faster, we can only run some specified tests. This is useful when some of our test take some time to run and we are focused on fixing some failing tests. For that, we can use the `tests_to_run` argument in `run()` method. We can specify either the indices or the names of the test that we want to run. Let's see an example to execute only the test that failed previously. Note that we need to create the test suite each time we run the suite."
   ]
  },
  {
   "cell_type": "code",
   "execution_count": 15,
   "id": "oaC46UjMINBL",
   "metadata": {
    "colab": {
     "base_uri": "https://localhost:8080/",
     "height": 269
    },
    "id": "oaC46UjMINBL",
    "outputId": "853818a7-ac0e-4c45-d61c-43d2c5c206a0"
   },
   "outputs": [
    {
     "data": {
      "text/html": [
       "<div>\n",
       "<style scoped>\n",
       "    .dataframe tbody tr th:only-of-type {\n",
       "        vertical-align: middle;\n",
       "    }\n",
       "\n",
       "    .dataframe tbody tr th {\n",
       "        vertical-align: top;\n",
       "    }\n",
       "\n",
       "    .dataframe thead th {\n",
       "        text-align: right;\n",
       "    }\n",
       "</style>\n",
       "<table border=\"1\" class=\"dataframe\">\n",
       "  <thead>\n",
       "    <tr style=\"text-align: right;\">\n",
       "      <th></th>\n",
       "      <th>name</th>\n",
       "      <th>state</th>\n",
       "      <th>error</th>\n",
       "      <th>info</th>\n",
       "    </tr>\n",
       "  </thead>\n",
       "  <tbody>\n",
       "    <tr>\n",
       "      <th>0</th>\n",
       "      <td>SampleLeakingTest</td>\n",
       "      <td>TestState.SUCCESS</td>\n",
       "      <td></td>\n",
       "      <td>{'num_duplicated': 0, 'percentage_duplicated': 0.0}</td>\n",
       "    </tr>\n",
       "    <tr>\n",
       "      <th>1</th>\n",
       "      <td>NoDuplicatesTest</td>\n",
       "      <td>TestState.SUCCESS</td>\n",
       "      <td></td>\n",
       "      <td>{'num_duplicated': 0, 'index_duplicates': []}</td>\n",
       "    </tr>\n",
       "    <tr>\n",
       "      <th>2</th>\n",
       "      <td>LinearCombinationsTest</td>\n",
       "      <td>TestState.NOT_EXECUTED</td>\n",
       "      <td></td>\n",
       "      <td>None</td>\n",
       "    </tr>\n",
       "    <tr>\n",
       "      <th>3</th>\n",
       "      <td>LabelLeakingTest</td>\n",
       "      <td>TestState.NOT_EXECUTED</td>\n",
       "      <td></td>\n",
       "      <td>None</td>\n",
       "    </tr>\n",
       "    <tr>\n",
       "      <th>4</th>\n",
       "      <td>NoisyLabelsTest</td>\n",
       "      <td>TestState.NOT_EXECUTED</td>\n",
       "      <td></td>\n",
       "      <td>None</td>\n",
       "    </tr>\n",
       "    <tr>\n",
       "      <th>5</th>\n",
       "      <td>ModelReproducibilityTest</td>\n",
       "      <td>TestState.SUCCESS</td>\n",
       "      <td></td>\n",
       "      <td>None</td>\n",
       "    </tr>\n",
       "    <tr>\n",
       "      <th>6</th>\n",
       "      <td>TreeCoverageTest</td>\n",
       "      <td>TestState.SUCCESS</td>\n",
       "      <td></td>\n",
       "      <td>{'coverage': 0.9639066880256307}</td>\n",
       "    </tr>\n",
       "  </tbody>\n",
       "</table>\n",
       "</div>"
      ],
      "text/plain": [
       "                       name                   state error  \\\n",
       "0         SampleLeakingTest       TestState.SUCCESS         \n",
       "1          NoDuplicatesTest       TestState.SUCCESS         \n",
       "2    LinearCombinationsTest  TestState.NOT_EXECUTED         \n",
       "3          LabelLeakingTest  TestState.NOT_EXECUTED         \n",
       "4           NoisyLabelsTest  TestState.NOT_EXECUTED         \n",
       "5  ModelReproducibilityTest       TestState.SUCCESS         \n",
       "6          TreeCoverageTest       TestState.SUCCESS         \n",
       "\n",
       "                                                  info  \n",
       "0  {'num_duplicated': 0, 'percentage_duplicated': 0.0}  \n",
       "1        {'num_duplicated': 0, 'index_duplicates': []}  \n",
       "2                                                 None  \n",
       "3                                                 None  \n",
       "4                                                 None  \n",
       "5                                                 None  \n",
       "6                     {'coverage': 0.9639066880256307}  "
      ]
     },
     "execution_count": 15,
     "metadata": {},
     "output_type": "execute_result"
    }
   ],
   "source": [
    "test_suite = create_suite(df_train, df_test, unfitted_pipeline, fitted_pipeline, label_col, num_feats, cat_feats, schma_reference)\n",
    "test_results = test_suite.run(tests_to_run=[0,1,5,6])\n",
    "test_suite.get_results_as_df()"
   ]
  },
  {
   "cell_type": "markdown",
   "id": "wWv7d_TxINBL",
   "metadata": {
    "id": "wWv7d_TxINBL"
   },
   "source": [
    "Alternatively, in the previous cell you could have specified the name of the tests in `test_to_execute` argument, ie: `test_to_execute=['SampleLeakingTest', 'NoDuplicatesTest', 'ModelReproducibilityTest', 'TreeCoverageTest']`"
   ]
  },
  {
   "cell_type": "markdown",
   "id": "oQZ0vkkWINBL",
   "metadata": {
    "id": "oQZ0vkkWINBL"
   },
   "source": [
    "Now that we see that the previously failing tests are passing, let's execute all the suite again. Again, we create the `TestSuite` object again."
   ]
  },
  {
   "cell_type": "code",
   "execution_count": 16,
   "id": "W7-Uy8dJINBL",
   "metadata": {
    "colab": {
     "base_uri": "https://localhost:8080/",
     "height": 417
    },
    "id": "W7-Uy8dJINBL",
    "outputId": "d08102a7-704b-4804-d38d-52e225f6081b"
   },
   "outputs": [
    {
     "data": {
      "text/html": [
       "<div>\n",
       "<style scoped>\n",
       "    .dataframe tbody tr th:only-of-type {\n",
       "        vertical-align: middle;\n",
       "    }\n",
       "\n",
       "    .dataframe tbody tr th {\n",
       "        vertical-align: top;\n",
       "    }\n",
       "\n",
       "    .dataframe thead th {\n",
       "        text-align: right;\n",
       "    }\n",
       "</style>\n",
       "<table border=\"1\" class=\"dataframe\">\n",
       "  <thead>\n",
       "    <tr style=\"text-align: right;\">\n",
       "      <th></th>\n",
       "      <th>name</th>\n",
       "      <th>state</th>\n",
       "      <th>error</th>\n",
       "      <th>info</th>\n",
       "    </tr>\n",
       "  </thead>\n",
       "  <tbody>\n",
       "    <tr>\n",
       "      <th>0</th>\n",
       "      <td>SampleLeakingTest</td>\n",
       "      <td>TestState.SUCCESS</td>\n",
       "      <td></td>\n",
       "      <td>{'num_duplicated': 0, 'percentage_duplicated': 0.0}</td>\n",
       "    </tr>\n",
       "    <tr>\n",
       "      <th>1</th>\n",
       "      <td>NoDuplicatesTest</td>\n",
       "      <td>TestState.SUCCESS</td>\n",
       "      <td></td>\n",
       "      <td>{'num_duplicated': 0, 'index_duplicates': []}</td>\n",
       "    </tr>\n",
       "    <tr>\n",
       "      <th>2</th>\n",
       "      <td>LinearCombinationsTest</td>\n",
       "      <td>TestState.SUCCESS</td>\n",
       "      <td></td>\n",
       "      <td>None</td>\n",
       "    </tr>\n",
       "    <tr>\n",
       "      <th>3</th>\n",
       "      <td>LabelLeakingTest</td>\n",
       "      <td>TestState.SUCCESS</td>\n",
       "      <td></td>\n",
       "      <td>{'importances': {'LIMIT_BAL': 0.5, 'PAY_AMT4': 0.5, 'PAY_AMT3': 0.5, 'AGE': 0.5, 'PAY_AMT6': 0.5, 'SEX': 0.5, 'EDUCATION': 0.5, 'MARRIAGE': 0.5, 'PAY_AMT5': 0.5002164502164502, 'BILL_AMT6': 0.5003246753246753, 'BILL_AMT4': 0.5004329004329005, 'PAY_AMT2': 0.5005105687972522, 'BILL_AMT5': 0.5005411255411255, 'PAY_AMT1': 0.500696462269829, 'BILL_AMT3': 0.5007575757575757, 'BILL_AMT2': 0.5012872524407695, 'BILL_AMT1': 0.5015202575338247, 'PAY_6': 0.5907241498545049, 'PAY_5': 0.5970736891090739, 'PAY_4': 0.609751503563763, 'PAY_3': 0.6257576088276449, 'PAY_0': 0.6428361169071919, 'PAY_2': 0.6474076571231737}}</td>\n",
       "    </tr>\n",
       "    <tr>\n",
       "      <th>4</th>\n",
       "      <td>NoisyLabelsTest</td>\n",
       "      <td>TestState.SUCCESS</td>\n",
       "      <td></td>\n",
       "      <td>{'rate_issues': 0.18624600867368823}</td>\n",
       "    </tr>\n",
       "    <tr>\n",
       "      <th>5</th>\n",
       "      <td>ModelReproducibilityTest</td>\n",
       "      <td>TestState.SUCCESS</td>\n",
       "      <td></td>\n",
       "      <td>None</td>\n",
       "    </tr>\n",
       "    <tr>\n",
       "      <th>6</th>\n",
       "      <td>TreeCoverageTest</td>\n",
       "      <td>TestState.SUCCESS</td>\n",
       "      <td></td>\n",
       "      <td>{'coverage': 0.9639066880256307}</td>\n",
       "    </tr>\n",
       "  </tbody>\n",
       "</table>\n",
       "</div>"
      ],
      "text/plain": [
       "                       name              state error  \\\n",
       "0         SampleLeakingTest  TestState.SUCCESS         \n",
       "1          NoDuplicatesTest  TestState.SUCCESS         \n",
       "2    LinearCombinationsTest  TestState.SUCCESS         \n",
       "3          LabelLeakingTest  TestState.SUCCESS         \n",
       "4           NoisyLabelsTest  TestState.SUCCESS         \n",
       "5  ModelReproducibilityTest  TestState.SUCCESS         \n",
       "6          TreeCoverageTest  TestState.SUCCESS         \n",
       "\n",
       "                                                                                                                                                                                                                                                                                                                                                                                                                                                                                                                                                                                                                                  info  \n",
       "0                                                                                                                                                                                                                                                                                                                                                                                                                                                                                                                                                                                  {'num_duplicated': 0, 'percentage_duplicated': 0.0}  \n",
       "1                                                                                                                                                                                                                                                                                                                                                                                                                                                                                                                                                                                        {'num_duplicated': 0, 'index_duplicates': []}  \n",
       "2                                                                                                                                                                                                                                                                                                                                                                                                                                                                                                                                                                                                                                 None  \n",
       "3  {'importances': {'LIMIT_BAL': 0.5, 'PAY_AMT4': 0.5, 'PAY_AMT3': 0.5, 'AGE': 0.5, 'PAY_AMT6': 0.5, 'SEX': 0.5, 'EDUCATION': 0.5, 'MARRIAGE': 0.5, 'PAY_AMT5': 0.5002164502164502, 'BILL_AMT6': 0.5003246753246753, 'BILL_AMT4': 0.5004329004329005, 'PAY_AMT2': 0.5005105687972522, 'BILL_AMT5': 0.5005411255411255, 'PAY_AMT1': 0.500696462269829, 'BILL_AMT3': 0.5007575757575757, 'BILL_AMT2': 0.5012872524407695, 'BILL_AMT1': 0.5015202575338247, 'PAY_6': 0.5907241498545049, 'PAY_5': 0.5970736891090739, 'PAY_4': 0.609751503563763, 'PAY_3': 0.6257576088276449, 'PAY_0': 0.6428361169071919, 'PAY_2': 0.6474076571231737}}  \n",
       "4                                                                                                                                                                                                                                                                                                                                                                                                                                                                                                                                                                                                 {'rate_issues': 0.18624600867368823}  \n",
       "5                                                                                                                                                                                                                                                                                                                                                                                                                                                                                                                                                                                                                                 None  \n",
       "6                                                                                                                                                                                                                                                                                                                                                                                                                                                                                                                                                                                                     {'coverage': 0.9639066880256307}  "
      ]
     },
     "execution_count": 16,
     "metadata": {},
     "output_type": "execute_result"
    }
   ],
   "source": [
    "test_suite = create_suite(df_train, df_test, unfitted_pipeline, fitted_pipeline, label_col, num_feats, cat_feats, schma_reference)\n",
    "test_results = test_suite.run()\n",
    "test_suite.get_results_as_df()"
   ]
  },
  {
   "cell_type": "markdown",
   "id": "JxP4okbQINBL",
   "metadata": {
    "id": "JxP4okbQINBL"
   },
   "source": [
    "We see now that all the tests have passed!\n"
   ]
  },
  {
   "cell_type": "code",
   "execution_count": null,
   "id": "3c6a2552",
   "metadata": {},
   "outputs": [],
   "source": []
  }
 ],
 "metadata": {
  "colab": {
   "provenance": []
  },
  "kernelspec": {
   "display_name": "Python 3 (ipykernel)",
   "language": "python",
   "name": "python3"
  },
  "language_info": {
   "codemirror_mode": {
    "name": "ipython",
    "version": 3
   },
   "file_extension": ".py",
   "mimetype": "text/x-python",
   "name": "python",
   "nbconvert_exporter": "python",
   "pygments_lexer": "ipython3",
   "version": "3.9.13"
  }
 },
 "nbformat": 4,
 "nbformat_minor": 5
}
