{
  "cells": [
    {
      "cell_type": "markdown",
      "id": "c00b1059",
      "metadata": {
        "id": "c00b1059"
      },
      "source": [
        "# Robust ML Testing (Tests Example)\n",
        "\n",
        "This notebook shows several automatic tests which can be included within your ML pipeline in order to ensure robustness against bugs, drift or oversights."
      ]
    },
    {
      "cell_type": "code",
      "execution_count": 1,
      "id": "b19c5cf4",
      "metadata": {
        "id": "b19c5cf4"
      },
      "outputs": [],
      "source": [
        "import numpy as np\n",
        "import pandas as pd\n",
        "import seaborn as sns\n",
        "import matplotlib.pyplot as plt"
      ]
    },
    {
      "cell_type": "code",
      "execution_count": 2,
      "id": "82498f8b",
      "metadata": {
        "id": "82498f8b"
      },
      "outputs": [],
      "source": [
        "from mercury.dataschema import DataSchema\n",
        "from mercury.dataschema.feature import FeatType\n",
        "\n",
        "from mercury.robust.data_tests import (\n",
        "    SameSchemaTest, \n",
        "    DriftTest,\n",
        "    LinearCombinationsTest,\n",
        "    LabelLeakingTest,\n",
        "    NoisyLabelsTest,\n",
        "    CohortPerformanceTest\n",
        ")"
      ]
    },
    {
      "cell_type": "markdown",
      "id": "673edaeb",
      "metadata": {
        "id": "673edaeb"
      },
      "source": [
        "## Load Dataset\n",
        "\n",
        "Here we will use the **Titanic** and **Tips** datasets in some of the robust tests. We will be manually altering it for running the different tests for showing how they can detect failures.\n"
      ]
    },
    {
      "cell_type": "code",
      "execution_count": 3,
      "id": "b5699f26",
      "metadata": {
        "id": "b5699f26"
      },
      "outputs": [],
      "source": [
        "tips = sns.load_dataset(\"tips\")"
      ]
    },
    {
      "cell_type": "code",
      "execution_count": 4,
      "id": "ff618629",
      "metadata": {
        "id": "ff618629"
      },
      "outputs": [],
      "source": [
        "#titanic = Titanic().load()\n",
        "titanic = sns.load_dataset(\"titanic\")\n",
        "isna_deck = titanic.deck.isna()\n",
        "titanic['class'] = titanic['class'].astype(str)\n",
        "titanic['deck'] = titanic['deck'].astype(str)\n",
        "titanic['who'] = titanic['who'].astype(str)\n",
        "titanic.loc[isna_deck, 'deck'] = np.nan"
      ]
    },
    {
      "cell_type": "code",
      "execution_count": 5,
      "id": "d754b505",
      "metadata": {
        "colab": {
          "base_uri": "https://localhost:8080/",
          "height": 206
        },
        "id": "d754b505",
        "outputId": "48de28df-0d79-4098-99ae-546e9d4e5c81"
      },
      "outputs": [
        {
          "output_type": "execute_result",
          "data": {
            "text/plain": [
              "   survived  pclass     sex   age  sibsp  parch     fare embarked  class  \\\n",
              "0         0       3    male  22.0      1      0   7.2500        S  Third   \n",
              "1         1       1  female  38.0      1      0  71.2833        C  First   \n",
              "2         1       3  female  26.0      0      0   7.9250        S  Third   \n",
              "3         1       1  female  35.0      1      0  53.1000        S  First   \n",
              "4         0       3    male  35.0      0      0   8.0500        S  Third   \n",
              "\n",
              "     who  adult_male deck  embark_town alive  alone  \n",
              "0    man        True  NaN  Southampton    no  False  \n",
              "1  woman       False    C    Cherbourg   yes  False  \n",
              "2  woman       False  NaN  Southampton   yes   True  \n",
              "3  woman       False    C  Southampton   yes  False  \n",
              "4    man        True  NaN  Southampton    no   True  "
            ],
            "text/html": [
              "\n",
              "  <div id=\"df-e38befde-f954-4698-8930-94971a5b9680\">\n",
              "    <div class=\"colab-df-container\">\n",
              "      <div>\n",
              "<style scoped>\n",
              "    .dataframe tbody tr th:only-of-type {\n",
              "        vertical-align: middle;\n",
              "    }\n",
              "\n",
              "    .dataframe tbody tr th {\n",
              "        vertical-align: top;\n",
              "    }\n",
              "\n",
              "    .dataframe thead th {\n",
              "        text-align: right;\n",
              "    }\n",
              "</style>\n",
              "<table border=\"1\" class=\"dataframe\">\n",
              "  <thead>\n",
              "    <tr style=\"text-align: right;\">\n",
              "      <th></th>\n",
              "      <th>survived</th>\n",
              "      <th>pclass</th>\n",
              "      <th>sex</th>\n",
              "      <th>age</th>\n",
              "      <th>sibsp</th>\n",
              "      <th>parch</th>\n",
              "      <th>fare</th>\n",
              "      <th>embarked</th>\n",
              "      <th>class</th>\n",
              "      <th>who</th>\n",
              "      <th>adult_male</th>\n",
              "      <th>deck</th>\n",
              "      <th>embark_town</th>\n",
              "      <th>alive</th>\n",
              "      <th>alone</th>\n",
              "    </tr>\n",
              "  </thead>\n",
              "  <tbody>\n",
              "    <tr>\n",
              "      <th>0</th>\n",
              "      <td>0</td>\n",
              "      <td>3</td>\n",
              "      <td>male</td>\n",
              "      <td>22.0</td>\n",
              "      <td>1</td>\n",
              "      <td>0</td>\n",
              "      <td>7.2500</td>\n",
              "      <td>S</td>\n",
              "      <td>Third</td>\n",
              "      <td>man</td>\n",
              "      <td>True</td>\n",
              "      <td>NaN</td>\n",
              "      <td>Southampton</td>\n",
              "      <td>no</td>\n",
              "      <td>False</td>\n",
              "    </tr>\n",
              "    <tr>\n",
              "      <th>1</th>\n",
              "      <td>1</td>\n",
              "      <td>1</td>\n",
              "      <td>female</td>\n",
              "      <td>38.0</td>\n",
              "      <td>1</td>\n",
              "      <td>0</td>\n",
              "      <td>71.2833</td>\n",
              "      <td>C</td>\n",
              "      <td>First</td>\n",
              "      <td>woman</td>\n",
              "      <td>False</td>\n",
              "      <td>C</td>\n",
              "      <td>Cherbourg</td>\n",
              "      <td>yes</td>\n",
              "      <td>False</td>\n",
              "    </tr>\n",
              "    <tr>\n",
              "      <th>2</th>\n",
              "      <td>1</td>\n",
              "      <td>3</td>\n",
              "      <td>female</td>\n",
              "      <td>26.0</td>\n",
              "      <td>0</td>\n",
              "      <td>0</td>\n",
              "      <td>7.9250</td>\n",
              "      <td>S</td>\n",
              "      <td>Third</td>\n",
              "      <td>woman</td>\n",
              "      <td>False</td>\n",
              "      <td>NaN</td>\n",
              "      <td>Southampton</td>\n",
              "      <td>yes</td>\n",
              "      <td>True</td>\n",
              "    </tr>\n",
              "    <tr>\n",
              "      <th>3</th>\n",
              "      <td>1</td>\n",
              "      <td>1</td>\n",
              "      <td>female</td>\n",
              "      <td>35.0</td>\n",
              "      <td>1</td>\n",
              "      <td>0</td>\n",
              "      <td>53.1000</td>\n",
              "      <td>S</td>\n",
              "      <td>First</td>\n",
              "      <td>woman</td>\n",
              "      <td>False</td>\n",
              "      <td>C</td>\n",
              "      <td>Southampton</td>\n",
              "      <td>yes</td>\n",
              "      <td>False</td>\n",
              "    </tr>\n",
              "    <tr>\n",
              "      <th>4</th>\n",
              "      <td>0</td>\n",
              "      <td>3</td>\n",
              "      <td>male</td>\n",
              "      <td>35.0</td>\n",
              "      <td>0</td>\n",
              "      <td>0</td>\n",
              "      <td>8.0500</td>\n",
              "      <td>S</td>\n",
              "      <td>Third</td>\n",
              "      <td>man</td>\n",
              "      <td>True</td>\n",
              "      <td>NaN</td>\n",
              "      <td>Southampton</td>\n",
              "      <td>no</td>\n",
              "      <td>True</td>\n",
              "    </tr>\n",
              "  </tbody>\n",
              "</table>\n",
              "</div>\n",
              "      <button class=\"colab-df-convert\" onclick=\"convertToInteractive('df-e38befde-f954-4698-8930-94971a5b9680')\"\n",
              "              title=\"Convert this dataframe to an interactive table.\"\n",
              "              style=\"display:none;\">\n",
              "        \n",
              "  <svg xmlns=\"http://www.w3.org/2000/svg\" height=\"24px\"viewBox=\"0 0 24 24\"\n",
              "       width=\"24px\">\n",
              "    <path d=\"M0 0h24v24H0V0z\" fill=\"none\"/>\n",
              "    <path d=\"M18.56 5.44l.94 2.06.94-2.06 2.06-.94-2.06-.94-.94-2.06-.94 2.06-2.06.94zm-11 1L8.5 8.5l.94-2.06 2.06-.94-2.06-.94L8.5 2.5l-.94 2.06-2.06.94zm10 10l.94 2.06.94-2.06 2.06-.94-2.06-.94-.94-2.06-.94 2.06-2.06.94z\"/><path d=\"M17.41 7.96l-1.37-1.37c-.4-.4-.92-.59-1.43-.59-.52 0-1.04.2-1.43.59L10.3 9.45l-7.72 7.72c-.78.78-.78 2.05 0 2.83L4 21.41c.39.39.9.59 1.41.59.51 0 1.02-.2 1.41-.59l7.78-7.78 2.81-2.81c.8-.78.8-2.07 0-2.86zM5.41 20L4 18.59l7.72-7.72 1.47 1.35L5.41 20z\"/>\n",
              "  </svg>\n",
              "      </button>\n",
              "      \n",
              "  <style>\n",
              "    .colab-df-container {\n",
              "      display:flex;\n",
              "      flex-wrap:wrap;\n",
              "      gap: 12px;\n",
              "    }\n",
              "\n",
              "    .colab-df-convert {\n",
              "      background-color: #E8F0FE;\n",
              "      border: none;\n",
              "      border-radius: 50%;\n",
              "      cursor: pointer;\n",
              "      display: none;\n",
              "      fill: #1967D2;\n",
              "      height: 32px;\n",
              "      padding: 0 0 0 0;\n",
              "      width: 32px;\n",
              "    }\n",
              "\n",
              "    .colab-df-convert:hover {\n",
              "      background-color: #E2EBFA;\n",
              "      box-shadow: 0px 1px 2px rgba(60, 64, 67, 0.3), 0px 1px 3px 1px rgba(60, 64, 67, 0.15);\n",
              "      fill: #174EA6;\n",
              "    }\n",
              "\n",
              "    [theme=dark] .colab-df-convert {\n",
              "      background-color: #3B4455;\n",
              "      fill: #D2E3FC;\n",
              "    }\n",
              "\n",
              "    [theme=dark] .colab-df-convert:hover {\n",
              "      background-color: #434B5C;\n",
              "      box-shadow: 0px 1px 3px 1px rgba(0, 0, 0, 0.15);\n",
              "      filter: drop-shadow(0px 1px 2px rgba(0, 0, 0, 0.3));\n",
              "      fill: #FFFFFF;\n",
              "    }\n",
              "  </style>\n",
              "\n",
              "      <script>\n",
              "        const buttonEl =\n",
              "          document.querySelector('#df-e38befde-f954-4698-8930-94971a5b9680 button.colab-df-convert');\n",
              "        buttonEl.style.display =\n",
              "          google.colab.kernel.accessAllowed ? 'block' : 'none';\n",
              "\n",
              "        async function convertToInteractive(key) {\n",
              "          const element = document.querySelector('#df-e38befde-f954-4698-8930-94971a5b9680');\n",
              "          const dataTable =\n",
              "            await google.colab.kernel.invokeFunction('convertToInteractive',\n",
              "                                                     [key], {});\n",
              "          if (!dataTable) return;\n",
              "\n",
              "          const docLinkHtml = 'Like what you see? Visit the ' +\n",
              "            '<a target=\"_blank\" href=https://colab.research.google.com/notebooks/data_table.ipynb>data table notebook</a>'\n",
              "            + ' to learn more about interactive tables.';\n",
              "          element.innerHTML = '';\n",
              "          dataTable['output_type'] = 'display_data';\n",
              "          await google.colab.output.renderOutput(dataTable, element);\n",
              "          const docLink = document.createElement('div');\n",
              "          docLink.innerHTML = docLinkHtml;\n",
              "          element.appendChild(docLink);\n",
              "        }\n",
              "      </script>\n",
              "    </div>\n",
              "  </div>\n",
              "  "
            ]
          },
          "metadata": {},
          "execution_count": 5
        }
      ],
      "source": [
        "titanic.head(5)"
      ]
    },
    {
      "cell_type": "markdown",
      "id": "275f1b31",
      "metadata": {
        "id": "275f1b31"
      },
      "source": [
        "## Robust Test\n",
        "\n",
        "Next, we show examples of different tests. You can follow the tutorial executing all the test or you can jump to the tests that you are more interested:\n",
        "\n",
        "#### [Same Schema Test](#same_schema)\n",
        "#### [Data Drift Test](#data_drift)\n",
        "#### [Linear Combinations Test](#linear_combinations)\n",
        "#### [Label Leaking Test](#label_leaking)\n",
        "#### [Noisy Labels Test](#noisy_labels)\n",
        "#### [Cohort Performance Test](#cohort_performance)\n",
        "#### [Model Reproducibility Test](#model_reproducibility)\n",
        "#### [Model Simplicity Test](#model_simplicity)\n",
        "#### [Drift Resistance Test](#drift_resistance)\n",
        "#### [Sample Leaking Test](#sample_leaking)\n",
        "#### [Feature Checker Test](#feature_checker)"
      ]
    },
    {
      "cell_type": "markdown",
      "id": "181badf3",
      "metadata": {
        "id": "181badf3"
      },
      "source": [
        "<a id=\"same_schema\"></a>\n",
        "### Same Schema Test example\n",
        "\n",
        "This test ensures a dataset (or new batch of data) shares the same schema as an original dataset. If the schema of the new data changes, for any reason (e.g. errors/changes on ETL processes), the test will detect it and will fail."
      ]
    },
    {
      "cell_type": "code",
      "execution_count": 6,
      "id": "9c38f513",
      "metadata": {
        "id": "9c38f513"
      },
      "outputs": [],
      "source": [
        "titanic2 = titanic.copy() # Make an unaltered copy"
      ]
    },
    {
      "cell_type": "markdown",
      "id": "dca60bf0",
      "metadata": {
        "id": "dca60bf0"
      },
      "source": [
        "For this test, we first need to have an already built **Mercury's `DataSchema`** object with the schema of the original dataset (e.g. training data). Note it doesn't need to be generated on every test, as it can also be serialized and loaded back."
      ]
    },
    {
      "cell_type": "code",
      "execution_count": 7,
      "id": "fd0817f8",
      "metadata": {
        "colab": {
          "base_uri": "https://localhost:8080/"
        },
        "id": "fd0817f8",
        "outputId": "b858597e-4907-4956-de61-4bb8ee6903c0"
      },
      "outputs": [
        {
          "output_type": "stream",
          "name": "stderr",
          "text": [
            "/usr/local/lib/python3.9/dist-packages/mercury/dataschema/feature.py:306: RuntimeWarning: INTEGER feature pclass converted to Categorical because percentage of unique values 0.003367003367003367 is lower than threshold 0.05611672278338945\n",
            "  warnings.warn(\n",
            "/usr/local/lib/python3.9/dist-packages/mercury/dataschema/feature.py:306: RuntimeWarning: INTEGER feature sibsp converted to Categorical because percentage of unique values 0.007856341189674524 is lower than threshold 0.05611672278338945\n",
            "  warnings.warn(\n",
            "/usr/local/lib/python3.9/dist-packages/mercury/dataschema/feature.py:306: RuntimeWarning: INTEGER feature parch converted to Categorical because percentage of unique values 0.007856341189674524 is lower than threshold 0.05611672278338945\n",
            "  warnings.warn(\n"
          ]
        }
      ],
      "source": [
        "# Schema of the original dataset\n",
        "schma_reference = DataSchema().generate(titanic).calculate_statistics()"
      ]
    },
    {
      "cell_type": "markdown",
      "id": "d5101bcc",
      "metadata": {
        "id": "d5101bcc"
      },
      "source": [
        "Create and execute this single test. It will pass because the original schema has not been altered"
      ]
    },
    {
      "cell_type": "code",
      "execution_count": 8,
      "id": "d117f20a",
      "metadata": {
        "colab": {
          "base_uri": "https://localhost:8080/",
          "height": 606
        },
        "id": "d117f20a",
        "outputId": "c35b092a-1afb-4169-f6dd-6da6d632c053"
      },
      "outputs": [
        {
          "output_type": "stream",
          "name": "stderr",
          "text": [
            "/usr/local/lib/python3.9/dist-packages/mercury/contrib/dataschema/feature.py:308: RuntimeWarning: INTEGER feature pclass converted to Categorical because percentage of unique values 0.003367003367003367 is lower than threshold 0.05611672278338945\n",
            "  warnings.warn(\n",
            "/usr/local/lib/python3.9/dist-packages/mercury/contrib/dataschema/feature.py:308: RuntimeWarning: INTEGER feature sibsp converted to Categorical because percentage of unique values 0.007856341189674524 is lower than threshold 0.05611672278338945\n",
            "  warnings.warn(\n",
            "/usr/local/lib/python3.9/dist-packages/mercury/contrib/dataschema/feature.py:308: RuntimeWarning: INTEGER feature parch converted to Categorical because percentage of unique values 0.007856341189674524 is lower than threshold 0.05611672278338945\n",
            "  warnings.warn(\n"
          ]
        },
        {
          "output_type": "error",
          "ename": "FailedTestError",
          "evalue": "ignored",
          "traceback": [
            "\u001b[0;31m---------------------------------------------------------------------------\u001b[0m",
            "\u001b[0;31mRuntimeError\u001b[0m                              Traceback (most recent call last)",
            "\u001b[0;32m/usr/local/lib/python3.9/dist-packages/mercury/robust/data_tests.py\u001b[0m in \u001b[0;36mrun\u001b[0;34m(self, *args, **kwargs)\u001b[0m\n\u001b[1;32m     71\u001b[0m         \u001b[0;32mtry\u001b[0m\u001b[0;34m:\u001b[0m\u001b[0;34m\u001b[0m\u001b[0;34m\u001b[0m\u001b[0m\n\u001b[0;32m---> 72\u001b[0;31m             \u001b[0mself\u001b[0m\u001b[0;34m.\u001b[0m\u001b[0mschema_ref\u001b[0m\u001b[0;34m.\u001b[0m\u001b[0mvalidate\u001b[0m\u001b[0;34m(\u001b[0m\u001b[0mcurrent_schema\u001b[0m\u001b[0;34m)\u001b[0m\u001b[0;34m\u001b[0m\u001b[0;34m\u001b[0m\u001b[0m\n\u001b[0m\u001b[1;32m     73\u001b[0m         \u001b[0;32mexcept\u001b[0m \u001b[0mRuntimeError\u001b[0m \u001b[0;32mas\u001b[0m \u001b[0me\u001b[0m\u001b[0;34m:\u001b[0m\u001b[0;34m\u001b[0m\u001b[0;34m\u001b[0m\u001b[0m\n",
            "\u001b[0;32m/usr/local/lib/python3.9/dist-packages/mercury/dataschema/schemagen.py\u001b[0m in \u001b[0;36mvalidate\u001b[0;34m(self, other)\u001b[0m\n\u001b[1;32m    338\u001b[0m             \u001b[0;32mif\u001b[0m \u001b[0;32mnot\u001b[0m \u001b[0misinstance\u001b[0m\u001b[0;34m(\u001b[0m\u001b[0mitem\u001b[0m\u001b[0;34m,\u001b[0m \u001b[0mself\u001b[0m\u001b[0;34m.\u001b[0m\u001b[0mfeats\u001b[0m\u001b[0;34m[\u001b[0m\u001b[0mkey\u001b[0m\u001b[0;34m]\u001b[0m\u001b[0;34m.\u001b[0m\u001b[0m__class__\u001b[0m\u001b[0;34m)\u001b[0m\u001b[0;34m:\u001b[0m\u001b[0;34m\u001b[0m\u001b[0;34m\u001b[0m\u001b[0m\n\u001b[0;32m--> 339\u001b[0;31m                 raise RuntimeError(f\"\"\"Feature types do not match. '{key}' in other is \"\"\"\n\u001b[0m\u001b[1;32m    340\u001b[0m                                    f\"\"\"{type(item)}. However, {type(self.feats[key])} is expected.\"\"\")\n",
            "\u001b[0;31mRuntimeError\u001b[0m: Feature types do not match. 'survived' in other is <class 'mercury.contrib.dataschema.feature.BinaryFeature'>. However, <class 'mercury.dataschema.feature.BinaryFeature'> is expected.",
            "\nDuring handling of the above exception, another exception occurred:\n",
            "\u001b[0;31mFailedTestError\u001b[0m                           Traceback (most recent call last)",
            "\u001b[0;32m<ipython-input-8-4c3b42684a82>\u001b[0m in \u001b[0;36m<cell line: 1>\u001b[0;34m()\u001b[0m\n\u001b[0;32m----> 1\u001b[0;31m \u001b[0mSameSchemaTest\u001b[0m\u001b[0;34m(\u001b[0m\u001b[0mtitanic2\u001b[0m\u001b[0;34m,\u001b[0m \u001b[0mschma_reference\u001b[0m\u001b[0;34m)\u001b[0m\u001b[0;34m.\u001b[0m\u001b[0mrun\u001b[0m\u001b[0;34m(\u001b[0m\u001b[0;34m)\u001b[0m\u001b[0;34m\u001b[0m\u001b[0;34m\u001b[0m\u001b[0m\n\u001b[0m",
            "\u001b[0;32m/usr/local/lib/python3.9/dist-packages/mercury/insight/decorators.py\u001b[0m in \u001b[0;36mwrapped\u001b[0;34m(self, *args, **kwargs)\u001b[0m\n\u001b[1;32m     70\u001b[0m                 \u001b[0mfunc\u001b[0m \u001b[0;34m=\u001b[0m \u001b[0mtarget\u001b[0m\u001b[0;34m(\u001b[0m\u001b[0mself\u001b[0m\u001b[0;34m,\u001b[0m \u001b[0;34m*\u001b[0m\u001b[0margs\u001b[0m\u001b[0;34m,\u001b[0m \u001b[0;34m**\u001b[0m\u001b[0mkwargs\u001b[0m\u001b[0;34m)\u001b[0m\u001b[0;34m\u001b[0m\u001b[0;34m\u001b[0m\u001b[0m\n\u001b[1;32m     71\u001b[0m         \u001b[0;32mexcept\u001b[0m \u001b[0mException\u001b[0m \u001b[0;32mas\u001b[0m \u001b[0me\u001b[0m\u001b[0;34m:\u001b[0m\u001b[0;34m\u001b[0m\u001b[0;34m\u001b[0m\u001b[0m\n\u001b[0;32m---> 72\u001b[0;31m             \u001b[0;32mraise\u001b[0m \u001b[0me\u001b[0m\u001b[0;34m\u001b[0m\u001b[0;34m\u001b[0m\u001b[0m\n\u001b[0m\u001b[1;32m     73\u001b[0m         \u001b[0;32mfinally\u001b[0m\u001b[0;34m:\u001b[0m\u001b[0;34m\u001b[0m\u001b[0;34m\u001b[0m\u001b[0m\n\u001b[1;32m     74\u001b[0m             \u001b[0;31m# Re-enable the logger\u001b[0m\u001b[0;34m\u001b[0m\u001b[0;34m\u001b[0m\u001b[0m\n",
            "\u001b[0;32m/usr/local/lib/python3.9/dist-packages/mercury/insight/decorators.py\u001b[0m in \u001b[0;36mwrapped\u001b[0;34m(self, *args, **kwargs)\u001b[0m\n\u001b[1;32m     68\u001b[0m             \u001b[0mlgr\u001b[0m\u001b[0;34m.\u001b[0m\u001b[0menabled\u001b[0m \u001b[0;34m=\u001b[0m \u001b[0;32mFalse\u001b[0m\u001b[0;34m\u001b[0m\u001b[0;34m\u001b[0m\u001b[0m\n\u001b[1;32m     69\u001b[0m             \u001b[0;32mwith\u001b[0m \u001b[0mlgr\u001b[0m\u001b[0;34m:\u001b[0m\u001b[0;34m\u001b[0m\u001b[0;34m\u001b[0m\u001b[0m\n\u001b[0;32m---> 70\u001b[0;31m                 \u001b[0mfunc\u001b[0m \u001b[0;34m=\u001b[0m \u001b[0mtarget\u001b[0m\u001b[0;34m(\u001b[0m\u001b[0mself\u001b[0m\u001b[0;34m,\u001b[0m \u001b[0;34m*\u001b[0m\u001b[0margs\u001b[0m\u001b[0;34m,\u001b[0m \u001b[0;34m**\u001b[0m\u001b[0mkwargs\u001b[0m\u001b[0;34m)\u001b[0m\u001b[0;34m\u001b[0m\u001b[0;34m\u001b[0m\u001b[0m\n\u001b[0m\u001b[1;32m     71\u001b[0m         \u001b[0;32mexcept\u001b[0m \u001b[0mException\u001b[0m \u001b[0;32mas\u001b[0m \u001b[0me\u001b[0m\u001b[0;34m:\u001b[0m\u001b[0;34m\u001b[0m\u001b[0;34m\u001b[0m\u001b[0m\n\u001b[1;32m     72\u001b[0m             \u001b[0;32mraise\u001b[0m \u001b[0me\u001b[0m\u001b[0;34m\u001b[0m\u001b[0;34m\u001b[0m\u001b[0m\n",
            "\u001b[0;32m/usr/local/lib/python3.9/dist-packages/mercury/robust/data_tests.py\u001b[0m in \u001b[0;36mrun\u001b[0;34m(self, *args, **kwargs)\u001b[0m\n\u001b[1;32m     72\u001b[0m             \u001b[0mself\u001b[0m\u001b[0;34m.\u001b[0m\u001b[0mschema_ref\u001b[0m\u001b[0;34m.\u001b[0m\u001b[0mvalidate\u001b[0m\u001b[0;34m(\u001b[0m\u001b[0mcurrent_schema\u001b[0m\u001b[0;34m)\u001b[0m\u001b[0;34m\u001b[0m\u001b[0;34m\u001b[0m\u001b[0m\n\u001b[1;32m     73\u001b[0m         \u001b[0;32mexcept\u001b[0m \u001b[0mRuntimeError\u001b[0m \u001b[0;32mas\u001b[0m \u001b[0me\u001b[0m\u001b[0;34m:\u001b[0m\u001b[0;34m\u001b[0m\u001b[0;34m\u001b[0m\u001b[0m\n\u001b[0;32m---> 74\u001b[0;31m             \u001b[0;32mraise\u001b[0m \u001b[0mFailedTestError\u001b[0m\u001b[0;34m(\u001b[0m\u001b[0mstr\u001b[0m\u001b[0;34m(\u001b[0m\u001b[0me\u001b[0m\u001b[0;34m)\u001b[0m\u001b[0;34m)\u001b[0m\u001b[0;34m\u001b[0m\u001b[0;34m\u001b[0m\u001b[0m\n\u001b[0m\u001b[1;32m     75\u001b[0m \u001b[0;34m\u001b[0m\u001b[0m\n\u001b[1;32m     76\u001b[0m \u001b[0;34m\u001b[0m\u001b[0m\n",
            "\u001b[0;31mFailedTestError\u001b[0m: Feature types do not match. 'survived' in other is <class 'mercury.contrib.dataschema.feature.BinaryFeature'>. However, <class 'mercury.dataschema.feature.BinaryFeature'> is expected."
          ]
        }
      ],
      "source": [
        "SameSchemaTest(titanic2, schma_reference).run()"
      ]
    },
    {
      "cell_type": "markdown",
      "id": "b3000b12",
      "metadata": {
        "id": "b3000b12"
      },
      "source": [
        "Alter new dataset. We simulate we lose one of the columns... (however, this test will also check feature names and datatypes are the same)"
      ]
    },
    {
      "cell_type": "code",
      "execution_count": 9,
      "id": "42af691d",
      "metadata": {
        "id": "42af691d"
      },
      "outputs": [],
      "source": [
        "titanic2 = titanic.drop('deck', axis=1)"
      ]
    },
    {
      "cell_type": "markdown",
      "id": "ced1e379",
      "metadata": {
        "id": "ced1e379"
      },
      "source": [
        "As the schema of the new dataset has been changed, the test will fail"
      ]
    },
    {
      "cell_type": "code",
      "execution_count": 10,
      "id": "4fecce3e",
      "metadata": {
        "colab": {
          "base_uri": "https://localhost:8080/",
          "height": 570
        },
        "id": "4fecce3e",
        "outputId": "081f3544-2e55-4cbc-a2f1-58f2daed89f0"
      },
      "outputs": [
        {
          "output_type": "stream",
          "name": "stderr",
          "text": [
            "/usr/local/lib/python3.9/dist-packages/mercury/contrib/dataschema/feature.py:308: RuntimeWarning: INTEGER feature pclass converted to Categorical because percentage of unique values 0.003367003367003367 is lower than threshold 0.05611672278338945\n",
            "  warnings.warn(\n",
            "/usr/local/lib/python3.9/dist-packages/mercury/contrib/dataschema/feature.py:308: RuntimeWarning: INTEGER feature sibsp converted to Categorical because percentage of unique values 0.007856341189674524 is lower than threshold 0.05611672278338945\n",
            "  warnings.warn(\n",
            "/usr/local/lib/python3.9/dist-packages/mercury/contrib/dataschema/feature.py:308: RuntimeWarning: INTEGER feature parch converted to Categorical because percentage of unique values 0.007856341189674524 is lower than threshold 0.05611672278338945\n",
            "  warnings.warn(\n"
          ]
        },
        {
          "output_type": "error",
          "ename": "FailedTestError",
          "evalue": "ignored",
          "traceback": [
            "\u001b[0;31m---------------------------------------------------------------------------\u001b[0m",
            "\u001b[0;31mRuntimeError\u001b[0m                              Traceback (most recent call last)",
            "\u001b[0;32m/usr/local/lib/python3.9/dist-packages/mercury/robust/data_tests.py\u001b[0m in \u001b[0;36mrun\u001b[0;34m(self, *args, **kwargs)\u001b[0m\n\u001b[1;32m     71\u001b[0m         \u001b[0;32mtry\u001b[0m\u001b[0;34m:\u001b[0m\u001b[0;34m\u001b[0m\u001b[0;34m\u001b[0m\u001b[0m\n\u001b[0;32m---> 72\u001b[0;31m             \u001b[0mself\u001b[0m\u001b[0;34m.\u001b[0m\u001b[0mschema_ref\u001b[0m\u001b[0;34m.\u001b[0m\u001b[0mvalidate\u001b[0m\u001b[0;34m(\u001b[0m\u001b[0mcurrent_schema\u001b[0m\u001b[0;34m)\u001b[0m\u001b[0;34m\u001b[0m\u001b[0;34m\u001b[0m\u001b[0m\n\u001b[0m\u001b[1;32m     73\u001b[0m         \u001b[0;32mexcept\u001b[0m \u001b[0mRuntimeError\u001b[0m \u001b[0;32mas\u001b[0m \u001b[0me\u001b[0m\u001b[0;34m:\u001b[0m\u001b[0;34m\u001b[0m\u001b[0;34m\u001b[0m\u001b[0m\n",
            "\u001b[0;32m/usr/local/lib/python3.9/dist-packages/mercury/dataschema/schemagen.py\u001b[0m in \u001b[0;36mvalidate\u001b[0;34m(self, other)\u001b[0m\n\u001b[1;32m    333\u001b[0m             \u001b[0mdiff\u001b[0m \u001b[0;34m=\u001b[0m \u001b[0mset\u001b[0m\u001b[0;34m(\u001b[0m\u001b[0mself\u001b[0m\u001b[0;34m.\u001b[0m\u001b[0mfeats\u001b[0m\u001b[0;34m.\u001b[0m\u001b[0mkeys\u001b[0m\u001b[0;34m(\u001b[0m\u001b[0;34m)\u001b[0m\u001b[0;34m)\u001b[0m \u001b[0;34m-\u001b[0m \u001b[0mset\u001b[0m\u001b[0;34m(\u001b[0m\u001b[0mother\u001b[0m\u001b[0;34m.\u001b[0m\u001b[0mfeats\u001b[0m\u001b[0;34m.\u001b[0m\u001b[0mkeys\u001b[0m\u001b[0;34m(\u001b[0m\u001b[0;34m)\u001b[0m\u001b[0;34m)\u001b[0m\u001b[0;34m\u001b[0m\u001b[0;34m\u001b[0m\u001b[0m\n\u001b[0;32m--> 334\u001b[0;31m             \u001b[0;32mraise\u001b[0m \u001b[0mRuntimeError\u001b[0m\u001b[0;34m(\u001b[0m\u001b[0;34mf\"Features do not match. These ones are not present on both datasets {list(diff)}\"\u001b[0m\u001b[0;34m)\u001b[0m\u001b[0;34m\u001b[0m\u001b[0;34m\u001b[0m\u001b[0m\n\u001b[0m\u001b[1;32m    335\u001b[0m \u001b[0;34m\u001b[0m\u001b[0m\n",
            "\u001b[0;31mRuntimeError\u001b[0m: Features do not match. These ones are not present on both datasets ['deck']",
            "\nDuring handling of the above exception, another exception occurred:\n",
            "\u001b[0;31mFailedTestError\u001b[0m                           Traceback (most recent call last)",
            "\u001b[0;32m<ipython-input-10-e2370fbf9a3d>\u001b[0m in \u001b[0;36m<cell line: 1>\u001b[0;34m()\u001b[0m\n\u001b[0;32m----> 1\u001b[0;31m \u001b[0mSameSchemaTest\u001b[0m\u001b[0;34m(\u001b[0m\u001b[0mtitanic2\u001b[0m\u001b[0;34m,\u001b[0m \u001b[0mschma_reference\u001b[0m\u001b[0;34m)\u001b[0m\u001b[0;34m.\u001b[0m\u001b[0mrun\u001b[0m\u001b[0;34m(\u001b[0m\u001b[0;34m)\u001b[0m  \u001b[0;31m# This will fail\u001b[0m\u001b[0;34m\u001b[0m\u001b[0;34m\u001b[0m\u001b[0m\n\u001b[0m",
            "\u001b[0;32m/usr/local/lib/python3.9/dist-packages/mercury/insight/decorators.py\u001b[0m in \u001b[0;36mwrapped\u001b[0;34m(self, *args, **kwargs)\u001b[0m\n\u001b[1;32m     70\u001b[0m                 \u001b[0mfunc\u001b[0m \u001b[0;34m=\u001b[0m \u001b[0mtarget\u001b[0m\u001b[0;34m(\u001b[0m\u001b[0mself\u001b[0m\u001b[0;34m,\u001b[0m \u001b[0;34m*\u001b[0m\u001b[0margs\u001b[0m\u001b[0;34m,\u001b[0m \u001b[0;34m**\u001b[0m\u001b[0mkwargs\u001b[0m\u001b[0;34m)\u001b[0m\u001b[0;34m\u001b[0m\u001b[0;34m\u001b[0m\u001b[0m\n\u001b[1;32m     71\u001b[0m         \u001b[0;32mexcept\u001b[0m \u001b[0mException\u001b[0m \u001b[0;32mas\u001b[0m \u001b[0me\u001b[0m\u001b[0;34m:\u001b[0m\u001b[0;34m\u001b[0m\u001b[0;34m\u001b[0m\u001b[0m\n\u001b[0;32m---> 72\u001b[0;31m             \u001b[0;32mraise\u001b[0m \u001b[0me\u001b[0m\u001b[0;34m\u001b[0m\u001b[0;34m\u001b[0m\u001b[0m\n\u001b[0m\u001b[1;32m     73\u001b[0m         \u001b[0;32mfinally\u001b[0m\u001b[0;34m:\u001b[0m\u001b[0;34m\u001b[0m\u001b[0;34m\u001b[0m\u001b[0m\n\u001b[1;32m     74\u001b[0m             \u001b[0;31m# Re-enable the logger\u001b[0m\u001b[0;34m\u001b[0m\u001b[0;34m\u001b[0m\u001b[0m\n",
            "\u001b[0;32m/usr/local/lib/python3.9/dist-packages/mercury/insight/decorators.py\u001b[0m in \u001b[0;36mwrapped\u001b[0;34m(self, *args, **kwargs)\u001b[0m\n\u001b[1;32m     68\u001b[0m             \u001b[0mlgr\u001b[0m\u001b[0;34m.\u001b[0m\u001b[0menabled\u001b[0m \u001b[0;34m=\u001b[0m \u001b[0;32mFalse\u001b[0m\u001b[0;34m\u001b[0m\u001b[0;34m\u001b[0m\u001b[0m\n\u001b[1;32m     69\u001b[0m             \u001b[0;32mwith\u001b[0m \u001b[0mlgr\u001b[0m\u001b[0;34m:\u001b[0m\u001b[0;34m\u001b[0m\u001b[0;34m\u001b[0m\u001b[0m\n\u001b[0;32m---> 70\u001b[0;31m                 \u001b[0mfunc\u001b[0m \u001b[0;34m=\u001b[0m \u001b[0mtarget\u001b[0m\u001b[0;34m(\u001b[0m\u001b[0mself\u001b[0m\u001b[0;34m,\u001b[0m \u001b[0;34m*\u001b[0m\u001b[0margs\u001b[0m\u001b[0;34m,\u001b[0m \u001b[0;34m**\u001b[0m\u001b[0mkwargs\u001b[0m\u001b[0;34m)\u001b[0m\u001b[0;34m\u001b[0m\u001b[0;34m\u001b[0m\u001b[0m\n\u001b[0m\u001b[1;32m     71\u001b[0m         \u001b[0;32mexcept\u001b[0m \u001b[0mException\u001b[0m \u001b[0;32mas\u001b[0m \u001b[0me\u001b[0m\u001b[0;34m:\u001b[0m\u001b[0;34m\u001b[0m\u001b[0;34m\u001b[0m\u001b[0m\n\u001b[1;32m     72\u001b[0m             \u001b[0;32mraise\u001b[0m \u001b[0me\u001b[0m\u001b[0;34m\u001b[0m\u001b[0;34m\u001b[0m\u001b[0m\n",
            "\u001b[0;32m/usr/local/lib/python3.9/dist-packages/mercury/robust/data_tests.py\u001b[0m in \u001b[0;36mrun\u001b[0;34m(self, *args, **kwargs)\u001b[0m\n\u001b[1;32m     72\u001b[0m             \u001b[0mself\u001b[0m\u001b[0;34m.\u001b[0m\u001b[0mschema_ref\u001b[0m\u001b[0;34m.\u001b[0m\u001b[0mvalidate\u001b[0m\u001b[0;34m(\u001b[0m\u001b[0mcurrent_schema\u001b[0m\u001b[0;34m)\u001b[0m\u001b[0;34m\u001b[0m\u001b[0;34m\u001b[0m\u001b[0m\n\u001b[1;32m     73\u001b[0m         \u001b[0;32mexcept\u001b[0m \u001b[0mRuntimeError\u001b[0m \u001b[0;32mas\u001b[0m \u001b[0me\u001b[0m\u001b[0;34m:\u001b[0m\u001b[0;34m\u001b[0m\u001b[0;34m\u001b[0m\u001b[0m\n\u001b[0;32m---> 74\u001b[0;31m             \u001b[0;32mraise\u001b[0m \u001b[0mFailedTestError\u001b[0m\u001b[0;34m(\u001b[0m\u001b[0mstr\u001b[0m\u001b[0;34m(\u001b[0m\u001b[0me\u001b[0m\u001b[0;34m)\u001b[0m\u001b[0;34m)\u001b[0m\u001b[0;34m\u001b[0m\u001b[0;34m\u001b[0m\u001b[0m\n\u001b[0m\u001b[1;32m     75\u001b[0m \u001b[0;34m\u001b[0m\u001b[0m\n\u001b[1;32m     76\u001b[0m \u001b[0;34m\u001b[0m\u001b[0m\n",
            "\u001b[0;31mFailedTestError\u001b[0m: Features do not match. These ones are not present on both datasets ['deck']"
          ]
        }
      ],
      "source": [
        "SameSchemaTest(titanic2, schma_reference).run()  # This will fail"
      ]
    },
    {
      "cell_type": "markdown",
      "id": "221e3f2d",
      "metadata": {
        "id": "221e3f2d"
      },
      "source": [
        "<a id=\"data_drift\"></a>\n",
        "### Data Drift Test example"
      ]
    },
    {
      "cell_type": "markdown",
      "id": "77c5757d",
      "metadata": {
        "id": "77c5757d"
      },
      "source": [
        "Again, for this test, we first need to have an already built Mercury's `DataSchema` object with the schema of the original dataset (e.g. training data). Note it doesn't need to be generated on every test, as it can also be serialized and loaded back."
      ]
    },
    {
      "cell_type": "code",
      "execution_count": 11,
      "id": "acd9c811",
      "metadata": {
        "colab": {
          "base_uri": "https://localhost:8080/"
        },
        "id": "acd9c811",
        "outputId": "4df71d4e-b18f-4da3-82cb-d28d648bd198"
      },
      "outputs": [
        {
          "output_type": "stream",
          "name": "stderr",
          "text": [
            "/usr/local/lib/python3.9/dist-packages/mercury/dataschema/feature.py:306: RuntimeWarning: INTEGER feature pclass converted to Categorical because percentage of unique values 0.003367003367003367 is lower than threshold 0.05611672278338945\n",
            "  warnings.warn(\n",
            "/usr/local/lib/python3.9/dist-packages/mercury/dataschema/feature.py:306: RuntimeWarning: INTEGER feature sibsp converted to Categorical because percentage of unique values 0.007856341189674524 is lower than threshold 0.05611672278338945\n",
            "  warnings.warn(\n",
            "/usr/local/lib/python3.9/dist-packages/mercury/dataschema/feature.py:306: RuntimeWarning: INTEGER feature parch converted to Categorical because percentage of unique values 0.007856341189674524 is lower than threshold 0.05611672278338945\n",
            "  warnings.warn(\n"
          ]
        }
      ],
      "source": [
        "schma_reference = DataSchema().generate(titanic).calculate_statistics()"
      ]
    },
    {
      "cell_type": "markdown",
      "id": "73230511",
      "metadata": {
        "id": "73230511"
      },
      "source": [
        "First, run a test with no existing drift. It will pass..."
      ]
    },
    {
      "cell_type": "code",
      "execution_count": 12,
      "id": "b14615b8",
      "metadata": {
        "id": "b14615b8"
      },
      "outputs": [],
      "source": [
        "test = DriftTest(titanic, schma_reference).run()"
      ]
    },
    {
      "cell_type": "markdown",
      "id": "fec2e721",
      "metadata": {
        "id": "fec2e721"
      },
      "source": [
        "We now simulate several types of drift. Let's start with a drift on the `age` feature."
      ]
    },
    {
      "cell_type": "code",
      "execution_count": 13,
      "id": "65e47269",
      "metadata": {
        "id": "65e47269"
      },
      "outputs": [],
      "source": [
        "titanic2 = titanic.copy()\n",
        "titanic2['age'] *= titanic2['age']  # quadratic relation"
      ]
    },
    {
      "cell_type": "code",
      "execution_count": 14,
      "id": "ba61cb59",
      "metadata": {
        "colab": {
          "base_uri": "https://localhost:8080/",
          "height": 452
        },
        "id": "ba61cb59",
        "outputId": "a529f457-374d-47d9-af79-491612a2e9a6"
      },
      "outputs": [
        {
          "output_type": "display_data",
          "data": {
            "text/plain": [
              "<Figure size 640x480 with 2 Axes>"
            ],
            "image/png": "[encoded data removed]"
          },
          "metadata": {}
        }
      ],
      "source": [
        "fig, ax = plt.subplots(1,2)\n",
        "\n",
        "hist1 = schma_reference.feats['age'].stats['distribution']\n",
        "hist2 = np.histogram(titanic2.loc[:, 'age'],\n",
        "             range=(schma_reference.feats['age'].stats['min'], schma_reference.feats['age'].stats['max']),\n",
        "             bins=len(schma_reference.feats['age'].stats['distribution'])\n",
        "             )[0] #/ len(titanic2.loc[:, x])\n",
        "\n",
        "\n",
        "ax[0].bar(list(range(0, len(hist1))), hist1)\n",
        "ax[1].bar(list(range(0, len(hist2))), hist2)\n",
        "\n",
        "ax[0].set_title('Original distribution')\n",
        "ax[1].set_title('Drifted distribution');"
      ]
    },
    {
      "cell_type": "code",
      "execution_count": 15,
      "id": "fe8983f2",
      "metadata": {
        "colab": {
          "base_uri": "https://localhost:8080/",
          "height": 336
        },
        "id": "fe8983f2",
        "outputId": "0f167626-4212-4ad3-9fbf-f2bd38a93aa3"
      },
      "outputs": [
        {
          "output_type": "error",
          "ename": "FailedTestError",
          "evalue": "ignored",
          "traceback": [
            "\u001b[0;31m---------------------------------------------------------------------------\u001b[0m",
            "\u001b[0;31mFailedTestError\u001b[0m                           Traceback (most recent call last)",
            "\u001b[0;32m<ipython-input-15-1842b79be724>\u001b[0m in \u001b[0;36m<cell line: 1>\u001b[0;34m()\u001b[0m\n\u001b[0;32m----> 1\u001b[0;31m \u001b[0mDriftTest\u001b[0m\u001b[0;34m(\u001b[0m\u001b[0mtitanic2\u001b[0m\u001b[0;34m,\u001b[0m \u001b[0mschma_reference\u001b[0m\u001b[0;34m)\u001b[0m\u001b[0;34m.\u001b[0m\u001b[0mrun\u001b[0m\u001b[0;34m(\u001b[0m\u001b[0;34m)\u001b[0m  \u001b[0;31m# This will fail\u001b[0m\u001b[0;34m\u001b[0m\u001b[0;34m\u001b[0m\u001b[0m\n\u001b[0m",
            "\u001b[0;32m/usr/local/lib/python3.9/dist-packages/mercury/insight/decorators.py\u001b[0m in \u001b[0;36mwrapped\u001b[0;34m(self, *args, **kwargs)\u001b[0m\n\u001b[1;32m     70\u001b[0m                 \u001b[0mfunc\u001b[0m \u001b[0;34m=\u001b[0m \u001b[0mtarget\u001b[0m\u001b[0;34m(\u001b[0m\u001b[0mself\u001b[0m\u001b[0;34m,\u001b[0m \u001b[0;34m*\u001b[0m\u001b[0margs\u001b[0m\u001b[0;34m,\u001b[0m \u001b[0;34m**\u001b[0m\u001b[0mkwargs\u001b[0m\u001b[0;34m)\u001b[0m\u001b[0;34m\u001b[0m\u001b[0;34m\u001b[0m\u001b[0m\n\u001b[1;32m     71\u001b[0m         \u001b[0;32mexcept\u001b[0m \u001b[0mException\u001b[0m \u001b[0;32mas\u001b[0m \u001b[0me\u001b[0m\u001b[0;34m:\u001b[0m\u001b[0;34m\u001b[0m\u001b[0;34m\u001b[0m\u001b[0m\n\u001b[0;32m---> 72\u001b[0;31m             \u001b[0;32mraise\u001b[0m \u001b[0me\u001b[0m\u001b[0;34m\u001b[0m\u001b[0;34m\u001b[0m\u001b[0m\n\u001b[0m\u001b[1;32m     73\u001b[0m         \u001b[0;32mfinally\u001b[0m\u001b[0;34m:\u001b[0m\u001b[0;34m\u001b[0m\u001b[0;34m\u001b[0m\u001b[0m\n\u001b[1;32m     74\u001b[0m             \u001b[0;31m# Re-enable the logger\u001b[0m\u001b[0;34m\u001b[0m\u001b[0;34m\u001b[0m\u001b[0m\n",
            "\u001b[0;32m/usr/local/lib/python3.9/dist-packages/mercury/insight/decorators.py\u001b[0m in \u001b[0;36mwrapped\u001b[0;34m(self, *args, **kwargs)\u001b[0m\n\u001b[1;32m     68\u001b[0m             \u001b[0mlgr\u001b[0m\u001b[0;34m.\u001b[0m\u001b[0menabled\u001b[0m \u001b[0;34m=\u001b[0m \u001b[0;32mFalse\u001b[0m\u001b[0;34m\u001b[0m\u001b[0;34m\u001b[0m\u001b[0m\n\u001b[1;32m     69\u001b[0m             \u001b[0;32mwith\u001b[0m \u001b[0mlgr\u001b[0m\u001b[0;34m:\u001b[0m\u001b[0;34m\u001b[0m\u001b[0;34m\u001b[0m\u001b[0m\n\u001b[0;32m---> 70\u001b[0;31m                 \u001b[0mfunc\u001b[0m \u001b[0;34m=\u001b[0m \u001b[0mtarget\u001b[0m\u001b[0;34m(\u001b[0m\u001b[0mself\u001b[0m\u001b[0;34m,\u001b[0m \u001b[0;34m*\u001b[0m\u001b[0margs\u001b[0m\u001b[0;34m,\u001b[0m \u001b[0;34m**\u001b[0m\u001b[0mkwargs\u001b[0m\u001b[0;34m)\u001b[0m\u001b[0;34m\u001b[0m\u001b[0;34m\u001b[0m\u001b[0m\n\u001b[0m\u001b[1;32m     71\u001b[0m         \u001b[0;32mexcept\u001b[0m \u001b[0mException\u001b[0m \u001b[0;32mas\u001b[0m \u001b[0me\u001b[0m\u001b[0;34m:\u001b[0m\u001b[0;34m\u001b[0m\u001b[0;34m\u001b[0m\u001b[0m\n\u001b[1;32m     72\u001b[0m             \u001b[0;32mraise\u001b[0m \u001b[0me\u001b[0m\u001b[0;34m\u001b[0m\u001b[0;34m\u001b[0m\u001b[0m\n",
            "\u001b[0;32m/usr/local/lib/python3.9/dist-packages/mercury/robust/data_tests.py\u001b[0m in \u001b[0;36mrun\u001b[0;34m(self, *args, **kwargs)\u001b[0m\n\u001b[1;32m    262\u001b[0m \u001b[0;34m\u001b[0m\u001b[0m\n\u001b[1;32m    263\u001b[0m             \u001b[0;32mif\u001b[0m \u001b[0mself\u001b[0m\u001b[0;34m.\u001b[0m\u001b[0mcontinuous_drift_metrics\u001b[0m\u001b[0;34m[\u001b[0m\u001b[0;34m'drift_detected'\u001b[0m\u001b[0;34m]\u001b[0m\u001b[0;34m:\u001b[0m\u001b[0;34m\u001b[0m\u001b[0;34m\u001b[0m\u001b[0m\n\u001b[0;32m--> 264\u001b[0;31m                 \u001b[0;32mraise\u001b[0m \u001b[0mFailedTestError\u001b[0m\u001b[0;34m(\u001b[0m\u001b[0;34mf\"Test failed. Drift was detected on the following features: {drift_detector.get_drifted_features()}\"\u001b[0m\u001b[0;34m)\u001b[0m\u001b[0;34m\u001b[0m\u001b[0;34m\u001b[0m\u001b[0m\n\u001b[0m\u001b[1;32m    265\u001b[0m \u001b[0;34m\u001b[0m\u001b[0m\n\u001b[1;32m    266\u001b[0m         \u001b[0;31m# Test categorical feats with Chi2\u001b[0m\u001b[0;34m\u001b[0m\u001b[0;34m\u001b[0m\u001b[0m\n",
            "\u001b[0;31mFailedTestError\u001b[0m: Test failed. Drift was detected on the following features: ['age']"
          ]
        }
      ],
      "source": [
        "DriftTest(titanic2, schma_reference).run()  # This will fail"
      ]
    },
    {
      "cell_type": "markdown",
      "id": "8c4da564",
      "metadata": {
        "id": "8c4da564"
      },
      "source": [
        "Next, let's simulate we lose one of the categories from `sex`"
      ]
    },
    {
      "cell_type": "code",
      "execution_count": 16,
      "id": "61983a80",
      "metadata": {
        "id": "61983a80"
      },
      "outputs": [],
      "source": [
        "titanic2 = titanic.copy()\n",
        "titanic2['sex'] = 'male'   # We lose one of the categories"
      ]
    },
    {
      "cell_type": "code",
      "execution_count": 17,
      "id": "34ba505b",
      "metadata": {
        "colab": {
          "base_uri": "https://localhost:8080/",
          "height": 336
        },
        "id": "34ba505b",
        "outputId": "3fedf406-d6c4-4638-cac8-b2c870431e55"
      },
      "outputs": [
        {
          "output_type": "error",
          "ename": "FailedTestError",
          "evalue": "ignored",
          "traceback": [
            "\u001b[0;31m---------------------------------------------------------------------------\u001b[0m",
            "\u001b[0;31mFailedTestError\u001b[0m                           Traceback (most recent call last)",
            "\u001b[0;32m<ipython-input-17-1842b79be724>\u001b[0m in \u001b[0;36m<cell line: 1>\u001b[0;34m()\u001b[0m\n\u001b[0;32m----> 1\u001b[0;31m \u001b[0mDriftTest\u001b[0m\u001b[0;34m(\u001b[0m\u001b[0mtitanic2\u001b[0m\u001b[0;34m,\u001b[0m \u001b[0mschma_reference\u001b[0m\u001b[0;34m)\u001b[0m\u001b[0;34m.\u001b[0m\u001b[0mrun\u001b[0m\u001b[0;34m(\u001b[0m\u001b[0;34m)\u001b[0m  \u001b[0;31m# This will fail\u001b[0m\u001b[0;34m\u001b[0m\u001b[0;34m\u001b[0m\u001b[0m\n\u001b[0m",
            "\u001b[0;32m/usr/local/lib/python3.9/dist-packages/mercury/insight/decorators.py\u001b[0m in \u001b[0;36mwrapped\u001b[0;34m(self, *args, **kwargs)\u001b[0m\n\u001b[1;32m     70\u001b[0m                 \u001b[0mfunc\u001b[0m \u001b[0;34m=\u001b[0m \u001b[0mtarget\u001b[0m\u001b[0;34m(\u001b[0m\u001b[0mself\u001b[0m\u001b[0;34m,\u001b[0m \u001b[0;34m*\u001b[0m\u001b[0margs\u001b[0m\u001b[0;34m,\u001b[0m \u001b[0;34m**\u001b[0m\u001b[0mkwargs\u001b[0m\u001b[0;34m)\u001b[0m\u001b[0;34m\u001b[0m\u001b[0;34m\u001b[0m\u001b[0m\n\u001b[1;32m     71\u001b[0m         \u001b[0;32mexcept\u001b[0m \u001b[0mException\u001b[0m \u001b[0;32mas\u001b[0m \u001b[0me\u001b[0m\u001b[0;34m:\u001b[0m\u001b[0;34m\u001b[0m\u001b[0;34m\u001b[0m\u001b[0m\n\u001b[0;32m---> 72\u001b[0;31m             \u001b[0;32mraise\u001b[0m \u001b[0me\u001b[0m\u001b[0;34m\u001b[0m\u001b[0;34m\u001b[0m\u001b[0m\n\u001b[0m\u001b[1;32m     73\u001b[0m         \u001b[0;32mfinally\u001b[0m\u001b[0;34m:\u001b[0m\u001b[0;34m\u001b[0m\u001b[0;34m\u001b[0m\u001b[0m\n\u001b[1;32m     74\u001b[0m             \u001b[0;31m# Re-enable the logger\u001b[0m\u001b[0;34m\u001b[0m\u001b[0;34m\u001b[0m\u001b[0m\n",
            "\u001b[0;32m/usr/local/lib/python3.9/dist-packages/mercury/insight/decorators.py\u001b[0m in \u001b[0;36mwrapped\u001b[0;34m(self, *args, **kwargs)\u001b[0m\n\u001b[1;32m     68\u001b[0m             \u001b[0mlgr\u001b[0m\u001b[0;34m.\u001b[0m\u001b[0menabled\u001b[0m \u001b[0;34m=\u001b[0m \u001b[0;32mFalse\u001b[0m\u001b[0;34m\u001b[0m\u001b[0;34m\u001b[0m\u001b[0m\n\u001b[1;32m     69\u001b[0m             \u001b[0;32mwith\u001b[0m \u001b[0mlgr\u001b[0m\u001b[0;34m:\u001b[0m\u001b[0;34m\u001b[0m\u001b[0;34m\u001b[0m\u001b[0m\n\u001b[0;32m---> 70\u001b[0;31m                 \u001b[0mfunc\u001b[0m \u001b[0;34m=\u001b[0m \u001b[0mtarget\u001b[0m\u001b[0;34m(\u001b[0m\u001b[0mself\u001b[0m\u001b[0;34m,\u001b[0m \u001b[0;34m*\u001b[0m\u001b[0margs\u001b[0m\u001b[0;34m,\u001b[0m \u001b[0;34m**\u001b[0m\u001b[0mkwargs\u001b[0m\u001b[0;34m)\u001b[0m\u001b[0;34m\u001b[0m\u001b[0;34m\u001b[0m\u001b[0m\n\u001b[0m\u001b[1;32m     71\u001b[0m         \u001b[0;32mexcept\u001b[0m \u001b[0mException\u001b[0m \u001b[0;32mas\u001b[0m \u001b[0me\u001b[0m\u001b[0;34m:\u001b[0m\u001b[0;34m\u001b[0m\u001b[0;34m\u001b[0m\u001b[0m\n\u001b[1;32m     72\u001b[0m             \u001b[0;32mraise\u001b[0m \u001b[0me\u001b[0m\u001b[0;34m\u001b[0m\u001b[0;34m\u001b[0m\u001b[0m\n",
            "\u001b[0;32m/usr/local/lib/python3.9/dist-packages/mercury/robust/data_tests.py\u001b[0m in \u001b[0;36mrun\u001b[0;34m(self, *args, **kwargs)\u001b[0m\n\u001b[1;32m    285\u001b[0m \u001b[0;34m\u001b[0m\u001b[0m\n\u001b[1;32m    286\u001b[0m             \u001b[0;32mif\u001b[0m \u001b[0mself\u001b[0m\u001b[0;34m.\u001b[0m\u001b[0mcat_drift_metrics\u001b[0m\u001b[0;34m[\u001b[0m\u001b[0;34m'drift_detected'\u001b[0m\u001b[0;34m]\u001b[0m\u001b[0;34m:\u001b[0m\u001b[0;34m\u001b[0m\u001b[0;34m\u001b[0m\u001b[0m\n\u001b[0;32m--> 287\u001b[0;31m                 \u001b[0;32mraise\u001b[0m \u001b[0mFailedTestError\u001b[0m\u001b[0;34m(\u001b[0m\u001b[0;34mf\"Test failed. Drift was detected on the following features: {drift_detector.get_drifted_features()}\"\u001b[0m\u001b[0;34m)\u001b[0m\u001b[0;34m\u001b[0m\u001b[0;34m\u001b[0m\u001b[0m\n\u001b[0m\u001b[1;32m    288\u001b[0m \u001b[0;34m\u001b[0m\u001b[0m\n\u001b[1;32m    289\u001b[0m     \u001b[0;32mdef\u001b[0m \u001b[0m_get_features_histograms\u001b[0m\u001b[0;34m(\u001b[0m\u001b[0mself\u001b[0m\u001b[0;34m,\u001b[0m \u001b[0mfeatnames\u001b[0m\u001b[0;34m:\u001b[0m \u001b[0mlist\u001b[0m\u001b[0;34m)\u001b[0m \u001b[0;34m->\u001b[0m \u001b[0mTuple\u001b[0m\u001b[0;34m[\u001b[0m\u001b[0mList\u001b[0m\u001b[0;34m[\u001b[0m\u001b[0mnp\u001b[0m\u001b[0;34m.\u001b[0m\u001b[0marray\u001b[0m\u001b[0;34m]\u001b[0m\u001b[0;34m,\u001b[0m \u001b[0mList\u001b[0m\u001b[0;34m[\u001b[0m\u001b[0mnp\u001b[0m\u001b[0;34m.\u001b[0m\u001b[0marray\u001b[0m\u001b[0;34m]\u001b[0m\u001b[0;34m]\u001b[0m\u001b[0;34m:\u001b[0m\u001b[0;34m\u001b[0m\u001b[0;34m\u001b[0m\u001b[0m\n",
            "\u001b[0;31mFailedTestError\u001b[0m: Test failed. Drift was detected on the following features: ['sex']"
          ]
        }
      ],
      "source": [
        "DriftTest(titanic2, schma_reference).run()  # This will fail"
      ]
    },
    {
      "cell_type": "markdown",
      "id": "571d1d7f",
      "metadata": {
        "id": "571d1d7f"
      },
      "source": [
        "<a id=\"linear_combinations\"></a>\n",
        "### Linear combinations Test example"
      ]
    },
    {
      "cell_type": "markdown",
      "id": "1333e9f6",
      "metadata": {
        "id": "1333e9f6"
      },
      "source": [
        "This test searches linear combinations between your numerical features (only the continuous ones at the time of writing this tutorial).\n",
        "\n",
        "Let's extract continuous features from the titanic dataset and run the test."
      ]
    },
    {
      "cell_type": "code",
      "execution_count": 18,
      "id": "82090552",
      "metadata": {
        "id": "82090552"
      },
      "outputs": [],
      "source": [
        "test_df = titanic.loc[:, schma_reference.continuous_feats].dropna()"
      ]
    },
    {
      "cell_type": "code",
      "execution_count": 19,
      "id": "3b6fc537",
      "metadata": {
        "colab": {
          "base_uri": "https://localhost:8080/",
          "height": 112
        },
        "id": "3b6fc537",
        "outputId": "ef160675-4e22-4a69-c15a-0e477aac710b"
      },
      "outputs": [
        {
          "output_type": "execute_result",
          "data": {
            "text/plain": [
              "    age     fare\n",
              "0  22.0   7.2500\n",
              "1  38.0  71.2833"
            ],
            "text/html": [
              "\n",
              "  <div id=\"df-d7c834cc-25fb-41ec-9215-1b3e142d0ab3\">\n",
              "    <div class=\"colab-df-container\">\n",
              "      <div>\n",
              "<style scoped>\n",
              "    .dataframe tbody tr th:only-of-type {\n",
              "        vertical-align: middle;\n",
              "    }\n",
              "\n",
              "    .dataframe tbody tr th {\n",
              "        vertical-align: top;\n",
              "    }\n",
              "\n",
              "    .dataframe thead th {\n",
              "        text-align: right;\n",
              "    }\n",
              "</style>\n",
              "<table border=\"1\" class=\"dataframe\">\n",
              "  <thead>\n",
              "    <tr style=\"text-align: right;\">\n",
              "      <th></th>\n",
              "      <th>age</th>\n",
              "      <th>fare</th>\n",
              "    </tr>\n",
              "  </thead>\n",
              "  <tbody>\n",
              "    <tr>\n",
              "      <th>0</th>\n",
              "      <td>22.0</td>\n",
              "      <td>7.2500</td>\n",
              "    </tr>\n",
              "    <tr>\n",
              "      <th>1</th>\n",
              "      <td>38.0</td>\n",
              "      <td>71.2833</td>\n",
              "    </tr>\n",
              "  </tbody>\n",
              "</table>\n",
              "</div>\n",
              "      <button class=\"colab-df-convert\" onclick=\"convertToInteractive('df-d7c834cc-25fb-41ec-9215-1b3e142d0ab3')\"\n",
              "              title=\"Convert this dataframe to an interactive table.\"\n",
              "              style=\"display:none;\">\n",
              "        \n",
              "  <svg xmlns=\"http://www.w3.org/2000/svg\" height=\"24px\"viewBox=\"0 0 24 24\"\n",
              "       width=\"24px\">\n",
              "    <path d=\"M0 0h24v24H0V0z\" fill=\"none\"/>\n",
              "    <path d=\"M18.56 5.44l.94 2.06.94-2.06 2.06-.94-2.06-.94-.94-2.06-.94 2.06-2.06.94zm-11 1L8.5 8.5l.94-2.06 2.06-.94-2.06-.94L8.5 2.5l-.94 2.06-2.06.94zm10 10l.94 2.06.94-2.06 2.06-.94-2.06-.94-.94-2.06-.94 2.06-2.06.94z\"/><path d=\"M17.41 7.96l-1.37-1.37c-.4-.4-.92-.59-1.43-.59-.52 0-1.04.2-1.43.59L10.3 9.45l-7.72 7.72c-.78.78-.78 2.05 0 2.83L4 21.41c.39.39.9.59 1.41.59.51 0 1.02-.2 1.41-.59l7.78-7.78 2.81-2.81c.8-.78.8-2.07 0-2.86zM5.41 20L4 18.59l7.72-7.72 1.47 1.35L5.41 20z\"/>\n",
              "  </svg>\n",
              "      </button>\n",
              "      \n",
              "  <style>\n",
              "    .colab-df-container {\n",
              "      display:flex;\n",
              "      flex-wrap:wrap;\n",
              "      gap: 12px;\n",
              "    }\n",
              "\n",
              "    .colab-df-convert {\n",
              "      background-color: #E8F0FE;\n",
              "      border: none;\n",
              "      border-radius: 50%;\n",
              "      cursor: pointer;\n",
              "      display: none;\n",
              "      fill: #1967D2;\n",
              "      height: 32px;\n",
              "      padding: 0 0 0 0;\n",
              "      width: 32px;\n",
              "    }\n",
              "\n",
              "    .colab-df-convert:hover {\n",
              "      background-color: #E2EBFA;\n",
              "      box-shadow: 0px 1px 2px rgba(60, 64, 67, 0.3), 0px 1px 3px 1px rgba(60, 64, 67, 0.15);\n",
              "      fill: #174EA6;\n",
              "    }\n",
              "\n",
              "    [theme=dark] .colab-df-convert {\n",
              "      background-color: #3B4455;\n",
              "      fill: #D2E3FC;\n",
              "    }\n",
              "\n",
              "    [theme=dark] .colab-df-convert:hover {\n",
              "      background-color: #434B5C;\n",
              "      box-shadow: 0px 1px 3px 1px rgba(0, 0, 0, 0.15);\n",
              "      filter: drop-shadow(0px 1px 2px rgba(0, 0, 0, 0.3));\n",
              "      fill: #FFFFFF;\n",
              "    }\n",
              "  </style>\n",
              "\n",
              "      <script>\n",
              "        const buttonEl =\n",
              "          document.querySelector('#df-d7c834cc-25fb-41ec-9215-1b3e142d0ab3 button.colab-df-convert');\n",
              "        buttonEl.style.display =\n",
              "          google.colab.kernel.accessAllowed ? 'block' : 'none';\n",
              "\n",
              "        async function convertToInteractive(key) {\n",
              "          const element = document.querySelector('#df-d7c834cc-25fb-41ec-9215-1b3e142d0ab3');\n",
              "          const dataTable =\n",
              "            await google.colab.kernel.invokeFunction('convertToInteractive',\n",
              "                                                     [key], {});\n",
              "          if (!dataTable) return;\n",
              "\n",
              "          const docLinkHtml = 'Like what you see? Visit the ' +\n",
              "            '<a target=\"_blank\" href=https://colab.research.google.com/notebooks/data_table.ipynb>data table notebook</a>'\n",
              "            + ' to learn more about interactive tables.';\n",
              "          element.innerHTML = '';\n",
              "          dataTable['output_type'] = 'display_data';\n",
              "          await google.colab.output.renderOutput(dataTable, element);\n",
              "          const docLink = document.createElement('div');\n",
              "          docLink.innerHTML = docLinkHtml;\n",
              "          element.appendChild(docLink);\n",
              "        }\n",
              "      </script>\n",
              "    </div>\n",
              "  </div>\n",
              "  "
            ]
          },
          "metadata": {},
          "execution_count": 19
        }
      ],
      "source": [
        "test_df.head(2)"
      ]
    },
    {
      "cell_type": "markdown",
      "id": "a0b7f69e",
      "metadata": {
        "id": "a0b7f69e"
      },
      "source": [
        "As these two features are independent, no linear combinations will be found, so the test will pass"
      ]
    },
    {
      "cell_type": "code",
      "execution_count": 20,
      "id": "7d6cd86c",
      "metadata": {
        "id": "7d6cd86c"
      },
      "outputs": [],
      "source": [
        "LinearCombinationsTest(test_df).run()"
      ]
    },
    {
      "cell_type": "markdown",
      "id": "93560e00",
      "metadata": {
        "id": "93560e00"
      },
      "source": [
        "Let's artificially generate a dataset with a column which is linearly dependent with `age`. This aims to serve as an example when we have a dataset with clear feature dependencies, which should be removed prior to model trainings."
      ]
    },
    {
      "cell_type": "markdown",
      "id": "e6f6e35c",
      "metadata": {
        "id": "e6f6e35c"
      },
      "source": [
        "<a id=\"label_leaking\"></a>\n",
        "### Label leaking Test example\n",
        "\n",
        "This test seeks for any strong relationship between any of the predictor variables and the target. If found, it fails.\n",
        "\n",
        "Let us load the tips dataset and simulate a nonlinear relationship with the target."
      ]
    },
    {
      "cell_type": "code",
      "execution_count": 21,
      "id": "f188ded7",
      "metadata": {
        "colab": {
          "base_uri": "https://localhost:8080/",
          "height": 336
        },
        "id": "f188ded7",
        "outputId": "addd7de5-3165-4534-bb7b-dea63b42126f"
      },
      "outputs": [
        {
          "output_type": "error",
          "ename": "FailedTestError",
          "evalue": "ignored",
          "traceback": [
            "\u001b[0;31m---------------------------------------------------------------------------\u001b[0m",
            "\u001b[0;31mFailedTestError\u001b[0m                           Traceback (most recent call last)",
            "\u001b[0;32m<ipython-input-21-df642c1ce974>\u001b[0m in \u001b[0;36m<cell line: 2>\u001b[0;34m()\u001b[0m\n\u001b[1;32m      1\u001b[0m \u001b[0mtest_df\u001b[0m\u001b[0;34m[\u001b[0m\u001b[0;34m'combination'\u001b[0m\u001b[0;34m]\u001b[0m \u001b[0;34m=\u001b[0m \u001b[0mtest_df\u001b[0m\u001b[0;34m[\u001b[0m\u001b[0;34m'age'\u001b[0m\u001b[0;34m]\u001b[0m \u001b[0;34m*\u001b[0m \u001b[0;36m2\u001b[0m\u001b[0;34m\u001b[0m\u001b[0;34m\u001b[0m\u001b[0m\n\u001b[0;32m----> 2\u001b[0;31m \u001b[0mLinearCombinationsTest\u001b[0m\u001b[0;34m(\u001b[0m\u001b[0mtest_df\u001b[0m\u001b[0;34m)\u001b[0m\u001b[0;34m.\u001b[0m\u001b[0mrun\u001b[0m\u001b[0;34m(\u001b[0m\u001b[0;34m)\u001b[0m\u001b[0;34m\u001b[0m\u001b[0;34m\u001b[0m\u001b[0m\n\u001b[0m",
            "\u001b[0;32m/usr/local/lib/python3.9/dist-packages/mercury/insight/decorators.py\u001b[0m in \u001b[0;36mwrapped\u001b[0;34m(self, *args, **kwargs)\u001b[0m\n\u001b[1;32m     70\u001b[0m                 \u001b[0mfunc\u001b[0m \u001b[0;34m=\u001b[0m \u001b[0mtarget\u001b[0m\u001b[0;34m(\u001b[0m\u001b[0mself\u001b[0m\u001b[0;34m,\u001b[0m \u001b[0;34m*\u001b[0m\u001b[0margs\u001b[0m\u001b[0;34m,\u001b[0m \u001b[0;34m**\u001b[0m\u001b[0mkwargs\u001b[0m\u001b[0;34m)\u001b[0m\u001b[0;34m\u001b[0m\u001b[0;34m\u001b[0m\u001b[0m\n\u001b[1;32m     71\u001b[0m         \u001b[0;32mexcept\u001b[0m \u001b[0mException\u001b[0m \u001b[0;32mas\u001b[0m \u001b[0me\u001b[0m\u001b[0;34m:\u001b[0m\u001b[0;34m\u001b[0m\u001b[0;34m\u001b[0m\u001b[0m\n\u001b[0;32m---> 72\u001b[0;31m             \u001b[0;32mraise\u001b[0m \u001b[0me\u001b[0m\u001b[0;34m\u001b[0m\u001b[0;34m\u001b[0m\u001b[0m\n\u001b[0m\u001b[1;32m     73\u001b[0m         \u001b[0;32mfinally\u001b[0m\u001b[0;34m:\u001b[0m\u001b[0;34m\u001b[0m\u001b[0;34m\u001b[0m\u001b[0m\n\u001b[1;32m     74\u001b[0m             \u001b[0;31m# Re-enable the logger\u001b[0m\u001b[0;34m\u001b[0m\u001b[0;34m\u001b[0m\u001b[0m\n",
            "\u001b[0;32m/usr/local/lib/python3.9/dist-packages/mercury/insight/decorators.py\u001b[0m in \u001b[0;36mwrapped\u001b[0;34m(self, *args, **kwargs)\u001b[0m\n\u001b[1;32m     68\u001b[0m             \u001b[0mlgr\u001b[0m\u001b[0;34m.\u001b[0m\u001b[0menabled\u001b[0m \u001b[0;34m=\u001b[0m \u001b[0;32mFalse\u001b[0m\u001b[0;34m\u001b[0m\u001b[0;34m\u001b[0m\u001b[0m\n\u001b[1;32m     69\u001b[0m             \u001b[0;32mwith\u001b[0m \u001b[0mlgr\u001b[0m\u001b[0;34m:\u001b[0m\u001b[0;34m\u001b[0m\u001b[0;34m\u001b[0m\u001b[0m\n\u001b[0;32m---> 70\u001b[0;31m                 \u001b[0mfunc\u001b[0m \u001b[0;34m=\u001b[0m \u001b[0mtarget\u001b[0m\u001b[0;34m(\u001b[0m\u001b[0mself\u001b[0m\u001b[0;34m,\u001b[0m \u001b[0;34m*\u001b[0m\u001b[0margs\u001b[0m\u001b[0;34m,\u001b[0m \u001b[0;34m**\u001b[0m\u001b[0mkwargs\u001b[0m\u001b[0;34m)\u001b[0m\u001b[0;34m\u001b[0m\u001b[0;34m\u001b[0m\u001b[0m\n\u001b[0m\u001b[1;32m     71\u001b[0m         \u001b[0;32mexcept\u001b[0m \u001b[0mException\u001b[0m \u001b[0;32mas\u001b[0m \u001b[0me\u001b[0m\u001b[0;34m:\u001b[0m\u001b[0;34m\u001b[0m\u001b[0;34m\u001b[0m\u001b[0m\n\u001b[1;32m     72\u001b[0m             \u001b[0;32mraise\u001b[0m \u001b[0me\u001b[0m\u001b[0;34m\u001b[0m\u001b[0;34m\u001b[0m\u001b[0m\n",
            "\u001b[0;32m/usr/local/lib/python3.9/dist-packages/mercury/robust/data_tests.py\u001b[0m in \u001b[0;36mrun\u001b[0;34m(self, *args, **kwargs)\u001b[0m\n\u001b[1;32m    142\u001b[0m \u001b[0;34m\u001b[0m\u001b[0m\n\u001b[1;32m    143\u001b[0m         \u001b[0;32mif\u001b[0m \u001b[0mlin_combinations\u001b[0m \u001b[0;32mis\u001b[0m \u001b[0;32mnot\u001b[0m \u001b[0;32mNone\u001b[0m\u001b[0;34m:\u001b[0m\u001b[0;34m\u001b[0m\u001b[0;34m\u001b[0m\u001b[0m\n\u001b[0;32m--> 144\u001b[0;31m             \u001b[0;32mraise\u001b[0m \u001b[0mFailedTestError\u001b[0m\u001b[0;34m(\u001b[0m\u001b[0;34m\"Test failed. Linear combinations for continuous features were encountered.\"\u001b[0m\u001b[0;34m)\u001b[0m\u001b[0;34m\u001b[0m\u001b[0;34m\u001b[0m\u001b[0m\n\u001b[0m\u001b[1;32m    145\u001b[0m \u001b[0;34m\u001b[0m\u001b[0m\n\u001b[1;32m    146\u001b[0m         \u001b[0mindividually_redundant\u001b[0m \u001b[0;34m=\u001b[0m \u001b[0mCategoryStruct\u001b[0m\u001b[0;34m.\u001b[0m\u001b[0mindividually_redundant\u001b[0m\u001b[0;34m(\u001b[0m\u001b[0mself\u001b[0m\u001b[0;34m.\u001b[0m\u001b[0mbase_dataset\u001b[0m\u001b[0;34m,\u001b[0m \u001b[0mcurrent_schema\u001b[0m\u001b[0;34m.\u001b[0m\u001b[0mcategorical_feats\u001b[0m\u001b[0;34m)\u001b[0m\u001b[0;34m\u001b[0m\u001b[0;34m\u001b[0m\u001b[0m\n",
            "\u001b[0;31mFailedTestError\u001b[0m: Test failed. Linear combinations for continuous features were encountered."
          ]
        }
      ],
      "source": [
        "test_df['combination'] = test_df['age'] * 2\n",
        "LinearCombinationsTest(test_df).run()"
      ]
    },
    {
      "cell_type": "code",
      "execution_count": 22,
      "id": "02c6ac70",
      "metadata": {
        "id": "02c6ac70"
      },
      "outputs": [],
      "source": [
        "from sklearn import preprocessing"
      ]
    },
    {
      "cell_type": "code",
      "execution_count": 23,
      "id": "7f278fc3",
      "metadata": {
        "scrolled": true,
        "colab": {
          "base_uri": "https://localhost:8080/",
          "height": 175
        },
        "id": "7f278fc3",
        "outputId": "e9d5f074-9822-428f-a65c-78c3fa7efbd5"
      },
      "outputs": [
        {
          "output_type": "execute_result",
          "data": {
            "text/plain": [
              "   total_bill   tip  sex  smoker  day  time  size\n",
              "0       16.99  1.01    0       0    2     0     2\n",
              "1       10.34  1.66    1       0    2     0     3\n",
              "2       21.01  3.50    1       0    2     0     3\n",
              "3       23.68  3.31    1       0    2     0     2"
            ],
            "text/html": [
              "\n",
              "  <div id=\"df-1e6f61f8-1627-45af-990b-cab0fec37dd2\">\n",
              "    <div class=\"colab-df-container\">\n",
              "      <div>\n",
              "<style scoped>\n",
              "    .dataframe tbody tr th:only-of-type {\n",
              "        vertical-align: middle;\n",
              "    }\n",
              "\n",
              "    .dataframe tbody tr th {\n",
              "        vertical-align: top;\n",
              "    }\n",
              "\n",
              "    .dataframe thead th {\n",
              "        text-align: right;\n",
              "    }\n",
              "</style>\n",
              "<table border=\"1\" class=\"dataframe\">\n",
              "  <thead>\n",
              "    <tr style=\"text-align: right;\">\n",
              "      <th></th>\n",
              "      <th>total_bill</th>\n",
              "      <th>tip</th>\n",
              "      <th>sex</th>\n",
              "      <th>smoker</th>\n",
              "      <th>day</th>\n",
              "      <th>time</th>\n",
              "      <th>size</th>\n",
              "    </tr>\n",
              "  </thead>\n",
              "  <tbody>\n",
              "    <tr>\n",
              "      <th>0</th>\n",
              "      <td>16.99</td>\n",
              "      <td>1.01</td>\n",
              "      <td>0</td>\n",
              "      <td>0</td>\n",
              "      <td>2</td>\n",
              "      <td>0</td>\n",
              "      <td>2</td>\n",
              "    </tr>\n",
              "    <tr>\n",
              "      <th>1</th>\n",
              "      <td>10.34</td>\n",
              "      <td>1.66</td>\n",
              "      <td>1</td>\n",
              "      <td>0</td>\n",
              "      <td>2</td>\n",
              "      <td>0</td>\n",
              "      <td>3</td>\n",
              "    </tr>\n",
              "    <tr>\n",
              "      <th>2</th>\n",
              "      <td>21.01</td>\n",
              "      <td>3.50</td>\n",
              "      <td>1</td>\n",
              "      <td>0</td>\n",
              "      <td>2</td>\n",
              "      <td>0</td>\n",
              "      <td>3</td>\n",
              "    </tr>\n",
              "    <tr>\n",
              "      <th>3</th>\n",
              "      <td>23.68</td>\n",
              "      <td>3.31</td>\n",
              "      <td>1</td>\n",
              "      <td>0</td>\n",
              "      <td>2</td>\n",
              "      <td>0</td>\n",
              "      <td>2</td>\n",
              "    </tr>\n",
              "  </tbody>\n",
              "</table>\n",
              "</div>\n",
              "      <button class=\"colab-df-convert\" onclick=\"convertToInteractive('df-1e6f61f8-1627-45af-990b-cab0fec37dd2')\"\n",
              "              title=\"Convert this dataframe to an interactive table.\"\n",
              "              style=\"display:none;\">\n",
              "        \n",
              "  <svg xmlns=\"http://www.w3.org/2000/svg\" height=\"24px\"viewBox=\"0 0 24 24\"\n",
              "       width=\"24px\">\n",
              "    <path d=\"M0 0h24v24H0V0z\" fill=\"none\"/>\n",
              "    <path d=\"M18.56 5.44l.94 2.06.94-2.06 2.06-.94-2.06-.94-.94-2.06-.94 2.06-2.06.94zm-11 1L8.5 8.5l.94-2.06 2.06-.94-2.06-.94L8.5 2.5l-.94 2.06-2.06.94zm10 10l.94 2.06.94-2.06 2.06-.94-2.06-.94-.94-2.06-.94 2.06-2.06.94z\"/><path d=\"M17.41 7.96l-1.37-1.37c-.4-.4-.92-.59-1.43-.59-.52 0-1.04.2-1.43.59L10.3 9.45l-7.72 7.72c-.78.78-.78 2.05 0 2.83L4 21.41c.39.39.9.59 1.41.59.51 0 1.02-.2 1.41-.59l7.78-7.78 2.81-2.81c.8-.78.8-2.07 0-2.86zM5.41 20L4 18.59l7.72-7.72 1.47 1.35L5.41 20z\"/>\n",
              "  </svg>\n",
              "      </button>\n",
              "      \n",
              "  <style>\n",
              "    .colab-df-container {\n",
              "      display:flex;\n",
              "      flex-wrap:wrap;\n",
              "      gap: 12px;\n",
              "    }\n",
              "\n",
              "    .colab-df-convert {\n",
              "      background-color: #E8F0FE;\n",
              "      border: none;\n",
              "      border-radius: 50%;\n",
              "      cursor: pointer;\n",
              "      display: none;\n",
              "      fill: #1967D2;\n",
              "      height: 32px;\n",
              "      padding: 0 0 0 0;\n",
              "      width: 32px;\n",
              "    }\n",
              "\n",
              "    .colab-df-convert:hover {\n",
              "      background-color: #E2EBFA;\n",
              "      box-shadow: 0px 1px 2px rgba(60, 64, 67, 0.3), 0px 1px 3px 1px rgba(60, 64, 67, 0.15);\n",
              "      fill: #174EA6;\n",
              "    }\n",
              "\n",
              "    [theme=dark] .colab-df-convert {\n",
              "      background-color: #3B4455;\n",
              "      fill: #D2E3FC;\n",
              "    }\n",
              "\n",
              "    [theme=dark] .colab-df-convert:hover {\n",
              "      background-color: #434B5C;\n",
              "      box-shadow: 0px 1px 3px 1px rgba(0, 0, 0, 0.15);\n",
              "      filter: drop-shadow(0px 1px 2px rgba(0, 0, 0, 0.3));\n",
              "      fill: #FFFFFF;\n",
              "    }\n",
              "  </style>\n",
              "\n",
              "      <script>\n",
              "        const buttonEl =\n",
              "          document.querySelector('#df-1e6f61f8-1627-45af-990b-cab0fec37dd2 button.colab-df-convert');\n",
              "        buttonEl.style.display =\n",
              "          google.colab.kernel.accessAllowed ? 'block' : 'none';\n",
              "\n",
              "        async function convertToInteractive(key) {\n",
              "          const element = document.querySelector('#df-1e6f61f8-1627-45af-990b-cab0fec37dd2');\n",
              "          const dataTable =\n",
              "            await google.colab.kernel.invokeFunction('convertToInteractive',\n",
              "                                                     [key], {});\n",
              "          if (!dataTable) return;\n",
              "\n",
              "          const docLinkHtml = 'Like what you see? Visit the ' +\n",
              "            '<a target=\"_blank\" href=https://colab.research.google.com/notebooks/data_table.ipynb>data table notebook</a>'\n",
              "            + ' to learn more about interactive tables.';\n",
              "          element.innerHTML = '';\n",
              "          dataTable['output_type'] = 'display_data';\n",
              "          await google.colab.output.renderOutput(dataTable, element);\n",
              "          const docLink = document.createElement('div');\n",
              "          docLink.innerHTML = docLinkHtml;\n",
              "          element.appendChild(docLink);\n",
              "        }\n",
              "      </script>\n",
              "    </div>\n",
              "  </div>\n",
              "  "
            ]
          },
          "metadata": {},
          "execution_count": 23
        }
      ],
      "source": [
        "tips = sns.load_dataset(\"tips\")\n",
        "tips['sex'] = tips['sex'].astype(str)\n",
        "tips['smoker'] = tips['smoker'].astype(str)\n",
        "tips['day'] = tips['day'].astype(str)\n",
        "tips['time'] = tips['time'].astype(str)\n",
        "\n",
        "for feat in ['sex', 'smoker', 'day', 'time']:\n",
        "    tips.loc[:, feat] = preprocessing.LabelEncoder().fit_transform(tips.loc[:, feat])\n",
        "\n",
        "tips.head(4)"
      ]
    },
    {
      "cell_type": "markdown",
      "id": "5e4a1bbd",
      "metadata": {
        "id": "5e4a1bbd"
      },
      "source": [
        "In this case, `injected` will be the target variable squared"
      ]
    },
    {
      "cell_type": "code",
      "execution_count": 24,
      "id": "580e69bd",
      "metadata": {
        "id": "580e69bd"
      },
      "outputs": [],
      "source": [
        "tips['injected'] = tips['total_bill'] ** 2"
      ]
    },
    {
      "cell_type": "markdown",
      "id": "ae1678dc",
      "metadata": {
        "id": "ae1678dc"
      },
      "source": [
        "We create and run the test"
      ]
    },
    {
      "cell_type": "code",
      "execution_count": 25,
      "id": "13710585",
      "metadata": {
        "id": "13710585"
      },
      "outputs": [],
      "source": [
        "test = LabelLeakingTest(\n",
        "    tips,\n",
        "    label_name='total_bill',\n",
        "    threshold = 0.05\n",
        ")"
      ]
    },
    {
      "cell_type": "code",
      "execution_count": 26,
      "id": "1bb5a828",
      "metadata": {
        "colab": {
          "base_uri": "https://localhost:8080/",
          "height": 409
        },
        "id": "1bb5a828",
        "outputId": "78fd8846-a8bf-4684-83f0-8d697f62b9f4"
      },
      "outputs": [
        {
          "output_type": "stream",
          "name": "stderr",
          "text": [
            "/usr/local/lib/python3.9/dist-packages/mercury/contrib/dataschema/feature.py:308: RuntimeWarning: INTEGER feature day converted to Categorical because percentage of unique values 0.01639344262295082 is lower than threshold 0.20491803278688525\n",
            "  warnings.warn(\n",
            "/usr/local/lib/python3.9/dist-packages/mercury/contrib/dataschema/feature.py:308: RuntimeWarning: INTEGER feature size converted to Categorical because percentage of unique values 0.02459016393442623 is lower than threshold 0.20491803278688525\n",
            "  warnings.warn(\n"
          ]
        },
        {
          "output_type": "error",
          "ename": "FailedTestError",
          "evalue": "ignored",
          "traceback": [
            "\u001b[0;31m---------------------------------------------------------------------------\u001b[0m",
            "\u001b[0;31mFailedTestError\u001b[0m                           Traceback (most recent call last)",
            "\u001b[0;32m<ipython-input-26-01cc4cff09a5>\u001b[0m in \u001b[0;36m<cell line: 1>\u001b[0;34m()\u001b[0m\n\u001b[0;32m----> 1\u001b[0;31m \u001b[0mtest\u001b[0m\u001b[0;34m.\u001b[0m\u001b[0mrun\u001b[0m\u001b[0;34m(\u001b[0m\u001b[0;34m)\u001b[0m\u001b[0;34m\u001b[0m\u001b[0;34m\u001b[0m\u001b[0m\n\u001b[0m",
            "\u001b[0;32m/usr/local/lib/python3.9/dist-packages/mercury/insight/decorators.py\u001b[0m in \u001b[0;36mwrapped\u001b[0;34m(self, *args, **kwargs)\u001b[0m\n\u001b[1;32m     70\u001b[0m                 \u001b[0mfunc\u001b[0m \u001b[0;34m=\u001b[0m \u001b[0mtarget\u001b[0m\u001b[0;34m(\u001b[0m\u001b[0mself\u001b[0m\u001b[0;34m,\u001b[0m \u001b[0;34m*\u001b[0m\u001b[0margs\u001b[0m\u001b[0;34m,\u001b[0m \u001b[0;34m**\u001b[0m\u001b[0mkwargs\u001b[0m\u001b[0;34m)\u001b[0m\u001b[0;34m\u001b[0m\u001b[0;34m\u001b[0m\u001b[0m\n\u001b[1;32m     71\u001b[0m         \u001b[0;32mexcept\u001b[0m \u001b[0mException\u001b[0m \u001b[0;32mas\u001b[0m \u001b[0me\u001b[0m\u001b[0;34m:\u001b[0m\u001b[0;34m\u001b[0m\u001b[0;34m\u001b[0m\u001b[0m\n\u001b[0;32m---> 72\u001b[0;31m             \u001b[0;32mraise\u001b[0m \u001b[0me\u001b[0m\u001b[0;34m\u001b[0m\u001b[0;34m\u001b[0m\u001b[0m\n\u001b[0m\u001b[1;32m     73\u001b[0m         \u001b[0;32mfinally\u001b[0m\u001b[0;34m:\u001b[0m\u001b[0;34m\u001b[0m\u001b[0;34m\u001b[0m\u001b[0m\n\u001b[1;32m     74\u001b[0m             \u001b[0;31m# Re-enable the logger\u001b[0m\u001b[0;34m\u001b[0m\u001b[0;34m\u001b[0m\u001b[0m\n",
            "\u001b[0;32m/usr/local/lib/python3.9/dist-packages/mercury/insight/decorators.py\u001b[0m in \u001b[0;36mwrapped\u001b[0;34m(self, *args, **kwargs)\u001b[0m\n\u001b[1;32m     68\u001b[0m             \u001b[0mlgr\u001b[0m\u001b[0;34m.\u001b[0m\u001b[0menabled\u001b[0m \u001b[0;34m=\u001b[0m \u001b[0;32mFalse\u001b[0m\u001b[0;34m\u001b[0m\u001b[0;34m\u001b[0m\u001b[0m\n\u001b[1;32m     69\u001b[0m             \u001b[0;32mwith\u001b[0m \u001b[0mlgr\u001b[0m\u001b[0;34m:\u001b[0m\u001b[0;34m\u001b[0m\u001b[0;34m\u001b[0m\u001b[0m\n\u001b[0;32m---> 70\u001b[0;31m                 \u001b[0mfunc\u001b[0m \u001b[0;34m=\u001b[0m \u001b[0mtarget\u001b[0m\u001b[0;34m(\u001b[0m\u001b[0mself\u001b[0m\u001b[0;34m,\u001b[0m \u001b[0;34m*\u001b[0m\u001b[0margs\u001b[0m\u001b[0;34m,\u001b[0m \u001b[0;34m**\u001b[0m\u001b[0mkwargs\u001b[0m\u001b[0;34m)\u001b[0m\u001b[0;34m\u001b[0m\u001b[0;34m\u001b[0m\u001b[0m\n\u001b[0m\u001b[1;32m     71\u001b[0m         \u001b[0;32mexcept\u001b[0m \u001b[0mException\u001b[0m \u001b[0;32mas\u001b[0m \u001b[0me\u001b[0m\u001b[0;34m:\u001b[0m\u001b[0;34m\u001b[0m\u001b[0;34m\u001b[0m\u001b[0m\n\u001b[1;32m     72\u001b[0m             \u001b[0;32mraise\u001b[0m \u001b[0me\u001b[0m\u001b[0;34m\u001b[0m\u001b[0;34m\u001b[0m\u001b[0m\n",
            "\u001b[0;32m/usr/local/lib/python3.9/dist-packages/mercury/robust/data_tests.py\u001b[0m in \u001b[0;36mrun\u001b[0;34m(self, *args, **kwargs)\u001b[0m\n\u001b[1;32m    567\u001b[0m             \u001b[0midxs\u001b[0m \u001b[0;34m=\u001b[0m \u001b[0mselector\u001b[0m\u001b[0;34m.\u001b[0m\u001b[0mfeature_importances\u001b[0m\u001b[0;34m[\u001b[0m\u001b[0;34m'features'\u001b[0m\u001b[0;34m]\u001b[0m\u001b[0;34m[\u001b[0m\u001b[0mhigh_importance_feats\u001b[0m\u001b[0;34m]\u001b[0m\u001b[0;34m\u001b[0m\u001b[0;34m\u001b[0m\u001b[0m\n\u001b[1;32m    568\u001b[0m             \u001b[0mnames\u001b[0m \u001b[0;34m=\u001b[0m \u001b[0mX\u001b[0m\u001b[0;34m.\u001b[0m\u001b[0mcolumns\u001b[0m\u001b[0;34m[\u001b[0m\u001b[0midxs\u001b[0m\u001b[0;34m]\u001b[0m\u001b[0;34m.\u001b[0m\u001b[0mtolist\u001b[0m\u001b[0;34m(\u001b[0m\u001b[0;34m)\u001b[0m\u001b[0;34m\u001b[0m\u001b[0;34m\u001b[0m\u001b[0m\n\u001b[0;32m--> 569\u001b[0;31m             raise FailedTestError((\n\u001b[0m\u001b[1;32m    570\u001b[0m                 \u001b[0;34mf\"Test failed because high importance features were detected: {names}. \"\u001b[0m\u001b[0;34m\u001b[0m\u001b[0;34m\u001b[0m\u001b[0m\n\u001b[1;32m    571\u001b[0m                 \u001b[0;34m\"Check for possible target leaking.\"\u001b[0m\u001b[0;34m\u001b[0m\u001b[0;34m\u001b[0m\u001b[0m\n",
            "\u001b[0;31mFailedTestError\u001b[0m: Test failed because high importance features were detected: ['injected']. Check for possible target leaking."
          ]
        }
      ],
      "source": [
        "test.run()"
      ]
    },
    {
      "cell_type": "markdown",
      "id": "353749b8",
      "metadata": {
        "id": "353749b8"
      },
      "source": [
        "Because the test failed, we can take a look at the `importances_` attribute. It is a dictionary with all the predictor features and their \"relationship\" to the target. \n",
        "\n",
        "This \"relationship\" is simply the result of a chosen metric whose best value is $1$ (by default: ROC-AUC for classification and $R^2$ for regression; although you can manually specify other metric via the `metric` parameter). Thus, if any of the features is too close to 1 ($> 1 - threshold$), the test will fail. The threshold can be configured via the `threshold` parameter, so using a higher threshold will require a higher importance on the feature to make the test fail.\n",
        "\n",
        "*Note: Note that the chosen metric doesn't have to be the one you're optimizing. The purpose of this test is only to find strong relationships, so almost any metric will do the job.*"
      ]
    },
    {
      "cell_type": "code",
      "execution_count": 27,
      "id": "3b62071d",
      "metadata": {
        "colab": {
          "base_uri": "https://localhost:8080/"
        },
        "id": "3b62071d",
        "outputId": "3c8f2bda-4799-4791-bdcd-49f56974854c"
      },
      "outputs": [
        {
          "output_type": "execute_result",
          "data": {
            "text/plain": [
              "{'smoker': 0.007348133957009506,\n",
              " 'sex': 0.020989442787269885,\n",
              " 'day': 0.03343679742214034,\n",
              " 'time': 0.033532057384179303,\n",
              " 'size': 0.3706735216893777,\n",
              " 'tip': 0.511194450488601,\n",
              " 'injected': 0.9749336284220832}"
            ]
          },
          "metadata": {},
          "execution_count": 27
        }
      ],
      "source": [
        "test.importances_"
      ]
    },
    {
      "cell_type": "markdown",
      "id": "5b3b88dd",
      "metadata": {
        "id": "5b3b88dd"
      },
      "source": [
        "Internally, this test uses the **[TreeSelector](https://au-bbva-devplatform.appspot.com/advanced-analytics/tech-doc/mercury/latest/mercury-contrib/reference/preprocessing/feature_selection/index.html#mercury.contrib.preprocessing.feature_selection.treeselector.TreeSelector)** class, after the test is done, you can inspect the fitted object with the following:"
      ]
    },
    {
      "cell_type": "code",
      "execution_count": 28,
      "id": "bd828b39",
      "metadata": {
        "colab": {
          "base_uri": "https://localhost:8080/"
        },
        "id": "bd828b39",
        "outputId": "04a082ed-f134-476e-e002-f1296b829618"
      },
      "outputs": [
        {
          "output_type": "execute_result",
          "data": {
            "text/plain": [
              "{'features': array([2, 1, 3, 4, 5, 0, 6]),\n",
              " 'metrics': [0.007348133957009506,\n",
              "  0.020989442787269885,\n",
              "  0.03343679742214034,\n",
              "  0.033532057384179303,\n",
              "  0.3706735216893777,\n",
              "  0.511194450488601,\n",
              "  0.9749336284220832]}"
            ]
          },
          "metadata": {},
          "execution_count": 28
        }
      ],
      "source": [
        "test._selector.feature_importances"
      ]
    },
    {
      "cell_type": "markdown",
      "id": "a0c8a721",
      "metadata": {
        "id": "a0c8a721"
      },
      "source": [
        "<a id=\"noisy_labels\"></a>\n",
        "### Noisy Labels Test example\n",
        "\n",
        "This test looks at the labels of the dataset and fails if there are a high number of samples where the labels are considered noisy. Noisy labels can happen for several reasons. For example, they can occur due to errors in the labelling process, or because some samples might not belong to just one specific label."
      ]
    },
    {
      "cell_type": "markdown",
      "id": "61ce164e",
      "metadata": {
        "id": "61ce164e"
      },
      "source": [
        "<b> Tabular Dataset: Titanic </b>\n",
        "\n",
        "Let's first use the test in the titanic dataset. We will keep only some columns and discard rows with null values:"
      ]
    },
    {
      "cell_type": "code",
      "execution_count": 29,
      "id": "9e5cb43f",
      "metadata": {
        "colab": {
          "base_uri": "https://localhost:8080/",
          "height": 206
        },
        "id": "9e5cb43f",
        "outputId": "e4c67f9c-f311-4368-f5d2-b8409d941f40"
      },
      "outputs": [
        {
          "output_type": "execute_result",
          "data": {
            "text/plain": [
              "   survived  pclass     sex   age     fare    who\n",
              "0         0       3    male  22.0   7.2500    man\n",
              "1         1       1  female  38.0  71.2833  woman\n",
              "2         1       3  female  26.0   7.9250  woman\n",
              "3         1       1  female  35.0  53.1000  woman\n",
              "4         0       3    male  35.0   8.0500    man"
            ],
            "text/html": [
              "\n",
              "  <div id=\"df-37c9c28f-cf78-41bb-9e30-d9482b0b9ca3\">\n",
              "    <div class=\"colab-df-container\">\n",
              "      <div>\n",
              "<style scoped>\n",
              "    .dataframe tbody tr th:only-of-type {\n",
              "        vertical-align: middle;\n",
              "    }\n",
              "\n",
              "    .dataframe tbody tr th {\n",
              "        vertical-align: top;\n",
              "    }\n",
              "\n",
              "    .dataframe thead th {\n",
              "        text-align: right;\n",
              "    }\n",
              "</style>\n",
              "<table border=\"1\" class=\"dataframe\">\n",
              "  <thead>\n",
              "    <tr style=\"text-align: right;\">\n",
              "      <th></th>\n",
              "      <th>survived</th>\n",
              "      <th>pclass</th>\n",
              "      <th>sex</th>\n",
              "      <th>age</th>\n",
              "      <th>fare</th>\n",
              "      <th>who</th>\n",
              "    </tr>\n",
              "  </thead>\n",
              "  <tbody>\n",
              "    <tr>\n",
              "      <th>0</th>\n",
              "      <td>0</td>\n",
              "      <td>3</td>\n",
              "      <td>male</td>\n",
              "      <td>22.0</td>\n",
              "      <td>7.2500</td>\n",
              "      <td>man</td>\n",
              "    </tr>\n",
              "    <tr>\n",
              "      <th>1</th>\n",
              "      <td>1</td>\n",
              "      <td>1</td>\n",
              "      <td>female</td>\n",
              "      <td>38.0</td>\n",
              "      <td>71.2833</td>\n",
              "      <td>woman</td>\n",
              "    </tr>\n",
              "    <tr>\n",
              "      <th>2</th>\n",
              "      <td>1</td>\n",
              "      <td>3</td>\n",
              "      <td>female</td>\n",
              "      <td>26.0</td>\n",
              "      <td>7.9250</td>\n",
              "      <td>woman</td>\n",
              "    </tr>\n",
              "    <tr>\n",
              "      <th>3</th>\n",
              "      <td>1</td>\n",
              "      <td>1</td>\n",
              "      <td>female</td>\n",
              "      <td>35.0</td>\n",
              "      <td>53.1000</td>\n",
              "      <td>woman</td>\n",
              "    </tr>\n",
              "    <tr>\n",
              "      <th>4</th>\n",
              "      <td>0</td>\n",
              "      <td>3</td>\n",
              "      <td>male</td>\n",
              "      <td>35.0</td>\n",
              "      <td>8.0500</td>\n",
              "      <td>man</td>\n",
              "    </tr>\n",
              "  </tbody>\n",
              "</table>\n",
              "</div>\n",
              "      <button class=\"colab-df-convert\" onclick=\"convertToInteractive('df-37c9c28f-cf78-41bb-9e30-d9482b0b9ca3')\"\n",
              "              title=\"Convert this dataframe to an interactive table.\"\n",
              "              style=\"display:none;\">\n",
              "        \n",
              "  <svg xmlns=\"http://www.w3.org/2000/svg\" height=\"24px\"viewBox=\"0 0 24 24\"\n",
              "       width=\"24px\">\n",
              "    <path d=\"M0 0h24v24H0V0z\" fill=\"none\"/>\n",
              "    <path d=\"M18.56 5.44l.94 2.06.94-2.06 2.06-.94-2.06-.94-.94-2.06-.94 2.06-2.06.94zm-11 1L8.5 8.5l.94-2.06 2.06-.94-2.06-.94L8.5 2.5l-.94 2.06-2.06.94zm10 10l.94 2.06.94-2.06 2.06-.94-2.06-.94-.94-2.06-.94 2.06-2.06.94z\"/><path d=\"M17.41 7.96l-1.37-1.37c-.4-.4-.92-.59-1.43-.59-.52 0-1.04.2-1.43.59L10.3 9.45l-7.72 7.72c-.78.78-.78 2.05 0 2.83L4 21.41c.39.39.9.59 1.41.59.51 0 1.02-.2 1.41-.59l7.78-7.78 2.81-2.81c.8-.78.8-2.07 0-2.86zM5.41 20L4 18.59l7.72-7.72 1.47 1.35L5.41 20z\"/>\n",
              "  </svg>\n",
              "      </button>\n",
              "      \n",
              "  <style>\n",
              "    .colab-df-container {\n",
              "      display:flex;\n",
              "      flex-wrap:wrap;\n",
              "      gap: 12px;\n",
              "    }\n",
              "\n",
              "    .colab-df-convert {\n",
              "      background-color: #E8F0FE;\n",
              "      border: none;\n",
              "      border-radius: 50%;\n",
              "      cursor: pointer;\n",
              "      display: none;\n",
              "      fill: #1967D2;\n",
              "      height: 32px;\n",
              "      padding: 0 0 0 0;\n",
              "      width: 32px;\n",
              "    }\n",
              "\n",
              "    .colab-df-convert:hover {\n",
              "      background-color: #E2EBFA;\n",
              "      box-shadow: 0px 1px 2px rgba(60, 64, 67, 0.3), 0px 1px 3px 1px rgba(60, 64, 67, 0.15);\n",
              "      fill: #174EA6;\n",
              "    }\n",
              "\n",
              "    [theme=dark] .colab-df-convert {\n",
              "      background-color: #3B4455;\n",
              "      fill: #D2E3FC;\n",
              "    }\n",
              "\n",
              "    [theme=dark] .colab-df-convert:hover {\n",
              "      background-color: #434B5C;\n",
              "      box-shadow: 0px 1px 3px 1px rgba(0, 0, 0, 0.15);\n",
              "      filter: drop-shadow(0px 1px 2px rgba(0, 0, 0, 0.3));\n",
              "      fill: #FFFFFF;\n",
              "    }\n",
              "  </style>\n",
              "\n",
              "      <script>\n",
              "        const buttonEl =\n",
              "          document.querySelector('#df-37c9c28f-cf78-41bb-9e30-d9482b0b9ca3 button.colab-df-convert');\n",
              "        buttonEl.style.display =\n",
              "          google.colab.kernel.accessAllowed ? 'block' : 'none';\n",
              "\n",
              "        async function convertToInteractive(key) {\n",
              "          const element = document.querySelector('#df-37c9c28f-cf78-41bb-9e30-d9482b0b9ca3');\n",
              "          const dataTable =\n",
              "            await google.colab.kernel.invokeFunction('convertToInteractive',\n",
              "                                                     [key], {});\n",
              "          if (!dataTable) return;\n",
              "\n",
              "          const docLinkHtml = 'Like what you see? Visit the ' +\n",
              "            '<a target=\"_blank\" href=https://colab.research.google.com/notebooks/data_table.ipynb>data table notebook</a>'\n",
              "            + ' to learn more about interactive tables.';\n",
              "          element.innerHTML = '';\n",
              "          dataTable['output_type'] = 'display_data';\n",
              "          await google.colab.output.renderOutput(dataTable, element);\n",
              "          const docLink = document.createElement('div');\n",
              "          docLink.innerHTML = docLinkHtml;\n",
              "          element.appendChild(docLink);\n",
              "        }\n",
              "      </script>\n",
              "    </div>\n",
              "  </div>\n",
              "  "
            ]
          },
          "metadata": {},
          "execution_count": 29
        }
      ],
      "source": [
        "train_df = titanic[[\"survived\", \"pclass\", \"sex\", \"age\", \"fare\", \"who\"]].dropna().copy()\n",
        "train_df.head()"
      ]
    },
    {
      "cell_type": "markdown",
      "id": "845ea2dd",
      "metadata": {
        "id": "845ea2dd"
      },
      "source": [
        "Now we create the `NoisyLabelsTest`. \n",
        "\n",
        "We specify the dataset, the label name and a threshold of 0.25, which means that if more than 25% are detected as noisy then the text will fail. \n",
        "\n",
        "We also specify some parameters for the algorithm detecting the noisy labels (internally, it uses the test uses the [cleanlab](https://cleanlab.readthedocs.io/en/latest/) library). In this case, we specify that the algorithm will use a Random Forest to compute the probabilities (if we left the default configuration it uses a Logistic Regression). You can see more configurable parameters in the documentation.\n",
        "\n",
        "Another important point is that the dataset contains string features. In this case, as we do not specify the `preprocessor` argument, then the test will use a `OneHotEncoding` to encode these features. Alternatively, it is possible to pass a `preprocessor` to apply to the features."
      ]
    },
    {
      "cell_type": "code",
      "execution_count": 30,
      "id": "b6521e4d",
      "metadata": {
        "colab": {
          "base_uri": "https://localhost:8080/"
        },
        "id": "b6521e4d",
        "outputId": "03615810-2028-4d47-f33f-63e1eeef1505"
      },
      "outputs": [
        {
          "output_type": "stream",
          "name": "stderr",
          "text": [
            "/usr/local/lib/python3.9/dist-packages/mercury/contrib/dataschema/feature.py:308: RuntimeWarning: INTEGER feature pclass converted to Categorical because percentage of unique values 0.004201680672268907 is lower than threshold 0.0700280112044818\n",
            "  warnings.warn(\n"
          ]
        }
      ],
      "source": [
        "from sklearn.ensemble import RandomForestClassifier\n",
        "\n",
        "label_issues_args = dict(\n",
        "    clf=RandomForestClassifier(max_depth=4)\n",
        ")\n",
        "\n",
        "test = NoisyLabelsTest(\n",
        "    train_df,\n",
        "    label_name='survived',\n",
        "    threshold=0.25,\n",
        "    label_issues_args=label_issues_args\n",
        ")\n",
        "test.run()"
      ]
    },
    {
      "cell_type": "markdown",
      "id": "2afcc372",
      "metadata": {
        "id": "2afcc372"
      },
      "source": [
        "The test has passed. We can also look at the percentage of labels detected as noisy looking at the property `rate_issues_`:"
      ]
    },
    {
      "cell_type": "code",
      "execution_count": 31,
      "id": "26ab230a",
      "metadata": {
        "colab": {
          "base_uri": "https://localhost:8080/"
        },
        "id": "26ab230a",
        "outputId": "d36c2df1-b46d-4a37-b4d3-cee10cbf21eb"
      },
      "outputs": [
        {
          "output_type": "execute_result",
          "data": {
            "text/plain": [
              "0.08823529411764706"
            ]
          },
          "metadata": {},
          "execution_count": 31
        }
      ],
      "source": [
        "test.rate_issues_"
      ]
    },
    {
      "cell_type": "markdown",
      "id": "2a2c9271",
      "metadata": {
        "id": "2a2c9271"
      },
      "source": [
        "Now, let's introduce noise in the labels and see if the test keeps passing:"
      ]
    },
    {
      "cell_type": "code",
      "execution_count": 32,
      "id": "49a3942f",
      "metadata": {
        "id": "49a3942f"
      },
      "outputs": [],
      "source": [
        "train_df[\"survived\"] = np.random.choice([0,1], replace=True, size=len(train_df))"
      ]
    },
    {
      "cell_type": "code",
      "execution_count": 33,
      "id": "a34f248f",
      "metadata": {
        "colab": {
          "base_uri": "https://localhost:8080/",
          "height": 409
        },
        "id": "a34f248f",
        "outputId": "de1ae583-65b9-4c2b-fb6a-86e72702a50e"
      },
      "outputs": [
        {
          "output_type": "stream",
          "name": "stderr",
          "text": [
            "/usr/local/lib/python3.9/dist-packages/mercury/contrib/dataschema/feature.py:308: RuntimeWarning: INTEGER feature pclass converted to Categorical because percentage of unique values 0.004201680672268907 is lower than threshold 0.0700280112044818\n",
            "  warnings.warn(\n"
          ]
        },
        {
          "output_type": "error",
          "ename": "FailedTestError",
          "evalue": "ignored",
          "traceback": [
            "\u001b[0;31m---------------------------------------------------------------------------\u001b[0m",
            "\u001b[0;31mFailedTestError\u001b[0m                           Traceback (most recent call last)",
            "\u001b[0;32m<ipython-input-33-1398d523793d>\u001b[0m in \u001b[0;36m<cell line: 11>\u001b[0;34m()\u001b[0m\n\u001b[1;32m      9\u001b[0m     \u001b[0mlabel_issues_args\u001b[0m\u001b[0;34m=\u001b[0m\u001b[0mlabel_issues_args\u001b[0m\u001b[0;34m\u001b[0m\u001b[0;34m\u001b[0m\u001b[0m\n\u001b[1;32m     10\u001b[0m )\n\u001b[0;32m---> 11\u001b[0;31m \u001b[0mtest\u001b[0m\u001b[0;34m.\u001b[0m\u001b[0mrun\u001b[0m\u001b[0;34m(\u001b[0m\u001b[0;34m)\u001b[0m\u001b[0;34m\u001b[0m\u001b[0;34m\u001b[0m\u001b[0m\n\u001b[0m",
            "\u001b[0;32m/usr/local/lib/python3.9/dist-packages/mercury/insight/decorators.py\u001b[0m in \u001b[0;36mwrapped\u001b[0;34m(self, *args, **kwargs)\u001b[0m\n\u001b[1;32m     70\u001b[0m                 \u001b[0mfunc\u001b[0m \u001b[0;34m=\u001b[0m \u001b[0mtarget\u001b[0m\u001b[0;34m(\u001b[0m\u001b[0mself\u001b[0m\u001b[0;34m,\u001b[0m \u001b[0;34m*\u001b[0m\u001b[0margs\u001b[0m\u001b[0;34m,\u001b[0m \u001b[0;34m**\u001b[0m\u001b[0mkwargs\u001b[0m\u001b[0;34m)\u001b[0m\u001b[0;34m\u001b[0m\u001b[0;34m\u001b[0m\u001b[0m\n\u001b[1;32m     71\u001b[0m         \u001b[0;32mexcept\u001b[0m \u001b[0mException\u001b[0m \u001b[0;32mas\u001b[0m \u001b[0me\u001b[0m\u001b[0;34m:\u001b[0m\u001b[0;34m\u001b[0m\u001b[0;34m\u001b[0m\u001b[0m\n\u001b[0;32m---> 72\u001b[0;31m             \u001b[0;32mraise\u001b[0m \u001b[0me\u001b[0m\u001b[0;34m\u001b[0m\u001b[0;34m\u001b[0m\u001b[0m\n\u001b[0m\u001b[1;32m     73\u001b[0m         \u001b[0;32mfinally\u001b[0m\u001b[0;34m:\u001b[0m\u001b[0;34m\u001b[0m\u001b[0;34m\u001b[0m\u001b[0m\n\u001b[1;32m     74\u001b[0m             \u001b[0;31m# Re-enable the logger\u001b[0m\u001b[0;34m\u001b[0m\u001b[0;34m\u001b[0m\u001b[0m\n",
            "\u001b[0;32m/usr/local/lib/python3.9/dist-packages/mercury/insight/decorators.py\u001b[0m in \u001b[0;36mwrapped\u001b[0;34m(self, *args, **kwargs)\u001b[0m\n\u001b[1;32m     68\u001b[0m             \u001b[0mlgr\u001b[0m\u001b[0;34m.\u001b[0m\u001b[0menabled\u001b[0m \u001b[0;34m=\u001b[0m \u001b[0;32mFalse\u001b[0m\u001b[0;34m\u001b[0m\u001b[0;34m\u001b[0m\u001b[0m\n\u001b[1;32m     69\u001b[0m             \u001b[0;32mwith\u001b[0m \u001b[0mlgr\u001b[0m\u001b[0;34m:\u001b[0m\u001b[0;34m\u001b[0m\u001b[0;34m\u001b[0m\u001b[0m\n\u001b[0;32m---> 70\u001b[0;31m                 \u001b[0mfunc\u001b[0m \u001b[0;34m=\u001b[0m \u001b[0mtarget\u001b[0m\u001b[0;34m(\u001b[0m\u001b[0mself\u001b[0m\u001b[0;34m,\u001b[0m \u001b[0;34m*\u001b[0m\u001b[0margs\u001b[0m\u001b[0;34m,\u001b[0m \u001b[0;34m**\u001b[0m\u001b[0mkwargs\u001b[0m\u001b[0;34m)\u001b[0m\u001b[0;34m\u001b[0m\u001b[0;34m\u001b[0m\u001b[0m\n\u001b[0m\u001b[1;32m     71\u001b[0m         \u001b[0;32mexcept\u001b[0m \u001b[0mException\u001b[0m \u001b[0;32mas\u001b[0m \u001b[0me\u001b[0m\u001b[0;34m:\u001b[0m\u001b[0;34m\u001b[0m\u001b[0;34m\u001b[0m\u001b[0m\n\u001b[1;32m     72\u001b[0m             \u001b[0;32mraise\u001b[0m \u001b[0me\u001b[0m\u001b[0;34m\u001b[0m\u001b[0;34m\u001b[0m\u001b[0m\n",
            "\u001b[0;32m/usr/local/lib/python3.9/dist-packages/mercury/robust/data_tests.py\u001b[0m in \u001b[0;36mrun\u001b[0;34m(self, *args, **kwargs)\u001b[0m\n\u001b[1;32m    809\u001b[0m         \u001b[0;31m# If percentage of issues is higher than threshold, throw exception\u001b[0m\u001b[0;34m\u001b[0m\u001b[0;34m\u001b[0m\u001b[0m\n\u001b[1;32m    810\u001b[0m         \u001b[0;32mif\u001b[0m \u001b[0mself\u001b[0m\u001b[0;34m.\u001b[0m\u001b[0mrate_issues_\u001b[0m \u001b[0;34m>\u001b[0m \u001b[0mself\u001b[0m\u001b[0;34m.\u001b[0m\u001b[0mthreshold\u001b[0m\u001b[0;34m:\u001b[0m\u001b[0;34m\u001b[0m\u001b[0;34m\u001b[0m\u001b[0m\n\u001b[0;32m--> 811\u001b[0;31m             raise FailedTestError(\n\u001b[0m\u001b[1;32m    812\u001b[0m                 \u001b[0;34mf\"Test failed. High level of noise detected in labels. Percentage of labels with noise: {self.rate_issues_}\"\u001b[0m\u001b[0;34m\u001b[0m\u001b[0;34m\u001b[0m\u001b[0m\n\u001b[1;32m    813\u001b[0m             )\n",
            "\u001b[0;31mFailedTestError\u001b[0m: Test failed. High level of noise detected in labels. Percentage of labels with noise: 0.5042016806722689"
          ]
        }
      ],
      "source": [
        "label_issues_args = dict(\n",
        "    clf=RandomForestClassifier(max_depth=4)\n",
        ")\n",
        "\n",
        "test = NoisyLabelsTest(\n",
        "    train_df,\n",
        "    label_name='survived',\n",
        "    threshold=0.25,\n",
        "    label_issues_args=label_issues_args\n",
        ")\n",
        "test.run()"
      ]
    },
    {
      "cell_type": "markdown",
      "id": "16450d43",
      "metadata": {
        "id": "16450d43"
      },
      "source": [
        "We see that now the test fails since the percentage of labels detected with noise is higher than the threshold"
      ]
    },
    {
      "cell_type": "markdown",
      "id": "b2737803",
      "metadata": {
        "id": "b2737803"
      },
      "source": [
        "<b> Text Dataset: Banking Intents </b>\n",
        "\n",
        "The test can also be used with text datasets.\n",
        "\n",
        "We will use it with the banking intents dataset, which contains short customer queries classified under 77 possible labels. This dataset was used in [[1]](#[1])\n",
        "\n",
        "\n",
        "\n",
        "\n",
        "\n",
        "\n"
      ]
    },
    {
      "cell_type": "code",
      "source": [
        "path_dataset = \"./data/bankintents/\"\n",
        "train_df = pd.read_csv(path_dataset + \"train.csv\")\n",
        "test_df = pd.read_csv(path_dataset + \"test.csv\")\n",
        "categories_df = pd.read_json(path_dataset + \"categories.json\")\n",
        "train_df = train_df.sample(frac=1, random_state=342)  # shuffle"
      ],
      "metadata": {
        "id": "rH6UPPfkU-x2"
      },
      "id": "rH6UPPfkU-x2",
      "execution_count": 34,
      "outputs": []
    },
    {
      "cell_type": "code",
      "execution_count": 35,
      "id": "fba5a229",
      "metadata": {
        "colab": {
          "base_uri": "https://localhost:8080/",
          "height": 206
        },
        "id": "fba5a229",
        "outputId": "6d5c1b6f-eacb-4598-8830-64d612e638f5"
      },
      "outputs": [
        {
          "output_type": "execute_result",
          "data": {
            "text/plain": [
              "                                                   text  \\\n",
              "9695  how do i set up my apple pay watch to connect ...   \n",
              "3369  Why isn't my balance updating after depositing...   \n",
              "377     How do you decide what your exchange rates are?   \n",
              "4669  I see a direct debit transaction that I didn't...   \n",
              "7815  How can I create another card linked to this a...   \n",
              "\n",
              "                                              category    set  category_id  \\\n",
              "9695                           apple_pay_or_google_pay  train           74   \n",
              "3369  balance_not_updated_after_cheque_or_cash_deposit  train           26   \n",
              "377                                      exchange_rate  train            2   \n",
              "4669               direct_debit_payment_not_recognised  train           37   \n",
              "7815                                getting_spare_card  train           60   \n",
              "\n",
              "        id  \n",
              "9695  9695  \n",
              "3369  3369  \n",
              "377    377  \n",
              "4669  4669  \n",
              "7815  7815  "
            ],
            "text/html": [
              "\n",
              "  <div id=\"df-d8cf79d7-d765-4447-ba6c-498abcf5ffb4\">\n",
              "    <div class=\"colab-df-container\">\n",
              "      <div>\n",
              "<style scoped>\n",
              "    .dataframe tbody tr th:only-of-type {\n",
              "        vertical-align: middle;\n",
              "    }\n",
              "\n",
              "    .dataframe tbody tr th {\n",
              "        vertical-align: top;\n",
              "    }\n",
              "\n",
              "    .dataframe thead th {\n",
              "        text-align: right;\n",
              "    }\n",
              "</style>\n",
              "<table border=\"1\" class=\"dataframe\">\n",
              "  <thead>\n",
              "    <tr style=\"text-align: right;\">\n",
              "      <th></th>\n",
              "      <th>text</th>\n",
              "      <th>category</th>\n",
              "      <th>set</th>\n",
              "      <th>category_id</th>\n",
              "      <th>id</th>\n",
              "    </tr>\n",
              "  </thead>\n",
              "  <tbody>\n",
              "    <tr>\n",
              "      <th>9695</th>\n",
              "      <td>how do i set up my apple pay watch to connect ...</td>\n",
              "      <td>apple_pay_or_google_pay</td>\n",
              "      <td>train</td>\n",
              "      <td>74</td>\n",
              "      <td>9695</td>\n",
              "    </tr>\n",
              "    <tr>\n",
              "      <th>3369</th>\n",
              "      <td>Why isn't my balance updating after depositing...</td>\n",
              "      <td>balance_not_updated_after_cheque_or_cash_deposit</td>\n",
              "      <td>train</td>\n",
              "      <td>26</td>\n",
              "      <td>3369</td>\n",
              "    </tr>\n",
              "    <tr>\n",
              "      <th>377</th>\n",
              "      <td>How do you decide what your exchange rates are?</td>\n",
              "      <td>exchange_rate</td>\n",
              "      <td>train</td>\n",
              "      <td>2</td>\n",
              "      <td>377</td>\n",
              "    </tr>\n",
              "    <tr>\n",
              "      <th>4669</th>\n",
              "      <td>I see a direct debit transaction that I didn't...</td>\n",
              "      <td>direct_debit_payment_not_recognised</td>\n",
              "      <td>train</td>\n",
              "      <td>37</td>\n",
              "      <td>4669</td>\n",
              "    </tr>\n",
              "    <tr>\n",
              "      <th>7815</th>\n",
              "      <td>How can I create another card linked to this a...</td>\n",
              "      <td>getting_spare_card</td>\n",
              "      <td>train</td>\n",
              "      <td>60</td>\n",
              "      <td>7815</td>\n",
              "    </tr>\n",
              "  </tbody>\n",
              "</table>\n",
              "</div>\n",
              "      <button class=\"colab-df-convert\" onclick=\"convertToInteractive('df-d8cf79d7-d765-4447-ba6c-498abcf5ffb4')\"\n",
              "              title=\"Convert this dataframe to an interactive table.\"\n",
              "              style=\"display:none;\">\n",
              "        \n",
              "  <svg xmlns=\"http://www.w3.org/2000/svg\" height=\"24px\"viewBox=\"0 0 24 24\"\n",
              "       width=\"24px\">\n",
              "    <path d=\"M0 0h24v24H0V0z\" fill=\"none\"/>\n",
              "    <path d=\"M18.56 5.44l.94 2.06.94-2.06 2.06-.94-2.06-.94-.94-2.06-.94 2.06-2.06.94zm-11 1L8.5 8.5l.94-2.06 2.06-.94-2.06-.94L8.5 2.5l-.94 2.06-2.06.94zm10 10l.94 2.06.94-2.06 2.06-.94-2.06-.94-.94-2.06-.94 2.06-2.06.94z\"/><path d=\"M17.41 7.96l-1.37-1.37c-.4-.4-.92-.59-1.43-.59-.52 0-1.04.2-1.43.59L10.3 9.45l-7.72 7.72c-.78.78-.78 2.05 0 2.83L4 21.41c.39.39.9.59 1.41.59.51 0 1.02-.2 1.41-.59l7.78-7.78 2.81-2.81c.8-.78.8-2.07 0-2.86zM5.41 20L4 18.59l7.72-7.72 1.47 1.35L5.41 20z\"/>\n",
              "  </svg>\n",
              "      </button>\n",
              "      \n",
              "  <style>\n",
              "    .colab-df-container {\n",
              "      display:flex;\n",
              "      flex-wrap:wrap;\n",
              "      gap: 12px;\n",
              "    }\n",
              "\n",
              "    .colab-df-convert {\n",
              "      background-color: #E8F0FE;\n",
              "      border: none;\n",
              "      border-radius: 50%;\n",
              "      cursor: pointer;\n",
              "      display: none;\n",
              "      fill: #1967D2;\n",
              "      height: 32px;\n",
              "      padding: 0 0 0 0;\n",
              "      width: 32px;\n",
              "    }\n",
              "\n",
              "    .colab-df-convert:hover {\n",
              "      background-color: #E2EBFA;\n",
              "      box-shadow: 0px 1px 2px rgba(60, 64, 67, 0.3), 0px 1px 3px 1px rgba(60, 64, 67, 0.15);\n",
              "      fill: #174EA6;\n",
              "    }\n",
              "\n",
              "    [theme=dark] .colab-df-convert {\n",
              "      background-color: #3B4455;\n",
              "      fill: #D2E3FC;\n",
              "    }\n",
              "\n",
              "    [theme=dark] .colab-df-convert:hover {\n",
              "      background-color: #434B5C;\n",
              "      box-shadow: 0px 1px 3px 1px rgba(0, 0, 0, 0.15);\n",
              "      filter: drop-shadow(0px 1px 2px rgba(0, 0, 0, 0.3));\n",
              "      fill: #FFFFFF;\n",
              "    }\n",
              "  </style>\n",
              "\n",
              "      <script>\n",
              "        const buttonEl =\n",
              "          document.querySelector('#df-d8cf79d7-d765-4447-ba6c-498abcf5ffb4 button.colab-df-convert');\n",
              "        buttonEl.style.display =\n",
              "          google.colab.kernel.accessAllowed ? 'block' : 'none';\n",
              "\n",
              "        async function convertToInteractive(key) {\n",
              "          const element = document.querySelector('#df-d8cf79d7-d765-4447-ba6c-498abcf5ffb4');\n",
              "          const dataTable =\n",
              "            await google.colab.kernel.invokeFunction('convertToInteractive',\n",
              "                                                     [key], {});\n",
              "          if (!dataTable) return;\n",
              "\n",
              "          const docLinkHtml = 'Like what you see? Visit the ' +\n",
              "            '<a target=\"_blank\" href=https://colab.research.google.com/notebooks/data_table.ipynb>data table notebook</a>'\n",
              "            + ' to learn more about interactive tables.';\n",
              "          element.innerHTML = '';\n",
              "          dataTable['output_type'] = 'display_data';\n",
              "          await google.colab.output.renderOutput(dataTable, element);\n",
              "          const docLink = document.createElement('div');\n",
              "          docLink.innerHTML = docLinkHtml;\n",
              "          element.appendChild(docLink);\n",
              "        }\n",
              "      </script>\n",
              "    </div>\n",
              "  </div>\n",
              "  "
            ]
          },
          "metadata": {},
          "execution_count": 35
        }
      ],
      "source": [
        "train_df.head()"
      ]
    },
    {
      "cell_type": "markdown",
      "id": "70e2df4c",
      "metadata": {
        "id": "70e2df4c"
      },
      "source": [
        "When using a text dataset we need to specify the `text_col` parameter, which is the column containing the text in the dataframe. If we do not specify a preprocessor, a `CountVectorizer` is created internally to convert the text to a format valid for ML models. Alternatively, you can specify your own text preprocessor as we show in a later example."
      ]
    },
    {
      "cell_type": "code",
      "execution_count": 36,
      "id": "03f1fff2",
      "metadata": {
        "id": "03f1fff2"
      },
      "outputs": [],
      "source": [
        "label_issues_args = dict(\n",
        "    clf=RandomForestClassifier()\n",
        ")\n",
        "\n",
        "test = NoisyLabelsTest(\n",
        "    train_df[[\"text\", \"category_id\"]],\n",
        "    label_name='category_id',\n",
        "    text_col=\"text\",\n",
        "    threshold=0.25,\n",
        "    label_issues_args=label_issues_args\n",
        ")\n",
        "test.run()"
      ]
    },
    {
      "cell_type": "markdown",
      "id": "b39b4d1e",
      "metadata": {
        "id": "b39b4d1e"
      },
      "source": [
        "We can see that the test has passed. We can see the percentage of noisy labels"
      ]
    },
    {
      "cell_type": "code",
      "execution_count": 37,
      "id": "7c2b1e7f",
      "metadata": {
        "colab": {
          "base_uri": "https://localhost:8080/"
        },
        "id": "7c2b1e7f",
        "outputId": "a9c6689a-5165-455f-f9d3-6c80e3cf123a"
      },
      "outputs": [
        {
          "output_type": "execute_result",
          "data": {
            "text/plain": [
              "0.02809157252824153"
            ]
          },
          "metadata": {},
          "execution_count": 37
        }
      ],
      "source": [
        "test.rate_issues_"
      ]
    },
    {
      "cell_type": "markdown",
      "id": "6a3508f5",
      "metadata": {
        "id": "6a3508f5"
      },
      "source": [
        "As we mentioned above, we can specify the text preprocessor instead of using one by default. We will use now a `TfidfVectorizer`. We also change the labels to make them noisy and see if the test is able to capture it."
      ]
    },
    {
      "cell_type": "code",
      "execution_count": 38,
      "id": "8395a774",
      "metadata": {
        "id": "8395a774"
      },
      "outputs": [],
      "source": [
        "train_df[\"category_id\"] = np.random.choice(train_df[\"category_id\"].unique(), replace=True, size=len(train_df))"
      ]
    },
    {
      "cell_type": "code",
      "execution_count": 39,
      "id": "17f02b91",
      "metadata": {
        "colab": {
          "base_uri": "https://localhost:8080/",
          "height": 353
        },
        "id": "17f02b91",
        "outputId": "9ef480dd-ea80-4035-8d39-c56a886c7026"
      },
      "outputs": [
        {
          "output_type": "error",
          "ename": "FailedTestError",
          "evalue": "ignored",
          "traceback": [
            "\u001b[0;31m---------------------------------------------------------------------------\u001b[0m",
            "\u001b[0;31mFailedTestError\u001b[0m                           Traceback (most recent call last)",
            "\u001b[0;32m<ipython-input-39-d68637821965>\u001b[0m in \u001b[0;36m<cell line: 17>\u001b[0;34m()\u001b[0m\n\u001b[1;32m     15\u001b[0m     \u001b[0mlabel_issues_args\u001b[0m\u001b[0;34m=\u001b[0m\u001b[0mlabel_issues_args\u001b[0m\u001b[0;34m\u001b[0m\u001b[0;34m\u001b[0m\u001b[0m\n\u001b[1;32m     16\u001b[0m )\n\u001b[0;32m---> 17\u001b[0;31m \u001b[0mtest\u001b[0m\u001b[0;34m.\u001b[0m\u001b[0mrun\u001b[0m\u001b[0;34m(\u001b[0m\u001b[0;34m)\u001b[0m\u001b[0;34m\u001b[0m\u001b[0;34m\u001b[0m\u001b[0m\n\u001b[0m",
            "\u001b[0;32m/usr/local/lib/python3.9/dist-packages/mercury/insight/decorators.py\u001b[0m in \u001b[0;36mwrapped\u001b[0;34m(self, *args, **kwargs)\u001b[0m\n\u001b[1;32m     70\u001b[0m                 \u001b[0mfunc\u001b[0m \u001b[0;34m=\u001b[0m \u001b[0mtarget\u001b[0m\u001b[0;34m(\u001b[0m\u001b[0mself\u001b[0m\u001b[0;34m,\u001b[0m \u001b[0;34m*\u001b[0m\u001b[0margs\u001b[0m\u001b[0;34m,\u001b[0m \u001b[0;34m**\u001b[0m\u001b[0mkwargs\u001b[0m\u001b[0;34m)\u001b[0m\u001b[0;34m\u001b[0m\u001b[0;34m\u001b[0m\u001b[0m\n\u001b[1;32m     71\u001b[0m         \u001b[0;32mexcept\u001b[0m \u001b[0mException\u001b[0m \u001b[0;32mas\u001b[0m \u001b[0me\u001b[0m\u001b[0;34m:\u001b[0m\u001b[0;34m\u001b[0m\u001b[0;34m\u001b[0m\u001b[0m\n\u001b[0;32m---> 72\u001b[0;31m             \u001b[0;32mraise\u001b[0m \u001b[0me\u001b[0m\u001b[0;34m\u001b[0m\u001b[0;34m\u001b[0m\u001b[0m\n\u001b[0m\u001b[1;32m     73\u001b[0m         \u001b[0;32mfinally\u001b[0m\u001b[0;34m:\u001b[0m\u001b[0;34m\u001b[0m\u001b[0;34m\u001b[0m\u001b[0m\n\u001b[1;32m     74\u001b[0m             \u001b[0;31m# Re-enable the logger\u001b[0m\u001b[0;34m\u001b[0m\u001b[0;34m\u001b[0m\u001b[0m\n",
            "\u001b[0;32m/usr/local/lib/python3.9/dist-packages/mercury/insight/decorators.py\u001b[0m in \u001b[0;36mwrapped\u001b[0;34m(self, *args, **kwargs)\u001b[0m\n\u001b[1;32m     68\u001b[0m             \u001b[0mlgr\u001b[0m\u001b[0;34m.\u001b[0m\u001b[0menabled\u001b[0m \u001b[0;34m=\u001b[0m \u001b[0;32mFalse\u001b[0m\u001b[0;34m\u001b[0m\u001b[0;34m\u001b[0m\u001b[0m\n\u001b[1;32m     69\u001b[0m             \u001b[0;32mwith\u001b[0m \u001b[0mlgr\u001b[0m\u001b[0;34m:\u001b[0m\u001b[0;34m\u001b[0m\u001b[0;34m\u001b[0m\u001b[0m\n\u001b[0;32m---> 70\u001b[0;31m                 \u001b[0mfunc\u001b[0m \u001b[0;34m=\u001b[0m \u001b[0mtarget\u001b[0m\u001b[0;34m(\u001b[0m\u001b[0mself\u001b[0m\u001b[0;34m,\u001b[0m \u001b[0;34m*\u001b[0m\u001b[0margs\u001b[0m\u001b[0;34m,\u001b[0m \u001b[0;34m**\u001b[0m\u001b[0mkwargs\u001b[0m\u001b[0;34m)\u001b[0m\u001b[0;34m\u001b[0m\u001b[0;34m\u001b[0m\u001b[0m\n\u001b[0m\u001b[1;32m     71\u001b[0m         \u001b[0;32mexcept\u001b[0m \u001b[0mException\u001b[0m \u001b[0;32mas\u001b[0m \u001b[0me\u001b[0m\u001b[0;34m:\u001b[0m\u001b[0;34m\u001b[0m\u001b[0;34m\u001b[0m\u001b[0m\n\u001b[1;32m     72\u001b[0m             \u001b[0;32mraise\u001b[0m \u001b[0me\u001b[0m\u001b[0;34m\u001b[0m\u001b[0;34m\u001b[0m\u001b[0m\n",
            "\u001b[0;32m/usr/local/lib/python3.9/dist-packages/mercury/robust/data_tests.py\u001b[0m in \u001b[0;36mrun\u001b[0;34m(self, *args, **kwargs)\u001b[0m\n\u001b[1;32m    809\u001b[0m         \u001b[0;31m# If percentage of issues is higher than threshold, throw exception\u001b[0m\u001b[0;34m\u001b[0m\u001b[0;34m\u001b[0m\u001b[0m\n\u001b[1;32m    810\u001b[0m         \u001b[0;32mif\u001b[0m \u001b[0mself\u001b[0m\u001b[0;34m.\u001b[0m\u001b[0mrate_issues_\u001b[0m \u001b[0;34m>\u001b[0m \u001b[0mself\u001b[0m\u001b[0;34m.\u001b[0m\u001b[0mthreshold\u001b[0m\u001b[0;34m:\u001b[0m\u001b[0;34m\u001b[0m\u001b[0;34m\u001b[0m\u001b[0m\n\u001b[0;32m--> 811\u001b[0;31m             raise FailedTestError(\n\u001b[0m\u001b[1;32m    812\u001b[0m                 \u001b[0;34mf\"Test failed. High level of noise detected in labels. Percentage of labels with noise: {self.rate_issues_}\"\u001b[0m\u001b[0;34m\u001b[0m\u001b[0;34m\u001b[0m\u001b[0m\n\u001b[1;32m    813\u001b[0m             )\n",
            "\u001b[0;31mFailedTestError\u001b[0m: Test failed. High level of noise detected in labels. Percentage of labels with noise: 0.9792062381285614"
          ]
        }
      ],
      "source": [
        "from sklearn.feature_extraction.text import TfidfVectorizer\n",
        "tfidf = TfidfVectorizer(ngram_range=(1,2), max_features=8000, stop_words='english')\n",
        "\n",
        "label_issues_args = dict(\n",
        "    clf=RandomForestClassifier(max_depth=6),\n",
        "    sorted_index_method='prob_given_label',\n",
        ")\n",
        "\n",
        "test = NoisyLabelsTest(\n",
        "    train_df[[\"text\", \"category_id\"]],\n",
        "    label_name='category_id',\n",
        "    text_col=\"text\",\n",
        "    preprocessor=tfidf,\n",
        "    threshold=0.25,\n",
        "    label_issues_args=label_issues_args\n",
        ")\n",
        "test.run()"
      ]
    },
    {
      "cell_type": "markdown",
      "id": "ee5f8a83",
      "metadata": {
        "id": "ee5f8a83"
      },
      "source": [
        "We see that now the test has failed.\n",
        "\n",
        "If you want to see a tutorial on exploring the label with issues you can check this [tutorial](https://globaldevtools.bbva.com/bitbucket/projects/CDA/repos/mercury-contrib/browse/mercury/contrib/tutorials/robust_testing/DetectingLabelIssues.ipynb)"
      ]
    },
    {
      "cell_type": "markdown",
      "id": "b5f0136d",
      "metadata": {
        "id": "b5f0136d"
      },
      "source": [
        "<a id=\"cohort_performance\"></a>\n",
        "### Cohort Performance Test\n",
        "\n",
        "The Cohort Performance Test looks if some metric performs poorly for some group of your data in comparison with other groups. The user can specify an evaluation function that returns the metric to check"
      ]
    },
    {
      "cell_type": "markdown",
      "id": "d280f43d",
      "metadata": {
        "id": "d280f43d"
      },
      "source": [
        "\n",
        "\n",
        "We will use the default credit card Dataset from the UCI machine learning repository. The dataset was used in [[2]](#[2])"
      ]
    },
    {
      "cell_type": "code",
      "execution_count": 40,
      "id": "6f837137",
      "metadata": {
        "id": "6f837137"
      },
      "outputs": [],
      "source": [
        "path_dataset = \"./data/credit/\"\n",
        "uci_credit = pd.read_csv(path_dataset + \"UCI_Credit_card.csv\")\n",
        "\n",
        "uci_credit[\"SEX\"] = uci_credit[\"SEX\"].astype(str)\n",
        "uci_credit[\"EDUCATION\"] = uci_credit[\"EDUCATION\"].astype(str)\n",
        "uci_credit[\"MARRIAGE\"] = uci_credit[\"MARRIAGE\"].astype(str)"
      ]
    },
    {
      "cell_type": "markdown",
      "id": "eabbb0ff",
      "metadata": {
        "id": "eabbb0ff"
      },
      "source": [
        "Split Train/Test"
      ]
    },
    {
      "cell_type": "code",
      "execution_count": 41,
      "id": "eb5972db",
      "metadata": {
        "id": "eb5972db"
      },
      "outputs": [],
      "source": [
        "from sklearn.model_selection import train_test_split\n",
        "df_train, df_test = train_test_split(uci_credit, test_size=0.2, random_state=0)"
      ]
    },
    {
      "cell_type": "markdown",
      "id": "77fcdfdb",
      "metadata": {
        "id": "77fcdfdb"
      },
      "source": [
        "Now we create a pipeline with the preprocessing of the features and a Logistic Regression model. Note that for illustration purposes we use features that we shouldn't use like the gender"
      ]
    },
    {
      "cell_type": "code",
      "execution_count": 42,
      "id": "8eb109c3",
      "metadata": {
        "id": "8eb109c3"
      },
      "outputs": [],
      "source": [
        "from sklearn.preprocessing import StandardScaler, OneHotEncoder\n",
        "from sklearn.linear_model import LogisticRegression\n",
        "from sklearn.pipeline import Pipeline\n",
        "from sklearn.compose import ColumnTransformer\n",
        "\n",
        "label_col = \"default.payment.next.month\"\n",
        "\n",
        "pay_feats = [c for c in df_train.columns if \"PAY_\" in c]\n",
        "bill_feats = [c for c in df_train.columns if \"BILL_\" in c]\n",
        "numeric_features = ['LIMIT_BAL', 'AGE'] + pay_feats + bill_feats\n",
        "numeric_transformer = Pipeline(\n",
        "    steps=[(\"scaler\", StandardScaler())]\n",
        ")\n",
        "\n",
        "categorical_features = [\n",
        "    'SEX', 'EDUCATION', 'MARRIAGE'\n",
        "]\n",
        "categorical_transformer = OneHotEncoder(handle_unknown=\"ignore\")\n",
        "preprocessor = ColumnTransformer(\n",
        "    transformers=[\n",
        "        (\"num\", numeric_transformer, numeric_features),\n",
        "        (\"cat\", categorical_transformer, categorical_features),\n",
        "    ]\n",
        ")\n",
        "\n",
        "pipeline = Pipeline(\n",
        "    steps=[\n",
        "        (\"preprocessor\", preprocessor), \n",
        "        (\"classifier\", LogisticRegression(solver='newton-cg', class_weight='balanced'))]\n",
        ")"
      ]
    },
    {
      "cell_type": "markdown",
      "id": "af5cd93d",
      "metadata": {
        "id": "af5cd93d"
      },
      "source": [
        "Train the model"
      ]
    },
    {
      "cell_type": "code",
      "execution_count": 43,
      "id": "cbae9f3f",
      "metadata": {
        "id": "cbae9f3f"
      },
      "outputs": [],
      "source": [
        "X_train = df_train[numeric_features + categorical_features]\n",
        "y_train = df_train[label_col]\n",
        "X_test = df_test[numeric_features + categorical_features]\n",
        "y_test = df_test[label_col]\n",
        "\n",
        "pipeline = pipeline.fit(X_train, y_train)"
      ]
    },
    {
      "cell_type": "markdown",
      "id": "9035d914",
      "metadata": {
        "id": "9035d914"
      },
      "source": [
        "Generate predictions"
      ]
    },
    {
      "cell_type": "code",
      "execution_count": 44,
      "id": "520d0a6f",
      "metadata": {
        "id": "520d0a6f"
      },
      "outputs": [],
      "source": [
        "df_test = df_test.copy()\n",
        "df_test[\"class_pred\"] = pipeline.predict(X_test)\n",
        "\n",
        "probs = pipeline.predict_proba(X_test)\n",
        "col_probs = []\n",
        "for i in range(probs.shape[1]):\n",
        "    df_test[\"prob_\" + str(i)] = probs[:,i]"
      ]
    },
    {
      "cell_type": "markdown",
      "id": "28e57e96",
      "metadata": {
        "id": "28e57e96"
      },
      "source": [
        "Now, let's create the test. It needs an evaluation function for the metric that the test will check. In this case, we will just measure the AUC. \n",
        "\n",
        "The `CohortPerformanceTest` has two arguments to control how the metrics are compared with the threshold. \n",
        "\n",
        "- If the argument `compare_max_diff` is True (default value) then the threshold is compared between the group with the highest value for the metric and the group with the lowest value for the metric. If the argument `compare_max_diff` is set to False then each group is compared against the mean of the metric for the whole dataset. \n",
        "\n",
        "- The second argument is `threshold_is_percentage` controls if the threshold is considered a percentage or an absolute value of the metric. If `threshold_is_percentage=True` (default value) then the threshold is considered as a percentage and the comparison is made by checking the percentage of the differences. If `threshold_is_percentage=False` then the threshold is considered an absolute value, and the differences as absolute value are compared.\n",
        "\n",
        "In this case, we look at AUC of the groups of the variable 'SEX'. We set a threshold of 0.1, and we let `compare_max_diff` and `threshold_is_percentage` with the default values (both True). That means that the test will fail if the highest AUC in the group SEX is 10% or higher than the lowest AUC in the group"
      ]
    },
    {
      "cell_type": "code",
      "execution_count": 45,
      "id": "f258a395",
      "metadata": {
        "id": "f258a395"
      },
      "outputs": [],
      "source": [
        "from sklearn.metrics import roc_auc_score\n",
        "\n",
        "def eval_auc(df):\n",
        "    return roc_auc_score(df[label_col], df[\"prob_1\"])\n",
        "\n",
        "test1 = CohortPerformanceTest(\n",
        "    base_dataset=df_test, group_col=\"SEX\", eval_fn = eval_auc, threshold = 0.1\n",
        ")\n",
        "test1.run()"
      ]
    },
    {
      "cell_type": "markdown",
      "source": [
        "We see that the test passes. We can see some details calling the `info()` method:"
      ],
      "metadata": {
        "id": "AUaGU5EEyvwA"
      },
      "id": "AUaGU5EEyvwA"
    },
    {
      "cell_type": "code",
      "source": [
        "test1.info()"
      ],
      "metadata": {
        "colab": {
          "base_uri": "https://localhost:8080/"
        },
        "id": "mdfH5hK8wJJa",
        "outputId": "582751a8-25e5-4882-dd89-40c29b7f7f44"
      },
      "id": "mdfH5hK8wJJa",
      "execution_count": 46,
      "outputs": [
        {
          "output_type": "execute_result",
          "data": {
            "text/plain": [
              "{'metric_by_group': SEX\n",
              " 1    0.742573\n",
              " 2    0.708878\n",
              " dtype: float64}"
            ]
          },
          "metadata": {},
          "execution_count": 46
        }
      ]
    },
    {
      "cell_type": "markdown",
      "source": [
        "We see that group 1 has a higher AUC, but not enough to make the test fail with the settings we set."
      ],
      "metadata": {
        "id": "ZzHcTwYt0QsM"
      },
      "id": "ZzHcTwYt0QsM"
    },
    {
      "cell_type": "markdown",
      "id": "0eeed142",
      "metadata": {
        "id": "0eeed142"
      },
      "source": [
        "Let's try different options now. We set `compare_max_diff` to False to compare the metrics with the mean of the dataset. We also set `threshold_is_percentage` to False to compare absolute values instead of percentage. We will use a different metric, the accuracy:"
      ]
    },
    {
      "cell_type": "code",
      "execution_count": 47,
      "id": "071dd53a",
      "metadata": {
        "colab": {
          "base_uri": "https://localhost:8080/"
        },
        "id": "071dd53a",
        "outputId": "43b54339-331f-4430-f907-27cbb601cba4"
      },
      "outputs": [
        {
          "output_type": "stream",
          "name": "stdout",
          "text": [
            "mean metric:  0.6858333333333333\n",
            "metric by group:  SEX\n",
            "1    0.638169\n",
            "2    0.715798\n",
            "dtype: float64\n",
            "diff:  SEX\n",
            "1    0.047664\n",
            "2   -0.029965\n",
            "dtype: float64\n"
          ]
        }
      ],
      "source": [
        "from sklearn.metrics import accuracy_score\n",
        "def eval_accuracy(df):\n",
        "    return accuracy_score(df[label_col], df[\"class_pred\"])\n",
        "\n",
        "test2 = CohortPerformanceTest(\n",
        "    base_dataset=df_test, group_col=\"SEX\", eval_fn = eval_accuracy, \n",
        "    threshold = 0.05, compare_max_diff=False, threshold_is_percentage=False\n",
        ")\n",
        "test2.run()\n",
        "\n",
        "print(\"mean metric: \", test2.mean_metric)\n",
        "print(\"metric by group: \", test2.metric_by_group)\n",
        "print(\"diff: \", test2.diff)"
      ]
    },
    {
      "cell_type": "markdown",
      "id": "09883085",
      "metadata": {
        "id": "09883085"
      },
      "source": [
        "We see that the test passed again. We also see that we can check the computed metrics. The average of the metric is available in the attribute `mean_metric` (only computed when parameter `compare_max_diff=False`). The metrics of each group are available in the attribute `metric_by_group`, and the computed difference are available in attribute `diff`\n",
        "\n",
        "Let's do a finally test. We will check the mean prediction of the probability of default:"
      ]
    },
    {
      "cell_type": "code",
      "execution_count": 48,
      "id": "9e88e567",
      "metadata": {
        "colab": {
          "base_uri": "https://localhost:8080/",
          "height": 371
        },
        "id": "9e88e567",
        "outputId": "7990a984-95cf-40eb-b1d1-a4b71e8cf8a7"
      },
      "outputs": [
        {
          "output_type": "error",
          "ename": "FailedTestError",
          "evalue": "ignored",
          "traceback": [
            "\u001b[0;31m---------------------------------------------------------------------------\u001b[0m",
            "\u001b[0;31mFailedTestError\u001b[0m                           Traceback (most recent call last)",
            "\u001b[0;32m<ipython-input-48-da0fd3780642>\u001b[0m in \u001b[0;36m<cell line: 8>\u001b[0;34m()\u001b[0m\n\u001b[1;32m      6\u001b[0m     \u001b[0mthreshold_is_percentage\u001b[0m\u001b[0;34m=\u001b[0m\u001b[0;32mTrue\u001b[0m\u001b[0;34m\u001b[0m\u001b[0;34m\u001b[0m\u001b[0m\n\u001b[1;32m      7\u001b[0m )\n\u001b[0;32m----> 8\u001b[0;31m \u001b[0mtest3\u001b[0m\u001b[0;34m.\u001b[0m\u001b[0mrun\u001b[0m\u001b[0;34m(\u001b[0m\u001b[0;34m)\u001b[0m\u001b[0;34m\u001b[0m\u001b[0;34m\u001b[0m\u001b[0m\n\u001b[0m",
            "\u001b[0;32m/usr/local/lib/python3.9/dist-packages/mercury/insight/decorators.py\u001b[0m in \u001b[0;36mwrapped\u001b[0;34m(self, *args, **kwargs)\u001b[0m\n\u001b[1;32m     70\u001b[0m                 \u001b[0mfunc\u001b[0m \u001b[0;34m=\u001b[0m \u001b[0mtarget\u001b[0m\u001b[0;34m(\u001b[0m\u001b[0mself\u001b[0m\u001b[0;34m,\u001b[0m \u001b[0;34m*\u001b[0m\u001b[0margs\u001b[0m\u001b[0;34m,\u001b[0m \u001b[0;34m**\u001b[0m\u001b[0mkwargs\u001b[0m\u001b[0;34m)\u001b[0m\u001b[0;34m\u001b[0m\u001b[0;34m\u001b[0m\u001b[0m\n\u001b[1;32m     71\u001b[0m         \u001b[0;32mexcept\u001b[0m \u001b[0mException\u001b[0m \u001b[0;32mas\u001b[0m \u001b[0me\u001b[0m\u001b[0;34m:\u001b[0m\u001b[0;34m\u001b[0m\u001b[0;34m\u001b[0m\u001b[0m\n\u001b[0;32m---> 72\u001b[0;31m             \u001b[0;32mraise\u001b[0m \u001b[0me\u001b[0m\u001b[0;34m\u001b[0m\u001b[0;34m\u001b[0m\u001b[0m\n\u001b[0m\u001b[1;32m     73\u001b[0m         \u001b[0;32mfinally\u001b[0m\u001b[0;34m:\u001b[0m\u001b[0;34m\u001b[0m\u001b[0;34m\u001b[0m\u001b[0m\n\u001b[1;32m     74\u001b[0m             \u001b[0;31m# Re-enable the logger\u001b[0m\u001b[0;34m\u001b[0m\u001b[0;34m\u001b[0m\u001b[0m\n",
            "\u001b[0;32m/usr/local/lib/python3.9/dist-packages/mercury/insight/decorators.py\u001b[0m in \u001b[0;36mwrapped\u001b[0;34m(self, *args, **kwargs)\u001b[0m\n\u001b[1;32m     68\u001b[0m             \u001b[0mlgr\u001b[0m\u001b[0;34m.\u001b[0m\u001b[0menabled\u001b[0m \u001b[0;34m=\u001b[0m \u001b[0;32mFalse\u001b[0m\u001b[0;34m\u001b[0m\u001b[0;34m\u001b[0m\u001b[0m\n\u001b[1;32m     69\u001b[0m             \u001b[0;32mwith\u001b[0m \u001b[0mlgr\u001b[0m\u001b[0;34m:\u001b[0m\u001b[0;34m\u001b[0m\u001b[0;34m\u001b[0m\u001b[0m\n\u001b[0;32m---> 70\u001b[0;31m                 \u001b[0mfunc\u001b[0m \u001b[0;34m=\u001b[0m \u001b[0mtarget\u001b[0m\u001b[0;34m(\u001b[0m\u001b[0mself\u001b[0m\u001b[0;34m,\u001b[0m \u001b[0;34m*\u001b[0m\u001b[0margs\u001b[0m\u001b[0;34m,\u001b[0m \u001b[0;34m**\u001b[0m\u001b[0mkwargs\u001b[0m\u001b[0;34m)\u001b[0m\u001b[0;34m\u001b[0m\u001b[0;34m\u001b[0m\u001b[0m\n\u001b[0m\u001b[1;32m     71\u001b[0m         \u001b[0;32mexcept\u001b[0m \u001b[0mException\u001b[0m \u001b[0;32mas\u001b[0m \u001b[0me\u001b[0m\u001b[0;34m:\u001b[0m\u001b[0;34m\u001b[0m\u001b[0;34m\u001b[0m\u001b[0m\n\u001b[1;32m     72\u001b[0m             \u001b[0;32mraise\u001b[0m \u001b[0me\u001b[0m\u001b[0;34m\u001b[0m\u001b[0;34m\u001b[0m\u001b[0m\n",
            "\u001b[0;32m/usr/local/lib/python3.9/dist-packages/mercury/robust/data_tests.py\u001b[0m in \u001b[0;36mrun\u001b[0;34m(self, *args, **kwargs)\u001b[0m\n\u001b[1;32m    929\u001b[0m \u001b[0;34m\u001b[0m\u001b[0m\n\u001b[1;32m    930\u001b[0m         \u001b[0;32mif\u001b[0m \u001b[0mself\u001b[0m\u001b[0;34m.\u001b[0m\u001b[0mcompare_max_diff\u001b[0m\u001b[0;34m:\u001b[0m\u001b[0;34m\u001b[0m\u001b[0;34m\u001b[0m\u001b[0m\n\u001b[0;32m--> 931\u001b[0;31m             \u001b[0mself\u001b[0m\u001b[0;34m.\u001b[0m\u001b[0m_compare_max_diff\u001b[0m\u001b[0;34m(\u001b[0m\u001b[0;34m)\u001b[0m\u001b[0;34m\u001b[0m\u001b[0;34m\u001b[0m\u001b[0m\n\u001b[0m\u001b[1;32m    932\u001b[0m         \u001b[0;32melse\u001b[0m\u001b[0;34m:\u001b[0m\u001b[0;34m\u001b[0m\u001b[0;34m\u001b[0m\u001b[0m\n\u001b[1;32m    933\u001b[0m             \u001b[0mself\u001b[0m\u001b[0;34m.\u001b[0m\u001b[0m_compare_diff_with_mean\u001b[0m\u001b[0;34m(\u001b[0m\u001b[0;34m)\u001b[0m\u001b[0;34m\u001b[0m\u001b[0;34m\u001b[0m\u001b[0m\n",
            "\u001b[0;32m/usr/local/lib/python3.9/dist-packages/mercury/insight/decorators.py\u001b[0m in \u001b[0;36mwrapped\u001b[0;34m(self, *args, **kwargs)\u001b[0m\n\u001b[1;32m     70\u001b[0m                 \u001b[0mfunc\u001b[0m \u001b[0;34m=\u001b[0m \u001b[0mtarget\u001b[0m\u001b[0;34m(\u001b[0m\u001b[0mself\u001b[0m\u001b[0;34m,\u001b[0m \u001b[0;34m*\u001b[0m\u001b[0margs\u001b[0m\u001b[0;34m,\u001b[0m \u001b[0;34m**\u001b[0m\u001b[0mkwargs\u001b[0m\u001b[0;34m)\u001b[0m\u001b[0;34m\u001b[0m\u001b[0;34m\u001b[0m\u001b[0m\n\u001b[1;32m     71\u001b[0m         \u001b[0;32mexcept\u001b[0m \u001b[0mException\u001b[0m \u001b[0;32mas\u001b[0m \u001b[0me\u001b[0m\u001b[0;34m:\u001b[0m\u001b[0;34m\u001b[0m\u001b[0;34m\u001b[0m\u001b[0m\n\u001b[0;32m---> 72\u001b[0;31m             \u001b[0;32mraise\u001b[0m \u001b[0me\u001b[0m\u001b[0;34m\u001b[0m\u001b[0;34m\u001b[0m\u001b[0m\n\u001b[0m\u001b[1;32m     73\u001b[0m         \u001b[0;32mfinally\u001b[0m\u001b[0;34m:\u001b[0m\u001b[0;34m\u001b[0m\u001b[0;34m\u001b[0m\u001b[0m\n\u001b[1;32m     74\u001b[0m             \u001b[0;31m# Re-enable the logger\u001b[0m\u001b[0;34m\u001b[0m\u001b[0;34m\u001b[0m\u001b[0m\n",
            "\u001b[0;32m/usr/local/lib/python3.9/dist-packages/mercury/insight/decorators.py\u001b[0m in \u001b[0;36mwrapped\u001b[0;34m(self, *args, **kwargs)\u001b[0m\n\u001b[1;32m     68\u001b[0m             \u001b[0mlgr\u001b[0m\u001b[0;34m.\u001b[0m\u001b[0menabled\u001b[0m \u001b[0;34m=\u001b[0m \u001b[0;32mFalse\u001b[0m\u001b[0;34m\u001b[0m\u001b[0;34m\u001b[0m\u001b[0m\n\u001b[1;32m     69\u001b[0m             \u001b[0;32mwith\u001b[0m \u001b[0mlgr\u001b[0m\u001b[0;34m:\u001b[0m\u001b[0;34m\u001b[0m\u001b[0;34m\u001b[0m\u001b[0m\n\u001b[0;32m---> 70\u001b[0;31m                 \u001b[0mfunc\u001b[0m \u001b[0;34m=\u001b[0m \u001b[0mtarget\u001b[0m\u001b[0;34m(\u001b[0m\u001b[0mself\u001b[0m\u001b[0;34m,\u001b[0m \u001b[0;34m*\u001b[0m\u001b[0margs\u001b[0m\u001b[0;34m,\u001b[0m \u001b[0;34m**\u001b[0m\u001b[0mkwargs\u001b[0m\u001b[0;34m)\u001b[0m\u001b[0;34m\u001b[0m\u001b[0;34m\u001b[0m\u001b[0m\n\u001b[0m\u001b[1;32m     71\u001b[0m         \u001b[0;32mexcept\u001b[0m \u001b[0mException\u001b[0m \u001b[0;32mas\u001b[0m \u001b[0me\u001b[0m\u001b[0;34m:\u001b[0m\u001b[0;34m\u001b[0m\u001b[0;34m\u001b[0m\u001b[0m\n\u001b[1;32m     72\u001b[0m             \u001b[0;32mraise\u001b[0m \u001b[0me\u001b[0m\u001b[0;34m\u001b[0m\u001b[0;34m\u001b[0m\u001b[0m\n",
            "\u001b[0;32m/usr/local/lib/python3.9/dist-packages/mercury/robust/data_tests.py\u001b[0m in \u001b[0;36m_compare_max_diff\u001b[0;34m(self)\u001b[0m\n\u001b[1;32m    896\u001b[0m             \u001b[0mself\u001b[0m\u001b[0;34m.\u001b[0m\u001b[0mdiff\u001b[0m \u001b[0;34m=\u001b[0m \u001b[0mmax_value\u001b[0m \u001b[0;34m-\u001b[0m \u001b[0mmin_value\u001b[0m\u001b[0;34m\u001b[0m\u001b[0;34m\u001b[0m\u001b[0m\n\u001b[1;32m    897\u001b[0m         \u001b[0;32mif\u001b[0m \u001b[0mself\u001b[0m\u001b[0;34m.\u001b[0m\u001b[0mdiff\u001b[0m \u001b[0;34m>\u001b[0m \u001b[0mself\u001b[0m\u001b[0;34m.\u001b[0m\u001b[0mthreshold\u001b[0m\u001b[0;34m:\u001b[0m\u001b[0;34m\u001b[0m\u001b[0;34m\u001b[0m\u001b[0m\n\u001b[0;32m--> 898\u001b[0;31m             raise FailedTestError((\n\u001b[0m\u001b[1;32m    899\u001b[0m                 \u001b[0;34mf\"Test failed because max difference {round(self.diff,3)} is higher than threshold {self.threshold}\"\u001b[0m\u001b[0;34m\u001b[0m\u001b[0;34m\u001b[0m\u001b[0m\n\u001b[1;32m    900\u001b[0m                 \u001b[0;34mf\" for groups in {self.group_col}. \"\u001b[0m\u001b[0;34m\u001b[0m\u001b[0;34m\u001b[0m\u001b[0m\n",
            "\u001b[0;31mFailedTestError\u001b[0m: Test failed because max difference 0.109 is higher than threshold 0.05 for groups in SEX.  Group 1 has a metric of 0.483 and Group 2 has a metric of 0.436"
          ]
        }
      ],
      "source": [
        "def eval_mean_prediction(df):\n",
        "    return df[\"prob_1\"].mean()\n",
        "\n",
        "test3 = CohortPerformanceTest(\n",
        "    base_dataset=df_test, group_col=\"SEX\", eval_fn = eval_mean_prediction, threshold = 0.05,\n",
        "    threshold_is_percentage=True\n",
        ")\n",
        "test3.run()"
      ]
    },
    {
      "cell_type": "markdown",
      "id": "5bcc128f",
      "metadata": {
        "id": "5bcc128f"
      },
      "source": [
        "Now the test has failed, the average of the probability predictions for the group 1 is 11% higher than for group 2, which is higher than the 5% that we specified as threshold."
      ]
    },
    {
      "cell_type": "markdown",
      "id": "f78f0436",
      "metadata": {
        "id": "f78f0436"
      },
      "source": [
        "<a id=\"model_reproducibility\"></a>\n",
        "### Model Reproducibility Test\n",
        "\n",
        "We use now the ModelReproducibilityTest, which checks if training a model is reproducible."
      ]
    },
    {
      "cell_type": "markdown",
      "id": "6d8feaea",
      "metadata": {
        "id": "6d8feaea"
      },
      "source": [
        "Let's start obtaining the dataset"
      ]
    },
    {
      "cell_type": "code",
      "execution_count": 49,
      "id": "fd648e2f",
      "metadata": {
        "colab": {
          "base_uri": "https://localhost:8080/",
          "height": 206
        },
        "id": "fd648e2f",
        "outputId": "fe1e3cb2-232c-429c-c4a1-7944ec1237d9"
      },
      "outputs": [
        {
          "output_type": "execute_result",
          "data": {
            "text/plain": [
              "   survived  pclass  sex   age     fare\n",
              "0         0       3    1  22.0   7.2500\n",
              "1         1       1    0  38.0  71.2833\n",
              "2         1       3    0  26.0   7.9250\n",
              "3         1       1    0  35.0  53.1000\n",
              "4         0       3    1  35.0   8.0500"
            ],
            "text/html": [
              "\n",
              "  <div id=\"df-16f478b9-ff17-4b89-9877-472389137747\">\n",
              "    <div class=\"colab-df-container\">\n",
              "      <div>\n",
              "<style scoped>\n",
              "    .dataframe tbody tr th:only-of-type {\n",
              "        vertical-align: middle;\n",
              "    }\n",
              "\n",
              "    .dataframe tbody tr th {\n",
              "        vertical-align: top;\n",
              "    }\n",
              "\n",
              "    .dataframe thead th {\n",
              "        text-align: right;\n",
              "    }\n",
              "</style>\n",
              "<table border=\"1\" class=\"dataframe\">\n",
              "  <thead>\n",
              "    <tr style=\"text-align: right;\">\n",
              "      <th></th>\n",
              "      <th>survived</th>\n",
              "      <th>pclass</th>\n",
              "      <th>sex</th>\n",
              "      <th>age</th>\n",
              "      <th>fare</th>\n",
              "    </tr>\n",
              "  </thead>\n",
              "  <tbody>\n",
              "    <tr>\n",
              "      <th>0</th>\n",
              "      <td>0</td>\n",
              "      <td>3</td>\n",
              "      <td>1</td>\n",
              "      <td>22.0</td>\n",
              "      <td>7.2500</td>\n",
              "    </tr>\n",
              "    <tr>\n",
              "      <th>1</th>\n",
              "      <td>1</td>\n",
              "      <td>1</td>\n",
              "      <td>0</td>\n",
              "      <td>38.0</td>\n",
              "      <td>71.2833</td>\n",
              "    </tr>\n",
              "    <tr>\n",
              "      <th>2</th>\n",
              "      <td>1</td>\n",
              "      <td>3</td>\n",
              "      <td>0</td>\n",
              "      <td>26.0</td>\n",
              "      <td>7.9250</td>\n",
              "    </tr>\n",
              "    <tr>\n",
              "      <th>3</th>\n",
              "      <td>1</td>\n",
              "      <td>1</td>\n",
              "      <td>0</td>\n",
              "      <td>35.0</td>\n",
              "      <td>53.1000</td>\n",
              "    </tr>\n",
              "    <tr>\n",
              "      <th>4</th>\n",
              "      <td>0</td>\n",
              "      <td>3</td>\n",
              "      <td>1</td>\n",
              "      <td>35.0</td>\n",
              "      <td>8.0500</td>\n",
              "    </tr>\n",
              "  </tbody>\n",
              "</table>\n",
              "</div>\n",
              "      <button class=\"colab-df-convert\" onclick=\"convertToInteractive('df-16f478b9-ff17-4b89-9877-472389137747')\"\n",
              "              title=\"Convert this dataframe to an interactive table.\"\n",
              "              style=\"display:none;\">\n",
              "        \n",
              "  <svg xmlns=\"http://www.w3.org/2000/svg\" height=\"24px\"viewBox=\"0 0 24 24\"\n",
              "       width=\"24px\">\n",
              "    <path d=\"M0 0h24v24H0V0z\" fill=\"none\"/>\n",
              "    <path d=\"M18.56 5.44l.94 2.06.94-2.06 2.06-.94-2.06-.94-.94-2.06-.94 2.06-2.06.94zm-11 1L8.5 8.5l.94-2.06 2.06-.94-2.06-.94L8.5 2.5l-.94 2.06-2.06.94zm10 10l.94 2.06.94-2.06 2.06-.94-2.06-.94-.94-2.06-.94 2.06-2.06.94z\"/><path d=\"M17.41 7.96l-1.37-1.37c-.4-.4-.92-.59-1.43-.59-.52 0-1.04.2-1.43.59L10.3 9.45l-7.72 7.72c-.78.78-.78 2.05 0 2.83L4 21.41c.39.39.9.59 1.41.59.51 0 1.02-.2 1.41-.59l7.78-7.78 2.81-2.81c.8-.78.8-2.07 0-2.86zM5.41 20L4 18.59l7.72-7.72 1.47 1.35L5.41 20z\"/>\n",
              "  </svg>\n",
              "      </button>\n",
              "      \n",
              "  <style>\n",
              "    .colab-df-container {\n",
              "      display:flex;\n",
              "      flex-wrap:wrap;\n",
              "      gap: 12px;\n",
              "    }\n",
              "\n",
              "    .colab-df-convert {\n",
              "      background-color: #E8F0FE;\n",
              "      border: none;\n",
              "      border-radius: 50%;\n",
              "      cursor: pointer;\n",
              "      display: none;\n",
              "      fill: #1967D2;\n",
              "      height: 32px;\n",
              "      padding: 0 0 0 0;\n",
              "      width: 32px;\n",
              "    }\n",
              "\n",
              "    .colab-df-convert:hover {\n",
              "      background-color: #E2EBFA;\n",
              "      box-shadow: 0px 1px 2px rgba(60, 64, 67, 0.3), 0px 1px 3px 1px rgba(60, 64, 67, 0.15);\n",
              "      fill: #174EA6;\n",
              "    }\n",
              "\n",
              "    [theme=dark] .colab-df-convert {\n",
              "      background-color: #3B4455;\n",
              "      fill: #D2E3FC;\n",
              "    }\n",
              "\n",
              "    [theme=dark] .colab-df-convert:hover {\n",
              "      background-color: #434B5C;\n",
              "      box-shadow: 0px 1px 3px 1px rgba(0, 0, 0, 0.15);\n",
              "      filter: drop-shadow(0px 1px 2px rgba(0, 0, 0, 0.3));\n",
              "      fill: #FFFFFF;\n",
              "    }\n",
              "  </style>\n",
              "\n",
              "      <script>\n",
              "        const buttonEl =\n",
              "          document.querySelector('#df-16f478b9-ff17-4b89-9877-472389137747 button.colab-df-convert');\n",
              "        buttonEl.style.display =\n",
              "          google.colab.kernel.accessAllowed ? 'block' : 'none';\n",
              "\n",
              "        async function convertToInteractive(key) {\n",
              "          const element = document.querySelector('#df-16f478b9-ff17-4b89-9877-472389137747');\n",
              "          const dataTable =\n",
              "            await google.colab.kernel.invokeFunction('convertToInteractive',\n",
              "                                                     [key], {});\n",
              "          if (!dataTable) return;\n",
              "\n",
              "          const docLinkHtml = 'Like what you see? Visit the ' +\n",
              "            '<a target=\"_blank\" href=https://colab.research.google.com/notebooks/data_table.ipynb>data table notebook</a>'\n",
              "            + ' to learn more about interactive tables.';\n",
              "          element.innerHTML = '';\n",
              "          dataTable['output_type'] = 'display_data';\n",
              "          await google.colab.output.renderOutput(dataTable, element);\n",
              "          const docLink = document.createElement('div');\n",
              "          docLink.innerHTML = docLinkHtml;\n",
              "          element.appendChild(docLink);\n",
              "        }\n",
              "      </script>\n",
              "    </div>\n",
              "  </div>\n",
              "  "
            ]
          },
          "metadata": {},
          "execution_count": 49
        }
      ],
      "source": [
        "from sklearn import preprocessing\n",
        "titanic2 = titanic[[\"survived\", \"pclass\", \"sex\", \"age\", \"fare\"]].dropna().copy()\n",
        "titanic2.loc[:, 'sex'] = preprocessing.LabelEncoder().fit_transform(titanic2.loc[:, 'sex'])\n",
        "titanic2.head()"
      ]
    },
    {
      "cell_type": "code",
      "execution_count": 50,
      "id": "54144366",
      "metadata": {
        "id": "54144366"
      },
      "outputs": [],
      "source": [
        "from sklearn.model_selection import train_test_split\n",
        "df_train, df_test = train_test_split(titanic2, test_size=0.2, random_state=0)\n",
        "features = [\"pclass\", \"sex\", \"age\", \"fare\"]\n",
        "label_col = \"survived\""
      ]
    },
    {
      "cell_type": "markdown",
      "id": "bb9fba25",
      "metadata": {
        "id": "bb9fba25"
      },
      "source": [
        "Let's first test a <b>reproducible model</b>: a Random Forest with the random state set"
      ]
    },
    {
      "cell_type": "code",
      "execution_count": 51,
      "id": "852ce0d4",
      "metadata": {
        "id": "852ce0d4"
      },
      "outputs": [],
      "source": [
        "from sklearn.ensemble import RandomForestClassifier\n",
        "model = RandomForestClassifier(random_state=2222)"
      ]
    },
    {
      "cell_type": "markdown",
      "id": "f5374bb9",
      "metadata": {
        "id": "f5374bb9"
      },
      "source": [
        "We need to specify a function to train the model. Also, an evaluation function that returns a metric and a function that returns the predictions (only one of these last two functions is mandatory for this test, but at least one needs to be specified)"
      ]
    },
    {
      "cell_type": "code",
      "execution_count": 52,
      "id": "4646f21f",
      "metadata": {
        "id": "4646f21f"
      },
      "outputs": [],
      "source": [
        "from sklearn.metrics import accuracy_score\n",
        "def train_model(model, X, y, train_params=None):\n",
        "    model.fit(X, y)\n",
        "    return model\n",
        "    \n",
        "def eval_model(model, X, y, eval_params=None):\n",
        "    y_pred = model.predict(X)\n",
        "    return accuracy_score(y, y_pred)\n",
        "\n",
        "def get_predictions(model, X, pred_params=None):\n",
        "    return model.predict(X)"
      ]
    },
    {
      "cell_type": "markdown",
      "id": "5a01214e",
      "metadata": {
        "id": "5a01214e"
      },
      "source": [
        "Now, let's execute the test"
      ]
    },
    {
      "cell_type": "code",
      "execution_count": 53,
      "id": "9fa0fec8",
      "metadata": {
        "id": "9fa0fec8"
      },
      "outputs": [],
      "source": [
        "from mercury.robust.model_tests import ModelReproducibilityTest\n",
        "test = ModelReproducibilityTest(\n",
        "    model = model,\n",
        "    train_dataset = df_train[features + [label_col]],\n",
        "    target = label_col,\n",
        "    train_fn = train_model,\n",
        "    train_params = None,\n",
        "    eval_fn = eval_model,\n",
        "    eval_params = None,\n",
        "    threshold_eval = 0,\n",
        "    predict_fn = get_predictions,\n",
        "    predict_params = None,\n",
        "    threshold_yhat = 0,\n",
        "    test_dataset = df_test[features + [label_col]]\n",
        ")\n",
        "test.run()"
      ]
    },
    {
      "cell_type": "markdown",
      "id": "06a1f242",
      "metadata": {
        "id": "06a1f242"
      },
      "source": [
        "The test passes\n",
        "Now let's try a non-reproducible model: another Random Forest but now without setting the random state"
      ]
    },
    {
      "cell_type": "code",
      "execution_count": 54,
      "id": "c62ce633",
      "metadata": {
        "id": "c62ce633"
      },
      "outputs": [],
      "source": [
        "model = RandomForestClassifier()"
      ]
    },
    {
      "cell_type": "markdown",
      "id": "6039c6ad",
      "metadata": {
        "id": "6039c6ad"
      },
      "source": [
        "We can use the same training function, evaluation function, and get predictions function"
      ]
    },
    {
      "cell_type": "code",
      "execution_count": 55,
      "id": "427bacbc",
      "metadata": {
        "colab": {
          "base_uri": "https://localhost:8080/",
          "height": 389
        },
        "id": "427bacbc",
        "outputId": "1e0e0813-ee30-400c-f1f1-4efd65da7be7"
      },
      "outputs": [
        {
          "output_type": "error",
          "ename": "FailedTestError",
          "evalue": "ignored",
          "traceback": [
            "\u001b[0;31m---------------------------------------------------------------------------\u001b[0m",
            "\u001b[0;31mFailedTestError\u001b[0m                           Traceback (most recent call last)",
            "\u001b[0;32m<ipython-input-55-4594fb96cecc>\u001b[0m in \u001b[0;36m<cell line: 13>\u001b[0;34m()\u001b[0m\n\u001b[1;32m     11\u001b[0m     \u001b[0mtest_dataset\u001b[0m \u001b[0;34m=\u001b[0m \u001b[0mdf_test\u001b[0m\u001b[0;34m[\u001b[0m\u001b[0mfeatures\u001b[0m \u001b[0;34m+\u001b[0m \u001b[0;34m[\u001b[0m\u001b[0mlabel_col\u001b[0m\u001b[0;34m]\u001b[0m\u001b[0;34m]\u001b[0m\u001b[0;34m\u001b[0m\u001b[0;34m\u001b[0m\u001b[0m\n\u001b[1;32m     12\u001b[0m )\n\u001b[0;32m---> 13\u001b[0;31m \u001b[0mtest\u001b[0m\u001b[0;34m.\u001b[0m\u001b[0mrun\u001b[0m\u001b[0;34m(\u001b[0m\u001b[0;34m)\u001b[0m\u001b[0;34m\u001b[0m\u001b[0;34m\u001b[0m\u001b[0m\n\u001b[0m",
            "\u001b[0;32m/usr/local/lib/python3.9/dist-packages/mercury/insight/decorators.py\u001b[0m in \u001b[0;36mwrapped\u001b[0;34m(self, *args, **kwargs)\u001b[0m\n\u001b[1;32m     70\u001b[0m                 \u001b[0mfunc\u001b[0m \u001b[0;34m=\u001b[0m \u001b[0mtarget\u001b[0m\u001b[0;34m(\u001b[0m\u001b[0mself\u001b[0m\u001b[0;34m,\u001b[0m \u001b[0;34m*\u001b[0m\u001b[0margs\u001b[0m\u001b[0;34m,\u001b[0m \u001b[0;34m**\u001b[0m\u001b[0mkwargs\u001b[0m\u001b[0;34m)\u001b[0m\u001b[0;34m\u001b[0m\u001b[0;34m\u001b[0m\u001b[0m\n\u001b[1;32m     71\u001b[0m         \u001b[0;32mexcept\u001b[0m \u001b[0mException\u001b[0m \u001b[0;32mas\u001b[0m \u001b[0me\u001b[0m\u001b[0;34m:\u001b[0m\u001b[0;34m\u001b[0m\u001b[0;34m\u001b[0m\u001b[0m\n\u001b[0;32m---> 72\u001b[0;31m             \u001b[0;32mraise\u001b[0m \u001b[0me\u001b[0m\u001b[0;34m\u001b[0m\u001b[0;34m\u001b[0m\u001b[0m\n\u001b[0m\u001b[1;32m     73\u001b[0m         \u001b[0;32mfinally\u001b[0m\u001b[0;34m:\u001b[0m\u001b[0;34m\u001b[0m\u001b[0;34m\u001b[0m\u001b[0m\n\u001b[1;32m     74\u001b[0m             \u001b[0;31m# Re-enable the logger\u001b[0m\u001b[0;34m\u001b[0m\u001b[0;34m\u001b[0m\u001b[0m\n",
            "\u001b[0;32m/usr/local/lib/python3.9/dist-packages/mercury/insight/decorators.py\u001b[0m in \u001b[0;36mwrapped\u001b[0;34m(self, *args, **kwargs)\u001b[0m\n\u001b[1;32m     68\u001b[0m             \u001b[0mlgr\u001b[0m\u001b[0;34m.\u001b[0m\u001b[0menabled\u001b[0m \u001b[0;34m=\u001b[0m \u001b[0;32mFalse\u001b[0m\u001b[0;34m\u001b[0m\u001b[0;34m\u001b[0m\u001b[0m\n\u001b[1;32m     69\u001b[0m             \u001b[0;32mwith\u001b[0m \u001b[0mlgr\u001b[0m\u001b[0;34m:\u001b[0m\u001b[0;34m\u001b[0m\u001b[0;34m\u001b[0m\u001b[0m\n\u001b[0;32m---> 70\u001b[0;31m                 \u001b[0mfunc\u001b[0m \u001b[0;34m=\u001b[0m \u001b[0mtarget\u001b[0m\u001b[0;34m(\u001b[0m\u001b[0mself\u001b[0m\u001b[0;34m,\u001b[0m \u001b[0;34m*\u001b[0m\u001b[0margs\u001b[0m\u001b[0;34m,\u001b[0m \u001b[0;34m**\u001b[0m\u001b[0mkwargs\u001b[0m\u001b[0;34m)\u001b[0m\u001b[0;34m\u001b[0m\u001b[0;34m\u001b[0m\u001b[0m\n\u001b[0m\u001b[1;32m     71\u001b[0m         \u001b[0;32mexcept\u001b[0m \u001b[0mException\u001b[0m \u001b[0;32mas\u001b[0m \u001b[0me\u001b[0m\u001b[0;34m:\u001b[0m\u001b[0;34m\u001b[0m\u001b[0;34m\u001b[0m\u001b[0m\n\u001b[1;32m     72\u001b[0m             \u001b[0;32mraise\u001b[0m \u001b[0me\u001b[0m\u001b[0;34m\u001b[0m\u001b[0;34m\u001b[0m\u001b[0m\n",
            "\u001b[0;32m/usr/local/lib/python3.9/dist-packages/mercury/robust/model_tests.py\u001b[0m in \u001b[0;36mrun\u001b[0;34m(self, *args, **kwargs)\u001b[0m\n\u001b[1;32m    401\u001b[0m             \u001b[0;31m# Check evaluation on test\u001b[0m\u001b[0;34m\u001b[0m\u001b[0;34m\u001b[0m\u001b[0m\n\u001b[1;32m    402\u001b[0m             \u001b[0;32mif\u001b[0m \u001b[0;34m(\u001b[0m\u001b[0mself\u001b[0m\u001b[0;34m.\u001b[0m\u001b[0mtest_dataset\u001b[0m \u001b[0;32mis\u001b[0m \u001b[0;32mnot\u001b[0m \u001b[0;32mNone\u001b[0m\u001b[0;34m)\u001b[0m \u001b[0;32mand\u001b[0m \u001b[0mself\u001b[0m\u001b[0;34m.\u001b[0m\u001b[0m_check_diff_in_eval\u001b[0m\u001b[0;34m(\u001b[0m\u001b[0mmodel_1\u001b[0m\u001b[0;34m,\u001b[0m \u001b[0mmodel_2\u001b[0m\u001b[0;34m,\u001b[0m \u001b[0mX_test\u001b[0m\u001b[0;34m,\u001b[0m \u001b[0my_test\u001b[0m\u001b[0;34m)\u001b[0m\u001b[0;34m:\u001b[0m\u001b[0;34m\u001b[0m\u001b[0;34m\u001b[0m\u001b[0m\n\u001b[0;32m--> 403\u001b[0;31m                 raise FailedTestError(\n\u001b[0m\u001b[1;32m    404\u001b[0m                     \u001b[0;34mf\"Eval metric different in test dataset when training two times ({round(self.eval_1,4)} vs {round(self.eval_2,4)}). \"\u001b[0m\u001b[0;34m\u001b[0m\u001b[0;34m\u001b[0m\u001b[0m\n\u001b[1;32m    405\u001b[0m                     \u001b[0;34mf\"The max difference allowed is {round(self.threshold_eval, 4)} \"\u001b[0m\u001b[0;34m\u001b[0m\u001b[0;34m\u001b[0m\u001b[0m\n",
            "\u001b[0;31mFailedTestError\u001b[0m: Eval metric different in test dataset when training two times (0.8112 vs 0.7902). The max difference allowed is 0 The model is not reproducible."
          ]
        }
      ],
      "source": [
        "test = ModelReproducibilityTest(\n",
        "    model = model,\n",
        "    train_dataset = df_train[features + [label_col]],\n",
        "    target = label_col,\n",
        "    train_fn = train_model,\n",
        "    train_params = None,\n",
        "    eval_fn = eval_model,\n",
        "    threshold_eval = 0,\n",
        "    predict_fn = get_predictions,\n",
        "    threshold_yhat = 0,\n",
        "    test_dataset = df_test[features + [label_col]]\n",
        ")\n",
        "test.run()"
      ]
    },
    {
      "cell_type": "markdown",
      "id": "c29c12bf",
      "metadata": {
        "id": "c29c12bf"
      },
      "source": [
        "We see that now the test fails"
      ]
    },
    {
      "cell_type": "markdown",
      "id": "418fb4b9",
      "metadata": {
        "id": "418fb4b9"
      },
      "source": [
        "<a id=\"model_simplicity\"></a>\n",
        "### Model Simplicity Test\n",
        "\n",
        "We now use the `ModelSimplicityTest`. This test looks if a trained model has a simple baseline which trained in the same dataset gives better or similar performance on a test dataset.\n"
      ]
    },
    {
      "cell_type": "markdown",
      "id": "747bd8fe",
      "metadata": {
        "id": "747bd8fe"
      },
      "source": [
        "We will use again the default credit card Dataset from the UCI machine learning repository [[2]](#[2])"
      ]
    },
    {
      "cell_type": "code",
      "execution_count": 56,
      "id": "c2f3a8bc",
      "metadata": {
        "id": "c2f3a8bc"
      },
      "outputs": [],
      "source": [
        "path_dataset = \"./data/credit/\"\n",
        "uci_credit = pd.read_csv(path_dataset + \"UCI_Credit_card.csv\")\n",
        "\n",
        "uci_credit[\"SEX\"] = uci_credit[\"SEX\"].astype(str)\n",
        "uci_credit[\"EDUCATION\"] = uci_credit[\"EDUCATION\"].astype(str)\n",
        "uci_credit[\"MARRIAGE\"] = uci_credit[\"MARRIAGE\"].astype(str)\n",
        "uci_credit = uci_credit.drop('ID', axis=1)\n",
        "\n",
        "\n",
        "from sklearn.model_selection import train_test_split\n",
        "df_train, df_test = train_test_split(uci_credit, test_size=0.2, random_state=0)"
      ]
    },
    {
      "cell_type": "code",
      "source": [
        "uci_credit.head()"
      ],
      "metadata": {
        "colab": {
          "base_uri": "https://localhost:8080/",
          "height": 300
        },
        "id": "tVwtGoxE5Thb",
        "outputId": "769de034-6248-4026-d14d-434f8be651b0"
      },
      "id": "tVwtGoxE5Thb",
      "execution_count": 57,
      "outputs": [
        {
          "output_type": "execute_result",
          "data": {
            "text/plain": [
              "   LIMIT_BAL SEX EDUCATION MARRIAGE  AGE  PAY_0  PAY_2  PAY_3  PAY_4  PAY_5  \\\n",
              "0    20000.0   2         2        1   24      2      2     -1     -1     -2   \n",
              "1   120000.0   2         2        2   26     -1      2      0      0      0   \n",
              "2    90000.0   2         2        2   34      0      0      0      0      0   \n",
              "3    50000.0   2         2        1   37      0      0      0      0      0   \n",
              "4    50000.0   1         2        1   57     -1      0     -1      0      0   \n",
              "\n",
              "   ...  BILL_AMT4  BILL_AMT5  BILL_AMT6  PAY_AMT1  PAY_AMT2  PAY_AMT3  \\\n",
              "0  ...        0.0        0.0        0.0       0.0     689.0       0.0   \n",
              "1  ...     3272.0     3455.0     3261.0       0.0    1000.0    1000.0   \n",
              "2  ...    14331.0    14948.0    15549.0    1518.0    1500.0    1000.0   \n",
              "3  ...    28314.0    28959.0    29547.0    2000.0    2019.0    1200.0   \n",
              "4  ...    20940.0    19146.0    19131.0    2000.0   36681.0   10000.0   \n",
              "\n",
              "   PAY_AMT4  PAY_AMT5  PAY_AMT6  default.payment.next.month  \n",
              "0       0.0       0.0       0.0                           1  \n",
              "1    1000.0       0.0    2000.0                           1  \n",
              "2    1000.0    1000.0    5000.0                           0  \n",
              "3    1100.0    1069.0    1000.0                           0  \n",
              "4    9000.0     689.0     679.0                           0  \n",
              "\n",
              "[5 rows x 24 columns]"
            ],
            "text/html": [
              "\n",
              "  <div id=\"df-82c1303e-f4ae-4b32-a268-7873f70e897f\">\n",
              "    <div class=\"colab-df-container\">\n",
              "      <div>\n",
              "<style scoped>\n",
              "    .dataframe tbody tr th:only-of-type {\n",
              "        vertical-align: middle;\n",
              "    }\n",
              "\n",
              "    .dataframe tbody tr th {\n",
              "        vertical-align: top;\n",
              "    }\n",
              "\n",
              "    .dataframe thead th {\n",
              "        text-align: right;\n",
              "    }\n",
              "</style>\n",
              "<table border=\"1\" class=\"dataframe\">\n",
              "  <thead>\n",
              "    <tr style=\"text-align: right;\">\n",
              "      <th></th>\n",
              "      <th>LIMIT_BAL</th>\n",
              "      <th>SEX</th>\n",
              "      <th>EDUCATION</th>\n",
              "      <th>MARRIAGE</th>\n",
              "      <th>AGE</th>\n",
              "      <th>PAY_0</th>\n",
              "      <th>PAY_2</th>\n",
              "      <th>PAY_3</th>\n",
              "      <th>PAY_4</th>\n",
              "      <th>PAY_5</th>\n",
              "      <th>...</th>\n",
              "      <th>BILL_AMT4</th>\n",
              "      <th>BILL_AMT5</th>\n",
              "      <th>BILL_AMT6</th>\n",
              "      <th>PAY_AMT1</th>\n",
              "      <th>PAY_AMT2</th>\n",
              "      <th>PAY_AMT3</th>\n",
              "      <th>PAY_AMT4</th>\n",
              "      <th>PAY_AMT5</th>\n",
              "      <th>PAY_AMT6</th>\n",
              "      <th>default.payment.next.month</th>\n",
              "    </tr>\n",
              "  </thead>\n",
              "  <tbody>\n",
              "    <tr>\n",
              "      <th>0</th>\n",
              "      <td>20000.0</td>\n",
              "      <td>2</td>\n",
              "      <td>2</td>\n",
              "      <td>1</td>\n",
              "      <td>24</td>\n",
              "      <td>2</td>\n",
              "      <td>2</td>\n",
              "      <td>-1</td>\n",
              "      <td>-1</td>\n",
              "      <td>-2</td>\n",
              "      <td>...</td>\n",
              "      <td>0.0</td>\n",
              "      <td>0.0</td>\n",
              "      <td>0.0</td>\n",
              "      <td>0.0</td>\n",
              "      <td>689.0</td>\n",
              "      <td>0.0</td>\n",
              "      <td>0.0</td>\n",
              "      <td>0.0</td>\n",
              "      <td>0.0</td>\n",
              "      <td>1</td>\n",
              "    </tr>\n",
              "    <tr>\n",
              "      <th>1</th>\n",
              "      <td>120000.0</td>\n",
              "      <td>2</td>\n",
              "      <td>2</td>\n",
              "      <td>2</td>\n",
              "      <td>26</td>\n",
              "      <td>-1</td>\n",
              "      <td>2</td>\n",
              "      <td>0</td>\n",
              "      <td>0</td>\n",
              "      <td>0</td>\n",
              "      <td>...</td>\n",
              "      <td>3272.0</td>\n",
              "      <td>3455.0</td>\n",
              "      <td>3261.0</td>\n",
              "      <td>0.0</td>\n",
              "      <td>1000.0</td>\n",
              "      <td>1000.0</td>\n",
              "      <td>1000.0</td>\n",
              "      <td>0.0</td>\n",
              "      <td>2000.0</td>\n",
              "      <td>1</td>\n",
              "    </tr>\n",
              "    <tr>\n",
              "      <th>2</th>\n",
              "      <td>90000.0</td>\n",
              "      <td>2</td>\n",
              "      <td>2</td>\n",
              "      <td>2</td>\n",
              "      <td>34</td>\n",
              "      <td>0</td>\n",
              "      <td>0</td>\n",
              "      <td>0</td>\n",
              "      <td>0</td>\n",
              "      <td>0</td>\n",
              "      <td>...</td>\n",
              "      <td>14331.0</td>\n",
              "      <td>14948.0</td>\n",
              "      <td>15549.0</td>\n",
              "      <td>1518.0</td>\n",
              "      <td>1500.0</td>\n",
              "      <td>1000.0</td>\n",
              "      <td>1000.0</td>\n",
              "      <td>1000.0</td>\n",
              "      <td>5000.0</td>\n",
              "      <td>0</td>\n",
              "    </tr>\n",
              "    <tr>\n",
              "      <th>3</th>\n",
              "      <td>50000.0</td>\n",
              "      <td>2</td>\n",
              "      <td>2</td>\n",
              "      <td>1</td>\n",
              "      <td>37</td>\n",
              "      <td>0</td>\n",
              "      <td>0</td>\n",
              "      <td>0</td>\n",
              "      <td>0</td>\n",
              "      <td>0</td>\n",
              "      <td>...</td>\n",
              "      <td>28314.0</td>\n",
              "      <td>28959.0</td>\n",
              "      <td>29547.0</td>\n",
              "      <td>2000.0</td>\n",
              "      <td>2019.0</td>\n",
              "      <td>1200.0</td>\n",
              "      <td>1100.0</td>\n",
              "      <td>1069.0</td>\n",
              "      <td>1000.0</td>\n",
              "      <td>0</td>\n",
              "    </tr>\n",
              "    <tr>\n",
              "      <th>4</th>\n",
              "      <td>50000.0</td>\n",
              "      <td>1</td>\n",
              "      <td>2</td>\n",
              "      <td>1</td>\n",
              "      <td>57</td>\n",
              "      <td>-1</td>\n",
              "      <td>0</td>\n",
              "      <td>-1</td>\n",
              "      <td>0</td>\n",
              "      <td>0</td>\n",
              "      <td>...</td>\n",
              "      <td>20940.0</td>\n",
              "      <td>19146.0</td>\n",
              "      <td>19131.0</td>\n",
              "      <td>2000.0</td>\n",
              "      <td>36681.0</td>\n",
              "      <td>10000.0</td>\n",
              "      <td>9000.0</td>\n",
              "      <td>689.0</td>\n",
              "      <td>679.0</td>\n",
              "      <td>0</td>\n",
              "    </tr>\n",
              "  </tbody>\n",
              "</table>\n",
              "<p>5 rows × 24 columns</p>\n",
              "</div>\n",
              "      <button class=\"colab-df-convert\" onclick=\"convertToInteractive('df-82c1303e-f4ae-4b32-a268-7873f70e897f')\"\n",
              "              title=\"Convert this dataframe to an interactive table.\"\n",
              "              style=\"display:none;\">\n",
              "        \n",
              "  <svg xmlns=\"http://www.w3.org/2000/svg\" height=\"24px\"viewBox=\"0 0 24 24\"\n",
              "       width=\"24px\">\n",
              "    <path d=\"M0 0h24v24H0V0z\" fill=\"none\"/>\n",
              "    <path d=\"M18.56 5.44l.94 2.06.94-2.06 2.06-.94-2.06-.94-.94-2.06-.94 2.06-2.06.94zm-11 1L8.5 8.5l.94-2.06 2.06-.94-2.06-.94L8.5 2.5l-.94 2.06-2.06.94zm10 10l.94 2.06.94-2.06 2.06-.94-2.06-.94-.94-2.06-.94 2.06-2.06.94z\"/><path d=\"M17.41 7.96l-1.37-1.37c-.4-.4-.92-.59-1.43-.59-.52 0-1.04.2-1.43.59L10.3 9.45l-7.72 7.72c-.78.78-.78 2.05 0 2.83L4 21.41c.39.39.9.59 1.41.59.51 0 1.02-.2 1.41-.59l7.78-7.78 2.81-2.81c.8-.78.8-2.07 0-2.86zM5.41 20L4 18.59l7.72-7.72 1.47 1.35L5.41 20z\"/>\n",
              "  </svg>\n",
              "      </button>\n",
              "      \n",
              "  <style>\n",
              "    .colab-df-container {\n",
              "      display:flex;\n",
              "      flex-wrap:wrap;\n",
              "      gap: 12px;\n",
              "    }\n",
              "\n",
              "    .colab-df-convert {\n",
              "      background-color: #E8F0FE;\n",
              "      border: none;\n",
              "      border-radius: 50%;\n",
              "      cursor: pointer;\n",
              "      display: none;\n",
              "      fill: #1967D2;\n",
              "      height: 32px;\n",
              "      padding: 0 0 0 0;\n",
              "      width: 32px;\n",
              "    }\n",
              "\n",
              "    .colab-df-convert:hover {\n",
              "      background-color: #E2EBFA;\n",
              "      box-shadow: 0px 1px 2px rgba(60, 64, 67, 0.3), 0px 1px 3px 1px rgba(60, 64, 67, 0.15);\n",
              "      fill: #174EA6;\n",
              "    }\n",
              "\n",
              "    [theme=dark] .colab-df-convert {\n",
              "      background-color: #3B4455;\n",
              "      fill: #D2E3FC;\n",
              "    }\n",
              "\n",
              "    [theme=dark] .colab-df-convert:hover {\n",
              "      background-color: #434B5C;\n",
              "      box-shadow: 0px 1px 3px 1px rgba(0, 0, 0, 0.15);\n",
              "      filter: drop-shadow(0px 1px 2px rgba(0, 0, 0, 0.3));\n",
              "      fill: #FFFFFF;\n",
              "    }\n",
              "  </style>\n",
              "\n",
              "      <script>\n",
              "        const buttonEl =\n",
              "          document.querySelector('#df-82c1303e-f4ae-4b32-a268-7873f70e897f button.colab-df-convert');\n",
              "        buttonEl.style.display =\n",
              "          google.colab.kernel.accessAllowed ? 'block' : 'none';\n",
              "\n",
              "        async function convertToInteractive(key) {\n",
              "          const element = document.querySelector('#df-82c1303e-f4ae-4b32-a268-7873f70e897f');\n",
              "          const dataTable =\n",
              "            await google.colab.kernel.invokeFunction('convertToInteractive',\n",
              "                                                     [key], {});\n",
              "          if (!dataTable) return;\n",
              "\n",
              "          const docLinkHtml = 'Like what you see? Visit the ' +\n",
              "            '<a target=\"_blank\" href=https://colab.research.google.com/notebooks/data_table.ipynb>data table notebook</a>'\n",
              "            + ' to learn more about interactive tables.';\n",
              "          element.innerHTML = '';\n",
              "          dataTable['output_type'] = 'display_data';\n",
              "          await google.colab.output.renderOutput(dataTable, element);\n",
              "          const docLink = document.createElement('div');\n",
              "          docLink.innerHTML = docLinkHtml;\n",
              "          element.appendChild(docLink);\n",
              "        }\n",
              "      </script>\n",
              "    </div>\n",
              "  </div>\n",
              "  "
            ]
          },
          "metadata": {},
          "execution_count": 57
        }
      ]
    },
    {
      "cell_type": "code",
      "execution_count": 58,
      "id": "be2dcff7",
      "metadata": {
        "id": "be2dcff7"
      },
      "outputs": [],
      "source": [
        "pay_feats = [c for c in df_train.columns if \"PAY_\" in c]\n",
        "bill_feats = [c for c in df_train.columns if \"BILL_\" in c]\n",
        "num_feats = ['LIMIT_BAL', 'AGE'] + pay_feats + bill_feats\n",
        "\n",
        "cat_feats = ['SEX', 'EDUCATION', 'MARRIAGE']\n",
        "\n",
        "label_col = \"default.payment.next.month\""
      ]
    },
    {
      "cell_type": "markdown",
      "id": "f7c7a0c1",
      "metadata": {
        "id": "f7c7a0c1"
      },
      "source": [
        "<b> Train model  </b>\n",
        "\n",
        "We train a model for this dataset. We train a complex Random Forest with 100 estimators and a max_depth of 30"
      ]
    },
    {
      "cell_type": "code",
      "execution_count": 59,
      "id": "2aa818a8",
      "metadata": {
        "colab": {
          "base_uri": "https://localhost:8080/"
        },
        "id": "2aa818a8",
        "outputId": "0b63ccfd-bd5f-42f7-bfdd-1fb476814643"
      },
      "outputs": [
        {
          "output_type": "stream",
          "name": "stdout",
          "text": [
            "(24000, 23)\n",
            "(24000,)\n",
            "(6000, 23)\n",
            "(6000,)\n"
          ]
        }
      ],
      "source": [
        "X_train = df_train[num_feats + cat_feats]\n",
        "y_train = df_train[label_col]\n",
        "X_test = df_test[num_feats + cat_feats]\n",
        "y_test = df_test[label_col]\n",
        "print(X_train.shape)\n",
        "print(y_train.shape)\n",
        "print(X_test.shape)\n",
        "print(y_test.shape)"
      ]
    },
    {
      "cell_type": "code",
      "execution_count": 60,
      "id": "88bb07f6",
      "metadata": {
        "id": "88bb07f6"
      },
      "outputs": [],
      "source": [
        "from sklearn.ensemble import RandomForestClassifier\n",
        "from sklearn.pipeline import Pipeline\n",
        "from sklearn.compose import ColumnTransformer\n",
        "from sklearn.preprocessing import StandardScaler, OneHotEncoder\n",
        "\n",
        "from sklearn.ensemble import ExtraTreesClassifier\n",
        "def create_model(num_feats=None, cat_feats=None):\n",
        "\n",
        "    numeric_transformer = Pipeline(steps=[(\"scaler\", StandardScaler())])\n",
        "    categorical_transformer = OneHotEncoder(handle_unknown=\"ignore\")\n",
        "\n",
        "    preprocessor = ColumnTransformer(\n",
        "        transformers=[\n",
        "            (\"num\", numeric_transformer, num_feats),\n",
        "            (\"cat\", categorical_transformer, cat_feats),\n",
        "        ], remainder='drop'\n",
        "    )\n",
        "\n",
        "    pipeline = Pipeline(\n",
        "        steps=[(\"preprocessor\", preprocessor), \n",
        "               (\"classifier\", RandomForestClassifier(\n",
        "                   n_estimators=100, max_depth=30, class_weight=\"balanced\", random_state=2000))\n",
        "              ]\n",
        "    )\n",
        "    \n",
        "    return pipeline\n",
        "\n",
        "model = create_model(num_feats, cat_feats)"
      ]
    },
    {
      "cell_type": "code",
      "execution_count": 61,
      "id": "95a3358c",
      "metadata": {
        "id": "95a3358c"
      },
      "outputs": [],
      "source": [
        "X_train = df_train.loc[:, [f for f in df_train.columns if f != label_col]]\n",
        "y_train = df_train.loc[:, label_col]\n",
        "model = model.fit(X_train, y_train)"
      ]
    },
    {
      "cell_type": "markdown",
      "id": "f61933ec",
      "metadata": {
        "id": "f61933ec"
      },
      "source": [
        "<b> Create Test </b>\n",
        "\n",
        "Let's now create the test. If we do not specify a baseline, then a LogisticRegression is considered in case of classification tasks and LinearRegression in case of regression tasks.\n",
        "\n",
        "By default, the accuracy score is used as a metric to compare your model with the baseline. In this case, as we have class imbalance, we will use the `roc_auc_score`.\n",
        "\n",
        "The `threshold=0.02` is used to compare the baseline with our model. As example, suppose that our model achieves an AUC of 0.65. With a threshold of 0.02, that means that if the baseline obtains an AUC of 0.63 or better then the test will fail, since is considered that a simpler model can achieve very similar or better performance.\n",
        "\n",
        "You can check further options of this test in the documentation."
      ]
    },
    {
      "cell_type": "code",
      "execution_count": 62,
      "id": "bfbcb327",
      "metadata": {
        "id": "bfbcb327"
      },
      "outputs": [],
      "source": [
        "from mercury.robust.model_tests import ModelSimplicityChecker\n",
        "from sklearn.linear_model import LogisticRegression\n",
        "from sklearn.metrics import roc_auc_score\n",
        "\n",
        "# We want to fix the type of this features so the internal DataSchema don't run type\n",
        "# inference on them.\n",
        "custom_feature_map ={\n",
        "    'PAY_0': FeatType.CONTINUOUS,\n",
        "    'PAY_2': FeatType.CONTINUOUS,\n",
        "    'PAY_3': FeatType.CONTINUOUS,\n",
        "    'PAY_4': FeatType.CONTINUOUS,\n",
        "    'PAY_5': FeatType.CONTINUOUS,\n",
        "    'PAY_6': FeatType.CONTINUOUS,\n",
        "}\n",
        "\n",
        "test = ModelSimplicityChecker(\n",
        "    model = model,\n",
        "    X_train = X_train,\n",
        "    y_train = y_train,\n",
        "    X_test = X_test,\n",
        "    y_test = y_test,\n",
        "    threshold=0.02,\n",
        "    eval_fn=roc_auc_score,\n",
        "    schema_custom_feature_map = custom_feature_map,\n",
        "    baseline_model=LogisticRegression(solver='newton-cg')\n",
        ")\n",
        "test.run()"
      ]
    },
    {
      "cell_type": "markdown",
      "id": "4d785461",
      "metadata": {
        "id": "4d785461"
      },
      "source": [
        "We see that the test has passed, meaning that the baseline used hasn't obtained a better performance. We can check what was the performance of each method by calling the method `info()`:"
      ]
    },
    {
      "cell_type": "code",
      "execution_count": 63,
      "id": "5cfdfa5e",
      "metadata": {
        "colab": {
          "base_uri": "https://localhost:8080/"
        },
        "id": "5cfdfa5e",
        "outputId": "1739b2cc-b798-4cf5-c80b-3b1250e3b7d0"
      },
      "outputs": [
        {
          "output_type": "execute_result",
          "data": {
            "text/plain": [
              "{'metric_model': 0.6493437234160974,\n",
              " 'metric_baseline_model': 0.5003855050115652}"
            ]
          },
          "metadata": {},
          "execution_count": 63
        }
      ],
      "source": [
        "test.info()"
      ]
    },
    {
      "cell_type": "markdown",
      "id": "725be8ff",
      "metadata": {
        "id": "725be8ff"
      },
      "source": [
        "None of the models are achieving very good performance, but the baseline is actually very bad. When using the default baseline, the created `LogisticRegression` has the default parameters. We can try to pass the `baseline_model` but this time passing a `LogisticRegression` with `class_weight=\"balanced\"` in order to deal with the class imbalance"
      ]
    },
    {
      "cell_type": "code",
      "execution_count": 64,
      "id": "25a67db4",
      "metadata": {
        "colab": {
          "base_uri": "https://localhost:8080/",
          "height": 407
        },
        "id": "25a67db4",
        "outputId": "1039b095-cddf-49db-e9c9-0ce09de940fd"
      },
      "outputs": [
        {
          "output_type": "error",
          "ename": "FailedTestError",
          "evalue": "ignored",
          "traceback": [
            "\u001b[0;31m---------------------------------------------------------------------------\u001b[0m",
            "\u001b[0;31mFailedTestError\u001b[0m                           Traceback (most recent call last)",
            "\u001b[0;32m<ipython-input-64-848440489f69>\u001b[0m in \u001b[0;36m<cell line: 14>\u001b[0;34m()\u001b[0m\n\u001b[1;32m     12\u001b[0m     \u001b[0mschema_custom_feature_map\u001b[0m \u001b[0;34m=\u001b[0m \u001b[0mcustom_feature_map\u001b[0m\u001b[0;34m\u001b[0m\u001b[0;34m\u001b[0m\u001b[0m\n\u001b[1;32m     13\u001b[0m )\n\u001b[0;32m---> 14\u001b[0;31m \u001b[0mtest\u001b[0m\u001b[0;34m.\u001b[0m\u001b[0mrun\u001b[0m\u001b[0;34m(\u001b[0m\u001b[0;34m)\u001b[0m\u001b[0;34m\u001b[0m\u001b[0;34m\u001b[0m\u001b[0m\n\u001b[0m",
            "\u001b[0;32m/usr/local/lib/python3.9/dist-packages/mercury/insight/decorators.py\u001b[0m in \u001b[0;36mwrapped\u001b[0;34m(self, *args, **kwargs)\u001b[0m\n\u001b[1;32m     70\u001b[0m                 \u001b[0mfunc\u001b[0m \u001b[0;34m=\u001b[0m \u001b[0mtarget\u001b[0m\u001b[0;34m(\u001b[0m\u001b[0mself\u001b[0m\u001b[0;34m,\u001b[0m \u001b[0;34m*\u001b[0m\u001b[0margs\u001b[0m\u001b[0;34m,\u001b[0m \u001b[0;34m**\u001b[0m\u001b[0mkwargs\u001b[0m\u001b[0;34m)\u001b[0m\u001b[0;34m\u001b[0m\u001b[0;34m\u001b[0m\u001b[0m\n\u001b[1;32m     71\u001b[0m         \u001b[0;32mexcept\u001b[0m \u001b[0mException\u001b[0m \u001b[0;32mas\u001b[0m \u001b[0me\u001b[0m\u001b[0;34m:\u001b[0m\u001b[0;34m\u001b[0m\u001b[0;34m\u001b[0m\u001b[0m\n\u001b[0;32m---> 72\u001b[0;31m             \u001b[0;32mraise\u001b[0m \u001b[0me\u001b[0m\u001b[0;34m\u001b[0m\u001b[0;34m\u001b[0m\u001b[0m\n\u001b[0m\u001b[1;32m     73\u001b[0m         \u001b[0;32mfinally\u001b[0m\u001b[0;34m:\u001b[0m\u001b[0;34m\u001b[0m\u001b[0;34m\u001b[0m\u001b[0m\n\u001b[1;32m     74\u001b[0m             \u001b[0;31m# Re-enable the logger\u001b[0m\u001b[0;34m\u001b[0m\u001b[0;34m\u001b[0m\u001b[0m\n",
            "\u001b[0;32m/usr/local/lib/python3.9/dist-packages/mercury/insight/decorators.py\u001b[0m in \u001b[0;36mwrapped\u001b[0;34m(self, *args, **kwargs)\u001b[0m\n\u001b[1;32m     68\u001b[0m             \u001b[0mlgr\u001b[0m\u001b[0;34m.\u001b[0m\u001b[0menabled\u001b[0m \u001b[0;34m=\u001b[0m \u001b[0;32mFalse\u001b[0m\u001b[0;34m\u001b[0m\u001b[0;34m\u001b[0m\u001b[0m\n\u001b[1;32m     69\u001b[0m             \u001b[0;32mwith\u001b[0m \u001b[0mlgr\u001b[0m\u001b[0;34m:\u001b[0m\u001b[0;34m\u001b[0m\u001b[0;34m\u001b[0m\u001b[0m\n\u001b[0;32m---> 70\u001b[0;31m                 \u001b[0mfunc\u001b[0m \u001b[0;34m=\u001b[0m \u001b[0mtarget\u001b[0m\u001b[0;34m(\u001b[0m\u001b[0mself\u001b[0m\u001b[0;34m,\u001b[0m \u001b[0;34m*\u001b[0m\u001b[0margs\u001b[0m\u001b[0;34m,\u001b[0m \u001b[0;34m**\u001b[0m\u001b[0mkwargs\u001b[0m\u001b[0;34m)\u001b[0m\u001b[0;34m\u001b[0m\u001b[0;34m\u001b[0m\u001b[0m\n\u001b[0m\u001b[1;32m     71\u001b[0m         \u001b[0;32mexcept\u001b[0m \u001b[0mException\u001b[0m \u001b[0;32mas\u001b[0m \u001b[0me\u001b[0m\u001b[0;34m:\u001b[0m\u001b[0;34m\u001b[0m\u001b[0;34m\u001b[0m\u001b[0m\n\u001b[1;32m     72\u001b[0m             \u001b[0;32mraise\u001b[0m \u001b[0me\u001b[0m\u001b[0;34m\u001b[0m\u001b[0;34m\u001b[0m\u001b[0m\n",
            "\u001b[0;32m/usr/local/lib/python3.9/dist-packages/mercury/robust/model_tests.py\u001b[0m in \u001b[0;36mrun\u001b[0;34m(self, *args, **kwargs)\u001b[0m\n\u001b[1;32m    645\u001b[0m         \u001b[0;31m# Compare difference\u001b[0m\u001b[0;34m\u001b[0m\u001b[0;34m\u001b[0m\u001b[0m\n\u001b[1;32m    646\u001b[0m         \u001b[0;32mif\u001b[0m \u001b[0;34m(\u001b[0m\u001b[0mself\u001b[0m\u001b[0;34m.\u001b[0m\u001b[0mmetric_model\u001b[0m \u001b[0;34m-\u001b[0m \u001b[0mself\u001b[0m\u001b[0;34m.\u001b[0m\u001b[0mthreshold\u001b[0m\u001b[0;34m)\u001b[0m \u001b[0;34m<\u001b[0m \u001b[0mself\u001b[0m\u001b[0;34m.\u001b[0m\u001b[0mmetric_baseline_model\u001b[0m\u001b[0;34m:\u001b[0m\u001b[0;34m\u001b[0m\u001b[0;34m\u001b[0m\u001b[0m\n\u001b[0;32m--> 647\u001b[0;31m             raise FailedTestError(\n\u001b[0m\u001b[1;32m    648\u001b[0m                 \u001b[0;34mf\"\"\"a {baseline_name} baseline model gives an evaluation metric of {round(self.metric_baseline_model, 4)} while \"\"\"\u001b[0m\u001b[0;34m\u001b[0m\u001b[0;34m\u001b[0m\u001b[0m\n\u001b[1;32m    649\u001b[0m                 \u001b[0;34mf\"\"\"the original model gives an evaluation metric of {round(self.metric_model, 4)}. The difference is lower than \"\"\"\u001b[0m\u001b[0;34m\u001b[0m\u001b[0;34m\u001b[0m\u001b[0m\n",
            "\u001b[0;31mFailedTestError\u001b[0m: a LogisticRegression(class_weight='balanced', solver='newton-cg') baseline model gives an evaluation metric of 0.6135 while the original model gives an evaluation metric of 0.6493. The difference is lower than the threshold 0.05"
          ]
        }
      ],
      "source": [
        "from sklearn.linear_model import LogisticRegression\n",
        "\n",
        "test = ModelSimplicityChecker(\n",
        "    model = model,\n",
        "    X_train = X_train,\n",
        "    y_train = y_train,\n",
        "    X_test = X_test,\n",
        "    y_test = y_test,\n",
        "    threshold=0.05,\n",
        "    eval_fn=roc_auc_score,\n",
        "    baseline_model=LogisticRegression(solver='newton-cg', class_weight=\"balanced\"),\n",
        "    schema_custom_feature_map = custom_feature_map\n",
        ")\n",
        "test.run()"
      ]
    },
    {
      "cell_type": "code",
      "source": [
        "test.info()"
      ],
      "metadata": {
        "colab": {
          "base_uri": "https://localhost:8080/"
        },
        "id": "fpJYu1ck6cxY",
        "outputId": "58a794b8-e1fe-4738-a045-6fd77400fd0e"
      },
      "id": "fpJYu1ck6cxY",
      "execution_count": 65,
      "outputs": [
        {
          "output_type": "execute_result",
          "data": {
            "text/plain": [
              "{'metric_model': 0.6493437234160974,\n",
              " 'metric_baseline_model': 0.6135039708737562}"
            ]
          },
          "metadata": {},
          "execution_count": 65
        }
      ]
    },
    {
      "cell_type": "markdown",
      "id": "ccffb573",
      "metadata": {
        "id": "ccffb573"
      },
      "source": [
        "We see now that the LogisticRegression baseline model has closer performance to the RandomForest. As the difference is lower than the threshold, the test fails"
      ]
    },
    {
      "cell_type": "markdown",
      "id": "381e2ae5",
      "metadata": {
        "id": "381e2ae5"
      },
      "source": [
        "<a id=\"drift_resistance\"></a>\n",
        "### Drift Resistance Test\n",
        "\n",
        "The `DriftPredictionsResistanceTest` and `DriftMetricResistanceTest` can help you to check how your model is resistance to drift. While the former looks how predictions are affected by drift, the latter looks how a performance metric like the accuracy can be affected. Let's load a dataset, train a couple of models, and expose more details about each test:"
      ]
    },
    {
      "cell_type": "code",
      "execution_count": 66,
      "id": "765ff96b",
      "metadata": {
        "colab": {
          "base_uri": "https://localhost:8080/",
          "height": 206
        },
        "id": "765ff96b",
        "outputId": "73fa8588-1920-4f79-ddb5-efaa52b87e4c"
      },
      "outputs": [
        {
          "output_type": "execute_result",
          "data": {
            "text/plain": [
              "   total_bill   tip     sex smoker  day    time  size\n",
              "0       16.99  1.01  Female     No  Sun  Dinner     2\n",
              "1       10.34  1.66    Male     No  Sun  Dinner     3\n",
              "2       21.01  3.50    Male     No  Sun  Dinner     3\n",
              "3       23.68  3.31    Male     No  Sun  Dinner     2\n",
              "4       24.59  3.61  Female     No  Sun  Dinner     4"
            ],
            "text/html": [
              "\n",
              "  <div id=\"df-5d7ca52b-e03f-4784-bd36-f85f286d7810\">\n",
              "    <div class=\"colab-df-container\">\n",
              "      <div>\n",
              "<style scoped>\n",
              "    .dataframe tbody tr th:only-of-type {\n",
              "        vertical-align: middle;\n",
              "    }\n",
              "\n",
              "    .dataframe tbody tr th {\n",
              "        vertical-align: top;\n",
              "    }\n",
              "\n",
              "    .dataframe thead th {\n",
              "        text-align: right;\n",
              "    }\n",
              "</style>\n",
              "<table border=\"1\" class=\"dataframe\">\n",
              "  <thead>\n",
              "    <tr style=\"text-align: right;\">\n",
              "      <th></th>\n",
              "      <th>total_bill</th>\n",
              "      <th>tip</th>\n",
              "      <th>sex</th>\n",
              "      <th>smoker</th>\n",
              "      <th>day</th>\n",
              "      <th>time</th>\n",
              "      <th>size</th>\n",
              "    </tr>\n",
              "  </thead>\n",
              "  <tbody>\n",
              "    <tr>\n",
              "      <th>0</th>\n",
              "      <td>16.99</td>\n",
              "      <td>1.01</td>\n",
              "      <td>Female</td>\n",
              "      <td>No</td>\n",
              "      <td>Sun</td>\n",
              "      <td>Dinner</td>\n",
              "      <td>2</td>\n",
              "    </tr>\n",
              "    <tr>\n",
              "      <th>1</th>\n",
              "      <td>10.34</td>\n",
              "      <td>1.66</td>\n",
              "      <td>Male</td>\n",
              "      <td>No</td>\n",
              "      <td>Sun</td>\n",
              "      <td>Dinner</td>\n",
              "      <td>3</td>\n",
              "    </tr>\n",
              "    <tr>\n",
              "      <th>2</th>\n",
              "      <td>21.01</td>\n",
              "      <td>3.50</td>\n",
              "      <td>Male</td>\n",
              "      <td>No</td>\n",
              "      <td>Sun</td>\n",
              "      <td>Dinner</td>\n",
              "      <td>3</td>\n",
              "    </tr>\n",
              "    <tr>\n",
              "      <th>3</th>\n",
              "      <td>23.68</td>\n",
              "      <td>3.31</td>\n",
              "      <td>Male</td>\n",
              "      <td>No</td>\n",
              "      <td>Sun</td>\n",
              "      <td>Dinner</td>\n",
              "      <td>2</td>\n",
              "    </tr>\n",
              "    <tr>\n",
              "      <th>4</th>\n",
              "      <td>24.59</td>\n",
              "      <td>3.61</td>\n",
              "      <td>Female</td>\n",
              "      <td>No</td>\n",
              "      <td>Sun</td>\n",
              "      <td>Dinner</td>\n",
              "      <td>4</td>\n",
              "    </tr>\n",
              "  </tbody>\n",
              "</table>\n",
              "</div>\n",
              "      <button class=\"colab-df-convert\" onclick=\"convertToInteractive('df-5d7ca52b-e03f-4784-bd36-f85f286d7810')\"\n",
              "              title=\"Convert this dataframe to an interactive table.\"\n",
              "              style=\"display:none;\">\n",
              "        \n",
              "  <svg xmlns=\"http://www.w3.org/2000/svg\" height=\"24px\"viewBox=\"0 0 24 24\"\n",
              "       width=\"24px\">\n",
              "    <path d=\"M0 0h24v24H0V0z\" fill=\"none\"/>\n",
              "    <path d=\"M18.56 5.44l.94 2.06.94-2.06 2.06-.94-2.06-.94-.94-2.06-.94 2.06-2.06.94zm-11 1L8.5 8.5l.94-2.06 2.06-.94-2.06-.94L8.5 2.5l-.94 2.06-2.06.94zm10 10l.94 2.06.94-2.06 2.06-.94-2.06-.94-.94-2.06-.94 2.06-2.06.94z\"/><path d=\"M17.41 7.96l-1.37-1.37c-.4-.4-.92-.59-1.43-.59-.52 0-1.04.2-1.43.59L10.3 9.45l-7.72 7.72c-.78.78-.78 2.05 0 2.83L4 21.41c.39.39.9.59 1.41.59.51 0 1.02-.2 1.41-.59l7.78-7.78 2.81-2.81c.8-.78.8-2.07 0-2.86zM5.41 20L4 18.59l7.72-7.72 1.47 1.35L5.41 20z\"/>\n",
              "  </svg>\n",
              "      </button>\n",
              "      \n",
              "  <style>\n",
              "    .colab-df-container {\n",
              "      display:flex;\n",
              "      flex-wrap:wrap;\n",
              "      gap: 12px;\n",
              "    }\n",
              "\n",
              "    .colab-df-convert {\n",
              "      background-color: #E8F0FE;\n",
              "      border: none;\n",
              "      border-radius: 50%;\n",
              "      cursor: pointer;\n",
              "      display: none;\n",
              "      fill: #1967D2;\n",
              "      height: 32px;\n",
              "      padding: 0 0 0 0;\n",
              "      width: 32px;\n",
              "    }\n",
              "\n",
              "    .colab-df-convert:hover {\n",
              "      background-color: #E2EBFA;\n",
              "      box-shadow: 0px 1px 2px rgba(60, 64, 67, 0.3), 0px 1px 3px 1px rgba(60, 64, 67, 0.15);\n",
              "      fill: #174EA6;\n",
              "    }\n",
              "\n",
              "    [theme=dark] .colab-df-convert {\n",
              "      background-color: #3B4455;\n",
              "      fill: #D2E3FC;\n",
              "    }\n",
              "\n",
              "    [theme=dark] .colab-df-convert:hover {\n",
              "      background-color: #434B5C;\n",
              "      box-shadow: 0px 1px 3px 1px rgba(0, 0, 0, 0.15);\n",
              "      filter: drop-shadow(0px 1px 2px rgba(0, 0, 0, 0.3));\n",
              "      fill: #FFFFFF;\n",
              "    }\n",
              "  </style>\n",
              "\n",
              "      <script>\n",
              "        const buttonEl =\n",
              "          document.querySelector('#df-5d7ca52b-e03f-4784-bd36-f85f286d7810 button.colab-df-convert');\n",
              "        buttonEl.style.display =\n",
              "          google.colab.kernel.accessAllowed ? 'block' : 'none';\n",
              "\n",
              "        async function convertToInteractive(key) {\n",
              "          const element = document.querySelector('#df-5d7ca52b-e03f-4784-bd36-f85f286d7810');\n",
              "          const dataTable =\n",
              "            await google.colab.kernel.invokeFunction('convertToInteractive',\n",
              "                                                     [key], {});\n",
              "          if (!dataTable) return;\n",
              "\n",
              "          const docLinkHtml = 'Like what you see? Visit the ' +\n",
              "            '<a target=\"_blank\" href=https://colab.research.google.com/notebooks/data_table.ipynb>data table notebook</a>'\n",
              "            + ' to learn more about interactive tables.';\n",
              "          element.innerHTML = '';\n",
              "          dataTable['output_type'] = 'display_data';\n",
              "          await google.colab.output.renderOutput(dataTable, element);\n",
              "          const docLink = document.createElement('div');\n",
              "          docLink.innerHTML = docLinkHtml;\n",
              "          element.appendChild(docLink);\n",
              "        }\n",
              "      </script>\n",
              "    </div>\n",
              "  </div>\n",
              "  "
            ]
          },
          "metadata": {},
          "execution_count": 66
        }
      ],
      "source": [
        "tips = sns.load_dataset(\"tips\")\n",
        "tips['sex'] = tips['sex'].astype(str)\n",
        "tips['smoker'] = tips['smoker'].astype(str)\n",
        "tips['day'] = tips['day'].astype(str)\n",
        "tips['time'] = tips['time'].astype(str)\n",
        "tips.head()"
      ]
    },
    {
      "cell_type": "code",
      "execution_count": 67,
      "id": "039dd917",
      "metadata": {
        "id": "039dd917"
      },
      "outputs": [],
      "source": [
        "num_feats = ['total_bill']\n",
        "cat_feats = ['sex', 'day', 'time']\n",
        "target = 'tip'"
      ]
    },
    {
      "cell_type": "markdown",
      "id": "8f6962ca",
      "metadata": {
        "id": "8f6962ca"
      },
      "source": [
        "Let's create a function to create a pipeline for a regression model. We can specifiy between a linear regression or a random forest depending on which value we specify in the parameter `model_type`"
      ]
    },
    {
      "cell_type": "code",
      "execution_count": 68,
      "id": "0705e1d8",
      "metadata": {
        "id": "0705e1d8"
      },
      "outputs": [],
      "source": [
        "from sklearn.model_selection import train_test_split\n",
        "from sklearn.preprocessing import StandardScaler, OneHotEncoder\n",
        "from sklearn.linear_model import LinearRegression\n",
        "from sklearn.ensemble import RandomForestRegressor\n",
        "from sklearn.pipeline import Pipeline\n",
        "from sklearn.compose import ColumnTransformer\n",
        "from sklearn.metrics import mean_absolute_error\n",
        "\n",
        "def create_regression_pipeline(num_feats=None, cat_feats=None, random_state=None, model_type=\"rf\"):\n",
        "\n",
        "    numeric_transformer = Pipeline(steps=[(\"scaler\", StandardScaler())])\n",
        "    categorical_transformer = OneHotEncoder(handle_unknown=\"ignore\")\n",
        "\n",
        "    preprocessor = ColumnTransformer(\n",
        "        transformers=[\n",
        "            (\"num\", numeric_transformer, num_feats),\n",
        "            (\"cat\", categorical_transformer, cat_feats),\n",
        "        ], remainder='drop'\n",
        "    )\n",
        "    \n",
        "    if model_type == \"rf\":\n",
        "        model =RandomForestRegressor(random_state=random_state)\n",
        "    else:\n",
        "        model = LinearRegression()\n",
        "        \n",
        "\n",
        "    pipeline = Pipeline(\n",
        "        steps=[(\"preprocessor\", preprocessor), (\"classifier\", model)]\n",
        "    )\n",
        "    \n",
        "    return pipeline"
      ]
    },
    {
      "cell_type": "markdown",
      "id": "c60912e0",
      "metadata": {
        "id": "c60912e0"
      },
      "source": [
        "Train Linear Regression"
      ]
    },
    {
      "cell_type": "code",
      "execution_count": 69,
      "id": "56a07e26",
      "metadata": {
        "colab": {
          "base_uri": "https://localhost:8080/"
        },
        "id": "56a07e26",
        "outputId": "7bead0ab-f93d-4d33-debf-63c33c14fd2d"
      },
      "outputs": [
        {
          "output_type": "stream",
          "name": "stdout",
          "text": [
            "0.7384542083219197\n"
          ]
        }
      ],
      "source": [
        "pipeline_lr = create_regression_pipeline(num_feats=num_feats, cat_feats=cat_feats, model_type=\"lr\")\n",
        "pipeline_lr = pipeline_lr.fit(tips[cat_feats + num_feats], tips[target])\n",
        "y_hat_test_lr = pipeline_lr.predict(tips[cat_feats + num_feats])\n",
        "print(mean_absolute_error(tips[target], y_hat_test_lr))"
      ]
    },
    {
      "cell_type": "markdown",
      "id": "fbc767c5",
      "metadata": {
        "id": "fbc767c5"
      },
      "source": [
        "Train Random Forest Regressor"
      ]
    },
    {
      "cell_type": "code",
      "execution_count": 70,
      "id": "42b73928",
      "metadata": {
        "colab": {
          "base_uri": "https://localhost:8080/"
        },
        "id": "42b73928",
        "outputId": "83b8954e-5e5f-4b5a-efbc-b6002a109a3a"
      },
      "outputs": [
        {
          "output_type": "stream",
          "name": "stdout",
          "text": [
            "0.300339480874317\n"
          ]
        }
      ],
      "source": [
        "pipeline_rf = create_regression_pipeline(num_feats=num_feats, cat_feats=cat_feats, model_type=\"rf\")\n",
        "pipeline_rf = pipeline_rf.fit(tips[cat_feats + num_feats], tips[target])\n",
        "y_hat_test_rf = pipeline_rf.predict(tips[cat_feats + num_feats])\n",
        "print(mean_absolute_error(tips[target], y_hat_test_rf))"
      ]
    },
    {
      "cell_type": "markdown",
      "id": "e7e7e82b",
      "metadata": {
        "id": "e7e7e82b"
      },
      "source": [
        "<b> Metric Drift Resistance </b>\n",
        "\n",
        "The `DriftMetricResistanceTest` looks if when applying drift to a dataset a metric is affected more than a `tolerance`. For example, in the regression case, it looks (by default) if the mean absolute error diverges more than the specified `tolerance`. We can specify our own performance metric by passing a function in `eval` paramater. In that case, the interface of the function must be `eval_fn(y_true, y_hat)`.\n",
        "\n",
        "The drift that is applied to the dataset is controlled by the `drift_type` and `drift_args` arguments. In the following example, we introduce outliers in the dataset by setting the value `1e5` to half of the points of the dataset. You can check [here](https://platform.bbva.com/advanced-analytics/tech-doc/mercury/latest/mercury-contrib/reference/simulation/index.html#mercury.contrib.simulation.drift_simulation) the documentation of the methods to generate drift ( the `BatchDriftGenerator` object).\n",
        "\n",
        "Let's first execute it for the Linear Regression Model"
      ]
    },
    {
      "cell_type": "code",
      "execution_count": 71,
      "id": "8cecd373",
      "metadata": {
        "colab": {
          "base_uri": "https://localhost:8080/",
          "height": 353
        },
        "id": "8cecd373",
        "outputId": "394be029-217d-4ce3-8cd7-bc8b1abca222"
      },
      "outputs": [
        {
          "output_type": "error",
          "ename": "FailedTestError",
          "evalue": "ignored",
          "traceback": [
            "\u001b[0;31m---------------------------------------------------------------------------\u001b[0m",
            "\u001b[0;31mFailedTestError\u001b[0m                           Traceback (most recent call last)",
            "\u001b[0;32m<ipython-input-71-3555ddb60dee>\u001b[0m in \u001b[0;36m<cell line: 16>\u001b[0;34m()\u001b[0m\n\u001b[1;32m     14\u001b[0m     \u001b[0mtolerance\u001b[0m \u001b[0;34m=\u001b[0m \u001b[0;36m5\u001b[0m\u001b[0;34m\u001b[0m\u001b[0;34m\u001b[0m\u001b[0m\n\u001b[1;32m     15\u001b[0m )\n\u001b[0;32m---> 16\u001b[0;31m \u001b[0mtest\u001b[0m\u001b[0;34m.\u001b[0m\u001b[0mrun\u001b[0m\u001b[0;34m(\u001b[0m\u001b[0;34m)\u001b[0m\u001b[0;34m\u001b[0m\u001b[0;34m\u001b[0m\u001b[0m\n\u001b[0m",
            "\u001b[0;32m/usr/local/lib/python3.9/dist-packages/mercury/insight/decorators.py\u001b[0m in \u001b[0;36mwrapped\u001b[0;34m(self, *args, **kwargs)\u001b[0m\n\u001b[1;32m     70\u001b[0m                 \u001b[0mfunc\u001b[0m \u001b[0;34m=\u001b[0m \u001b[0mtarget\u001b[0m\u001b[0;34m(\u001b[0m\u001b[0mself\u001b[0m\u001b[0;34m,\u001b[0m \u001b[0;34m*\u001b[0m\u001b[0margs\u001b[0m\u001b[0;34m,\u001b[0m \u001b[0;34m**\u001b[0m\u001b[0mkwargs\u001b[0m\u001b[0;34m)\u001b[0m\u001b[0;34m\u001b[0m\u001b[0;34m\u001b[0m\u001b[0m\n\u001b[1;32m     71\u001b[0m         \u001b[0;32mexcept\u001b[0m \u001b[0mException\u001b[0m \u001b[0;32mas\u001b[0m \u001b[0me\u001b[0m\u001b[0;34m:\u001b[0m\u001b[0;34m\u001b[0m\u001b[0;34m\u001b[0m\u001b[0m\n\u001b[0;32m---> 72\u001b[0;31m             \u001b[0;32mraise\u001b[0m \u001b[0me\u001b[0m\u001b[0;34m\u001b[0m\u001b[0;34m\u001b[0m\u001b[0m\n\u001b[0m\u001b[1;32m     73\u001b[0m         \u001b[0;32mfinally\u001b[0m\u001b[0;34m:\u001b[0m\u001b[0;34m\u001b[0m\u001b[0;34m\u001b[0m\u001b[0m\n\u001b[1;32m     74\u001b[0m             \u001b[0;31m# Re-enable the logger\u001b[0m\u001b[0;34m\u001b[0m\u001b[0;34m\u001b[0m\u001b[0m\n",
            "\u001b[0;32m/usr/local/lib/python3.9/dist-packages/mercury/insight/decorators.py\u001b[0m in \u001b[0;36mwrapped\u001b[0;34m(self, *args, **kwargs)\u001b[0m\n\u001b[1;32m     68\u001b[0m             \u001b[0mlgr\u001b[0m\u001b[0;34m.\u001b[0m\u001b[0menabled\u001b[0m \u001b[0;34m=\u001b[0m \u001b[0;32mFalse\u001b[0m\u001b[0;34m\u001b[0m\u001b[0;34m\u001b[0m\u001b[0m\n\u001b[1;32m     69\u001b[0m             \u001b[0;32mwith\u001b[0m \u001b[0mlgr\u001b[0m\u001b[0;34m:\u001b[0m\u001b[0;34m\u001b[0m\u001b[0;34m\u001b[0m\u001b[0m\n\u001b[0;32m---> 70\u001b[0;31m                 \u001b[0mfunc\u001b[0m \u001b[0;34m=\u001b[0m \u001b[0mtarget\u001b[0m\u001b[0;34m(\u001b[0m\u001b[0mself\u001b[0m\u001b[0;34m,\u001b[0m \u001b[0;34m*\u001b[0m\u001b[0margs\u001b[0m\u001b[0;34m,\u001b[0m \u001b[0;34m**\u001b[0m\u001b[0mkwargs\u001b[0m\u001b[0;34m)\u001b[0m\u001b[0;34m\u001b[0m\u001b[0;34m\u001b[0m\u001b[0m\n\u001b[0m\u001b[1;32m     71\u001b[0m         \u001b[0;32mexcept\u001b[0m \u001b[0mException\u001b[0m \u001b[0;32mas\u001b[0m \u001b[0me\u001b[0m\u001b[0;34m:\u001b[0m\u001b[0;34m\u001b[0m\u001b[0;34m\u001b[0m\u001b[0m\n\u001b[1;32m     72\u001b[0m             \u001b[0;32mraise\u001b[0m \u001b[0me\u001b[0m\u001b[0;34m\u001b[0m\u001b[0;34m\u001b[0m\u001b[0m\n",
            "\u001b[0;32m/usr/local/lib/python3.9/dist-packages/mercury/robust/model_tests.py\u001b[0m in \u001b[0;36mrun\u001b[0;34m(self, *args, **kwargs)\u001b[0m\n\u001b[1;32m    877\u001b[0m         \u001b[0mself\u001b[0m\u001b[0;34m.\u001b[0m\u001b[0mmetric_diff\u001b[0m \u001b[0;34m=\u001b[0m \u001b[0mself\u001b[0m\u001b[0;34m.\u001b[0m\u001b[0m_evaluate_performance_degradation\u001b[0m\u001b[0;34m(\u001b[0m\u001b[0mdrifted_Y\u001b[0m\u001b[0;34m)\u001b[0m\u001b[0;34m\u001b[0m\u001b[0;34m\u001b[0m\u001b[0m\n\u001b[1;32m    878\u001b[0m         \u001b[0;32mif\u001b[0m \u001b[0mself\u001b[0m\u001b[0;34m.\u001b[0m\u001b[0mmetric_diff\u001b[0m \u001b[0;34m>\u001b[0m \u001b[0mself\u001b[0m\u001b[0;34m.\u001b[0m\u001b[0mtolerance\u001b[0m\u001b[0;34m:\u001b[0m\u001b[0;34m\u001b[0m\u001b[0;34m\u001b[0m\u001b[0m\n\u001b[0;32m--> 879\u001b[0;31m             raise FailedTestError(\n\u001b[0m\u001b[1;32m    880\u001b[0m                 \u001b[0;34m\"Test failed. The metric of drifted dataset has changed above tolerance = %.3f (diff = %.3f)\"\u001b[0m\u001b[0;34m\u001b[0m\u001b[0;34m\u001b[0m\u001b[0m\n\u001b[1;32m    881\u001b[0m                 \u001b[0;34m%\u001b[0m \u001b[0;34m(\u001b[0m\u001b[0mself\u001b[0m\u001b[0;34m.\u001b[0m\u001b[0mtolerance\u001b[0m\u001b[0;34m,\u001b[0m \u001b[0mself\u001b[0m\u001b[0;34m.\u001b[0m\u001b[0mmetric_diff\u001b[0m\u001b[0;34m)\u001b[0m\u001b[0;34m\u001b[0m\u001b[0;34m\u001b[0m\u001b[0m\n",
            "\u001b[0;31mFailedTestError\u001b[0m: Test failed. The metric of drifted dataset has changed above tolerance = 5.000 (diff = 5252.338)"
          ]
        }
      ],
      "source": [
        "from mercury.robust.model_tests import DriftMetricResistanceTest\n",
        "\n",
        "drift_args = {\n",
        "    'cols' : ['total_bill'], \n",
        "    'method' : 'value',\n",
        "    'method_params': {'value': 1e5, 'proportion_outliers': 0.5}\n",
        "}\n",
        "test = DriftMetricResistanceTest(\n",
        "    model = pipeline_lr, \n",
        "    X = tips[cat_feats + num_feats], \n",
        "    Y = tips[\"tip\"].values,\n",
        "    drift_type = 'outliers_drift', \n",
        "    drift_args = drift_args,\n",
        "    tolerance = 5\n",
        ")\n",
        "test.run()"
      ]
    },
    {
      "cell_type": "markdown",
      "id": "6d44d0dc",
      "metadata": {
        "id": "6d44d0dc"
      },
      "source": [
        "We see that the test fails. The mean squared absolute changes a lot ! We can check this info by calling the `info()` method"
      ]
    },
    {
      "cell_type": "code",
      "execution_count": 72,
      "id": "ed121302",
      "metadata": {
        "colab": {
          "base_uri": "https://localhost:8080/"
        },
        "id": "ed121302",
        "outputId": "af86a976-0bb3-4496-8b87-6292c9231a89"
      },
      "outputs": [
        {
          "output_type": "execute_result",
          "data": {
            "text/plain": [
              "{'metric_no_drifted': 0.7384542083219197,\n",
              " 'metric_drifted': 5253.076162148343,\n",
              " 'metric_diff': 5252.337707940022}"
            ]
          },
          "metadata": {},
          "execution_count": 72
        }
      ],
      "source": [
        "test.info()"
      ]
    },
    {
      "cell_type": "markdown",
      "id": "ef2e6ac4",
      "metadata": {
        "id": "ef2e6ac4"
      },
      "source": [
        "Now, let's try with the Random Forest:"
      ]
    },
    {
      "cell_type": "code",
      "execution_count": 73,
      "id": "870edc5c",
      "metadata": {
        "id": "870edc5c"
      },
      "outputs": [],
      "source": [
        "drift_args = {\n",
        "    'cols' : ['total_bill'], \n",
        "    'method' : 'value',\n",
        "    'method_params': {'value': 1e5}\n",
        "}\n",
        "test = DriftMetricResistanceTest(\n",
        "    model = pipeline_rf, \n",
        "    X = tips[cat_feats + num_feats], \n",
        "    drift_type = 'outliers_drift', \n",
        "    drift_args = drift_args,\n",
        "    Y=tips[\"tip\"].values,\n",
        "    tolerance = 5\n",
        ")\n",
        "test.run()"
      ]
    },
    {
      "cell_type": "code",
      "execution_count": 74,
      "id": "fb14d668",
      "metadata": {
        "colab": {
          "base_uri": "https://localhost:8080/"
        },
        "id": "fb14d668",
        "outputId": "3c948791-afee-4aef-9cb2-b263a66c5a66"
      },
      "outputs": [
        {
          "output_type": "execute_result",
          "data": {
            "text/plain": [
              "{'metric_no_drifted': 0.300339480874317,\n",
              " 'metric_drifted': 3.16648456284153,\n",
              " 'metric_diff': 2.866145081967213}"
            ]
          },
          "metadata": {},
          "execution_count": 74
        }
      ],
      "source": [
        "test.info()"
      ]
    },
    {
      "cell_type": "markdown",
      "id": "ccc97b5b",
      "metadata": {
        "id": "ccc97b5b"
      },
      "source": [
        "We see that now the test passes according to the tolerance specified. As expected, the Random Forest model is less afected by the outliers"
      ]
    },
    {
      "cell_type": "markdown",
      "id": "910bbcef",
      "metadata": {
        "id": "910bbcef"
      },
      "source": [
        "<b> Prediction Drift Resitance </b>\n",
        "\n",
        "Let's try now the `DriftPredictionsResistanceTest`, which looks if when applying drift to a dataset the difference in the predictions are affected more than a tolerance. For example, in the regression case, it looks (by default) the sum of the squared differences of the predictions in the non-drifted data and the drifted data. As in the previous test, we can also specify a function to specify how to calculate the difference between predictions. In that case, the inferface of the function must be `eval_fn(y_hat, y_hat_drifted)`, where `y_hat` will be the predictions of the non-drifted dataset and `y_hat_drifted` the preditions of the drifted dataset.\n",
        "\n",
        "As before, the applied drift is controlled by the `drift_type` and `drift_args` arguments. Let's apply shift drift on  `total_bill` column in this case:"
      ]
    },
    {
      "cell_type": "code",
      "execution_count": 75,
      "id": "c9745ce2",
      "metadata": {
        "colab": {
          "base_uri": "https://localhost:8080/",
          "height": 353
        },
        "id": "c9745ce2",
        "outputId": "2212810a-f30d-4e54-c594-c386833555a7"
      },
      "outputs": [
        {
          "output_type": "error",
          "ename": "FailedTestError",
          "evalue": "ignored",
          "traceback": [
            "\u001b[0;31m---------------------------------------------------------------------------\u001b[0m",
            "\u001b[0;31mFailedTestError\u001b[0m                           Traceback (most recent call last)",
            "\u001b[0;32m<ipython-input-75-4911c70b2bbe>\u001b[0m in \u001b[0;36m<cell line: 14>\u001b[0;34m()\u001b[0m\n\u001b[1;32m     12\u001b[0m     \u001b[0mtolerance\u001b[0m \u001b[0;34m=\u001b[0m \u001b[0;36m5\u001b[0m\u001b[0;34m\u001b[0m\u001b[0;34m\u001b[0m\u001b[0m\n\u001b[1;32m     13\u001b[0m )\n\u001b[0;32m---> 14\u001b[0;31m \u001b[0mtest\u001b[0m\u001b[0;34m.\u001b[0m\u001b[0mrun\u001b[0m\u001b[0;34m(\u001b[0m\u001b[0;34m)\u001b[0m\u001b[0;34m\u001b[0m\u001b[0;34m\u001b[0m\u001b[0m\n\u001b[0m",
            "\u001b[0;32m/usr/local/lib/python3.9/dist-packages/mercury/insight/decorators.py\u001b[0m in \u001b[0;36mwrapped\u001b[0;34m(self, *args, **kwargs)\u001b[0m\n\u001b[1;32m     70\u001b[0m                 \u001b[0mfunc\u001b[0m \u001b[0;34m=\u001b[0m \u001b[0mtarget\u001b[0m\u001b[0;34m(\u001b[0m\u001b[0mself\u001b[0m\u001b[0;34m,\u001b[0m \u001b[0;34m*\u001b[0m\u001b[0margs\u001b[0m\u001b[0;34m,\u001b[0m \u001b[0;34m**\u001b[0m\u001b[0mkwargs\u001b[0m\u001b[0;34m)\u001b[0m\u001b[0;34m\u001b[0m\u001b[0;34m\u001b[0m\u001b[0m\n\u001b[1;32m     71\u001b[0m         \u001b[0;32mexcept\u001b[0m \u001b[0mException\u001b[0m \u001b[0;32mas\u001b[0m \u001b[0me\u001b[0m\u001b[0;34m:\u001b[0m\u001b[0;34m\u001b[0m\u001b[0;34m\u001b[0m\u001b[0m\n\u001b[0;32m---> 72\u001b[0;31m             \u001b[0;32mraise\u001b[0m \u001b[0me\u001b[0m\u001b[0;34m\u001b[0m\u001b[0;34m\u001b[0m\u001b[0m\n\u001b[0m\u001b[1;32m     73\u001b[0m         \u001b[0;32mfinally\u001b[0m\u001b[0;34m:\u001b[0m\u001b[0;34m\u001b[0m\u001b[0;34m\u001b[0m\u001b[0m\n\u001b[1;32m     74\u001b[0m             \u001b[0;31m# Re-enable the logger\u001b[0m\u001b[0;34m\u001b[0m\u001b[0;34m\u001b[0m\u001b[0m\n",
            "\u001b[0;32m/usr/local/lib/python3.9/dist-packages/mercury/insight/decorators.py\u001b[0m in \u001b[0;36mwrapped\u001b[0;34m(self, *args, **kwargs)\u001b[0m\n\u001b[1;32m     68\u001b[0m             \u001b[0mlgr\u001b[0m\u001b[0;34m.\u001b[0m\u001b[0menabled\u001b[0m \u001b[0;34m=\u001b[0m \u001b[0;32mFalse\u001b[0m\u001b[0;34m\u001b[0m\u001b[0;34m\u001b[0m\u001b[0m\n\u001b[1;32m     69\u001b[0m             \u001b[0;32mwith\u001b[0m \u001b[0mlgr\u001b[0m\u001b[0;34m:\u001b[0m\u001b[0;34m\u001b[0m\u001b[0;34m\u001b[0m\u001b[0m\n\u001b[0;32m---> 70\u001b[0;31m                 \u001b[0mfunc\u001b[0m \u001b[0;34m=\u001b[0m \u001b[0mtarget\u001b[0m\u001b[0;34m(\u001b[0m\u001b[0mself\u001b[0m\u001b[0;34m,\u001b[0m \u001b[0;34m*\u001b[0m\u001b[0margs\u001b[0m\u001b[0;34m,\u001b[0m \u001b[0;34m**\u001b[0m\u001b[0mkwargs\u001b[0m\u001b[0;34m)\u001b[0m\u001b[0;34m\u001b[0m\u001b[0;34m\u001b[0m\u001b[0m\n\u001b[0m\u001b[1;32m     71\u001b[0m         \u001b[0;32mexcept\u001b[0m \u001b[0mException\u001b[0m \u001b[0;32mas\u001b[0m \u001b[0me\u001b[0m\u001b[0;34m:\u001b[0m\u001b[0;34m\u001b[0m\u001b[0;34m\u001b[0m\u001b[0m\n\u001b[1;32m     72\u001b[0m             \u001b[0;32mraise\u001b[0m \u001b[0me\u001b[0m\u001b[0;34m\u001b[0m\u001b[0;34m\u001b[0m\u001b[0m\n",
            "\u001b[0;32m/usr/local/lib/python3.9/dist-packages/mercury/robust/model_tests.py\u001b[0m in \u001b[0;36mrun\u001b[0;34m(self, *args, **kwargs)\u001b[0m\n\u001b[1;32m    770\u001b[0m \u001b[0;34m\u001b[0m\u001b[0m\n\u001b[1;32m    771\u001b[0m         \u001b[0;32mif\u001b[0m \u001b[0mself\u001b[0m\u001b[0;34m.\u001b[0m\u001b[0mloss\u001b[0m \u001b[0;34m>\u001b[0m \u001b[0mself\u001b[0m\u001b[0;34m.\u001b[0m\u001b[0mtolerance\u001b[0m\u001b[0;34m:\u001b[0m\u001b[0;34m\u001b[0m\u001b[0;34m\u001b[0m\u001b[0m\n\u001b[0;32m--> 772\u001b[0;31m             raise FailedTestError(\n\u001b[0m\u001b[1;32m    773\u001b[0m                 \u001b[0;34m\"Test failed. Prediction loss drifted above tolerance = %.3f (loss = %.3f)\"\u001b[0m\u001b[0;34m\u001b[0m\u001b[0;34m\u001b[0m\u001b[0m\n\u001b[1;32m    774\u001b[0m                 \u001b[0;34m%\u001b[0m \u001b[0;34m(\u001b[0m\u001b[0mself\u001b[0m\u001b[0;34m.\u001b[0m\u001b[0mtolerance\u001b[0m\u001b[0;34m,\u001b[0m \u001b[0mself\u001b[0m\u001b[0;34m.\u001b[0m\u001b[0mloss\u001b[0m\u001b[0;34m)\u001b[0m\u001b[0;34m\u001b[0m\u001b[0;34m\u001b[0m\u001b[0m\n",
            "\u001b[0;31mFailedTestError\u001b[0m: Test failed. Prediction loss drifted above tolerance = 5.000 (loss = 26939.199)"
          ]
        }
      ],
      "source": [
        "from mercury.robust.model_tests import DriftPredictionsResistanceTest\n",
        "\n",
        "drift_args = {\n",
        "    'cols' : ['total_bill'], \n",
        "    'force' : 100.\n",
        "}\n",
        "test = DriftPredictionsResistanceTest(\n",
        "    model = pipeline_lr, \n",
        "    X = tips[cat_feats + num_feats], \n",
        "    drift_type = 'shift_drift', \n",
        "    drift_args = drift_args,\n",
        "    tolerance = 5\n",
        ")\n",
        "test.run()"
      ]
    },
    {
      "cell_type": "markdown",
      "id": "54029b79",
      "metadata": {
        "id": "54029b79"
      },
      "source": [
        "Now to the Random Forest"
      ]
    },
    {
      "cell_type": "code",
      "execution_count": 76,
      "id": "d1773b54",
      "metadata": {
        "colab": {
          "base_uri": "https://localhost:8080/",
          "height": 353
        },
        "id": "d1773b54",
        "outputId": "75bfc29f-784a-4aeb-fea1-97421ffd9cc1"
      },
      "outputs": [
        {
          "output_type": "error",
          "ename": "FailedTestError",
          "evalue": "ignored",
          "traceback": [
            "\u001b[0;31m---------------------------------------------------------------------------\u001b[0m",
            "\u001b[0;31mFailedTestError\u001b[0m                           Traceback (most recent call last)",
            "\u001b[0;32m<ipython-input-76-c931929eb927>\u001b[0m in \u001b[0;36m<cell line: 12>\u001b[0;34m()\u001b[0m\n\u001b[1;32m     10\u001b[0m     \u001b[0mtolerance\u001b[0m \u001b[0;34m=\u001b[0m \u001b[0;36m5\u001b[0m\u001b[0;34m\u001b[0m\u001b[0;34m\u001b[0m\u001b[0m\n\u001b[1;32m     11\u001b[0m )\n\u001b[0;32m---> 12\u001b[0;31m \u001b[0mtest\u001b[0m\u001b[0;34m.\u001b[0m\u001b[0mrun\u001b[0m\u001b[0;34m(\u001b[0m\u001b[0;34m)\u001b[0m\u001b[0;34m\u001b[0m\u001b[0;34m\u001b[0m\u001b[0m\n\u001b[0m",
            "\u001b[0;32m/usr/local/lib/python3.9/dist-packages/mercury/insight/decorators.py\u001b[0m in \u001b[0;36mwrapped\u001b[0;34m(self, *args, **kwargs)\u001b[0m\n\u001b[1;32m     70\u001b[0m                 \u001b[0mfunc\u001b[0m \u001b[0;34m=\u001b[0m \u001b[0mtarget\u001b[0m\u001b[0;34m(\u001b[0m\u001b[0mself\u001b[0m\u001b[0;34m,\u001b[0m \u001b[0;34m*\u001b[0m\u001b[0margs\u001b[0m\u001b[0;34m,\u001b[0m \u001b[0;34m**\u001b[0m\u001b[0mkwargs\u001b[0m\u001b[0;34m)\u001b[0m\u001b[0;34m\u001b[0m\u001b[0;34m\u001b[0m\u001b[0m\n\u001b[1;32m     71\u001b[0m         \u001b[0;32mexcept\u001b[0m \u001b[0mException\u001b[0m \u001b[0;32mas\u001b[0m \u001b[0me\u001b[0m\u001b[0;34m:\u001b[0m\u001b[0;34m\u001b[0m\u001b[0;34m\u001b[0m\u001b[0m\n\u001b[0;32m---> 72\u001b[0;31m             \u001b[0;32mraise\u001b[0m \u001b[0me\u001b[0m\u001b[0;34m\u001b[0m\u001b[0;34m\u001b[0m\u001b[0m\n\u001b[0m\u001b[1;32m     73\u001b[0m         \u001b[0;32mfinally\u001b[0m\u001b[0;34m:\u001b[0m\u001b[0;34m\u001b[0m\u001b[0;34m\u001b[0m\u001b[0m\n\u001b[1;32m     74\u001b[0m             \u001b[0;31m# Re-enable the logger\u001b[0m\u001b[0;34m\u001b[0m\u001b[0;34m\u001b[0m\u001b[0m\n",
            "\u001b[0;32m/usr/local/lib/python3.9/dist-packages/mercury/insight/decorators.py\u001b[0m in \u001b[0;36mwrapped\u001b[0;34m(self, *args, **kwargs)\u001b[0m\n\u001b[1;32m     68\u001b[0m             \u001b[0mlgr\u001b[0m\u001b[0;34m.\u001b[0m\u001b[0menabled\u001b[0m \u001b[0;34m=\u001b[0m \u001b[0;32mFalse\u001b[0m\u001b[0;34m\u001b[0m\u001b[0;34m\u001b[0m\u001b[0m\n\u001b[1;32m     69\u001b[0m             \u001b[0;32mwith\u001b[0m \u001b[0mlgr\u001b[0m\u001b[0;34m:\u001b[0m\u001b[0;34m\u001b[0m\u001b[0;34m\u001b[0m\u001b[0m\n\u001b[0;32m---> 70\u001b[0;31m                 \u001b[0mfunc\u001b[0m \u001b[0;34m=\u001b[0m \u001b[0mtarget\u001b[0m\u001b[0;34m(\u001b[0m\u001b[0mself\u001b[0m\u001b[0;34m,\u001b[0m \u001b[0;34m*\u001b[0m\u001b[0margs\u001b[0m\u001b[0;34m,\u001b[0m \u001b[0;34m**\u001b[0m\u001b[0mkwargs\u001b[0m\u001b[0;34m)\u001b[0m\u001b[0;34m\u001b[0m\u001b[0;34m\u001b[0m\u001b[0m\n\u001b[0m\u001b[1;32m     71\u001b[0m         \u001b[0;32mexcept\u001b[0m \u001b[0mException\u001b[0m \u001b[0;32mas\u001b[0m \u001b[0me\u001b[0m\u001b[0;34m:\u001b[0m\u001b[0;34m\u001b[0m\u001b[0;34m\u001b[0m\u001b[0m\n\u001b[1;32m     72\u001b[0m             \u001b[0;32mraise\u001b[0m \u001b[0me\u001b[0m\u001b[0;34m\u001b[0m\u001b[0;34m\u001b[0m\u001b[0m\n",
            "\u001b[0;32m/usr/local/lib/python3.9/dist-packages/mercury/robust/model_tests.py\u001b[0m in \u001b[0;36mrun\u001b[0;34m(self, *args, **kwargs)\u001b[0m\n\u001b[1;32m    770\u001b[0m \u001b[0;34m\u001b[0m\u001b[0m\n\u001b[1;32m    771\u001b[0m         \u001b[0;32mif\u001b[0m \u001b[0mself\u001b[0m\u001b[0;34m.\u001b[0m\u001b[0mloss\u001b[0m \u001b[0;34m>\u001b[0m \u001b[0mself\u001b[0m\u001b[0;34m.\u001b[0m\u001b[0mtolerance\u001b[0m\u001b[0;34m:\u001b[0m\u001b[0;34m\u001b[0m\u001b[0;34m\u001b[0m\u001b[0m\n\u001b[0;32m--> 772\u001b[0;31m             raise FailedTestError(\n\u001b[0m\u001b[1;32m    773\u001b[0m                 \u001b[0;34m\"Test failed. Prediction loss drifted above tolerance = %.3f (loss = %.3f)\"\u001b[0m\u001b[0;34m\u001b[0m\u001b[0;34m\u001b[0m\u001b[0m\n\u001b[1;32m    774\u001b[0m                 \u001b[0;34m%\u001b[0m \u001b[0;34m(\u001b[0m\u001b[0mself\u001b[0m\u001b[0;34m.\u001b[0m\u001b[0mtolerance\u001b[0m\u001b[0;34m,\u001b[0m \u001b[0mself\u001b[0m\u001b[0;34m.\u001b[0m\u001b[0mloss\u001b[0m\u001b[0;34m)\u001b[0m\u001b[0;34m\u001b[0m\u001b[0;34m\u001b[0m\u001b[0m\n",
            "\u001b[0;31mFailedTestError\u001b[0m: Test failed. Prediction loss drifted above tolerance = 5.000 (loss = 9553.485)"
          ]
        }
      ],
      "source": [
        "drift_args = {\n",
        "    'cols' : ['total_bill'], \n",
        "    'force' : 100.\n",
        "}\n",
        "test = DriftPredictionsResistanceTest(\n",
        "    model = pipeline_rf, \n",
        "    X = tips[cat_feats + num_feats], \n",
        "    drift_type = 'shift_drift', \n",
        "    drift_args = drift_args,\n",
        "    tolerance = 5\n",
        ")\n",
        "test.run()"
      ]
    },
    {
      "cell_type": "markdown",
      "id": "572fcebd",
      "metadata": {
        "id": "572fcebd"
      },
      "source": [
        "We see that both models fail to pass the test in this case"
      ]
    },
    {
      "cell_type": "markdown",
      "id": "a9b64b9f",
      "metadata": {
        "id": "a9b64b9f"
      },
      "source": [
        "<a id=\"sample_leaking\"></a>\n",
        "### Sample Leaking Test\n",
        "\n",
        "The `SampleLeakingTest` looks if our test set contains samples that are identical to samples that are in our train dataset. In some use cases is fine to have some identical samples in test and train dataset. However, in some cases those identical samples might appear because errors in our data pipelines. For those cases, it might be useful to use the `SampleLeakingTest` \n",
        "\n",
        "Let's see an example:"
      ]
    },
    {
      "cell_type": "code",
      "execution_count": 77,
      "id": "5d6796f9",
      "metadata": {
        "id": "5d6796f9"
      },
      "outputs": [],
      "source": [
        "path_dataset = \"./data/credit/\"\n",
        "uci_credit = pd.read_csv(path_dataset + \"UCI_Credit_card.csv\")\n",
        "uci_credit = uci_credit.drop('ID', axis=1)\n",
        "\n",
        "uci_credit[\"SEX\"] = uci_credit[\"SEX\"].astype(str)\n",
        "uci_credit[\"EDUCATION\"] = uci_credit[\"EDUCATION\"].astype(str)\n",
        "uci_credit[\"MARRIAGE\"] = uci_credit[\"MARRIAGE\"].astype(str)"
      ]
    },
    {
      "cell_type": "code",
      "execution_count": 78,
      "id": "0a7e050d",
      "metadata": {
        "id": "0a7e050d"
      },
      "outputs": [],
      "source": [
        "from sklearn.model_selection import train_test_split\n",
        "df_train, df_test = train_test_split(uci_credit, test_size=0.2, random_state=0)"
      ]
    },
    {
      "cell_type": "markdown",
      "id": "293bb48c",
      "metadata": {
        "id": "293bb48c"
      },
      "source": [
        "We instantiate the `SampleLeakingTest` by passing the training and test datasets. Optionally, we can set the `threshold` parameter (by default is 0) to allow a determined number of repeated samples. We can also specify a list of columns that we want to ignore when checking if a sample is exactly the same using the parameter `ignore_feats`"
      ]
    },
    {
      "cell_type": "code",
      "execution_count": 79,
      "id": "58f65717",
      "metadata": {
        "colab": {
          "base_uri": "https://localhost:8080/",
          "height": 353
        },
        "id": "58f65717",
        "outputId": "495b0328-f9b7-4ea9-9eb1-d3e7c234e06a"
      },
      "outputs": [
        {
          "output_type": "error",
          "ename": "FailedTestError",
          "evalue": "ignored",
          "traceback": [
            "\u001b[0;31m---------------------------------------------------------------------------\u001b[0m",
            "\u001b[0;31mFailedTestError\u001b[0m                           Traceback (most recent call last)",
            "\u001b[0;32m<ipython-input-79-3a4b5bc558f6>\u001b[0m in \u001b[0;36m<cell line: 3>\u001b[0;34m()\u001b[0m\n\u001b[1;32m      1\u001b[0m \u001b[0;32mfrom\u001b[0m \u001b[0mmercury\u001b[0m\u001b[0;34m.\u001b[0m\u001b[0mrobust\u001b[0m\u001b[0;34m.\u001b[0m\u001b[0mdata_tests\u001b[0m \u001b[0;32mimport\u001b[0m \u001b[0mSampleLeakingTest\u001b[0m\u001b[0;34m\u001b[0m\u001b[0;34m\u001b[0m\u001b[0m\n\u001b[1;32m      2\u001b[0m \u001b[0mtest\u001b[0m \u001b[0;34m=\u001b[0m \u001b[0mSampleLeakingTest\u001b[0m\u001b[0;34m(\u001b[0m\u001b[0mbase_dataset\u001b[0m\u001b[0;34m=\u001b[0m\u001b[0mdf_train\u001b[0m\u001b[0;34m,\u001b[0m \u001b[0mtest_dataset\u001b[0m\u001b[0;34m=\u001b[0m\u001b[0mdf_test\u001b[0m\u001b[0;34m)\u001b[0m\u001b[0;34m\u001b[0m\u001b[0;34m\u001b[0m\u001b[0m\n\u001b[0;32m----> 3\u001b[0;31m \u001b[0mtest\u001b[0m\u001b[0;34m.\u001b[0m\u001b[0mrun\u001b[0m\u001b[0;34m(\u001b[0m\u001b[0;34m)\u001b[0m\u001b[0;34m\u001b[0m\u001b[0;34m\u001b[0m\u001b[0m\n\u001b[0m",
            "\u001b[0;32m/usr/local/lib/python3.9/dist-packages/mercury/insight/decorators.py\u001b[0m in \u001b[0;36mwrapped\u001b[0;34m(self, *args, **kwargs)\u001b[0m\n\u001b[1;32m     70\u001b[0m                 \u001b[0mfunc\u001b[0m \u001b[0;34m=\u001b[0m \u001b[0mtarget\u001b[0m\u001b[0;34m(\u001b[0m\u001b[0mself\u001b[0m\u001b[0;34m,\u001b[0m \u001b[0;34m*\u001b[0m\u001b[0margs\u001b[0m\u001b[0;34m,\u001b[0m \u001b[0;34m**\u001b[0m\u001b[0mkwargs\u001b[0m\u001b[0;34m)\u001b[0m\u001b[0;34m\u001b[0m\u001b[0;34m\u001b[0m\u001b[0m\n\u001b[1;32m     71\u001b[0m         \u001b[0;32mexcept\u001b[0m \u001b[0mException\u001b[0m \u001b[0;32mas\u001b[0m \u001b[0me\u001b[0m\u001b[0;34m:\u001b[0m\u001b[0;34m\u001b[0m\u001b[0;34m\u001b[0m\u001b[0m\n\u001b[0;32m---> 72\u001b[0;31m             \u001b[0;32mraise\u001b[0m \u001b[0me\u001b[0m\u001b[0;34m\u001b[0m\u001b[0;34m\u001b[0m\u001b[0m\n\u001b[0m\u001b[1;32m     73\u001b[0m         \u001b[0;32mfinally\u001b[0m\u001b[0;34m:\u001b[0m\u001b[0;34m\u001b[0m\u001b[0;34m\u001b[0m\u001b[0m\n\u001b[1;32m     74\u001b[0m             \u001b[0;31m# Re-enable the logger\u001b[0m\u001b[0;34m\u001b[0m\u001b[0;34m\u001b[0m\u001b[0m\n",
            "\u001b[0;32m/usr/local/lib/python3.9/dist-packages/mercury/insight/decorators.py\u001b[0m in \u001b[0;36mwrapped\u001b[0;34m(self, *args, **kwargs)\u001b[0m\n\u001b[1;32m     68\u001b[0m             \u001b[0mlgr\u001b[0m\u001b[0;34m.\u001b[0m\u001b[0menabled\u001b[0m \u001b[0;34m=\u001b[0m \u001b[0;32mFalse\u001b[0m\u001b[0;34m\u001b[0m\u001b[0;34m\u001b[0m\u001b[0m\n\u001b[1;32m     69\u001b[0m             \u001b[0;32mwith\u001b[0m \u001b[0mlgr\u001b[0m\u001b[0;34m:\u001b[0m\u001b[0;34m\u001b[0m\u001b[0;34m\u001b[0m\u001b[0m\n\u001b[0;32m---> 70\u001b[0;31m                 \u001b[0mfunc\u001b[0m \u001b[0;34m=\u001b[0m \u001b[0mtarget\u001b[0m\u001b[0;34m(\u001b[0m\u001b[0mself\u001b[0m\u001b[0;34m,\u001b[0m \u001b[0;34m*\u001b[0m\u001b[0margs\u001b[0m\u001b[0;34m,\u001b[0m \u001b[0;34m**\u001b[0m\u001b[0mkwargs\u001b[0m\u001b[0;34m)\u001b[0m\u001b[0;34m\u001b[0m\u001b[0;34m\u001b[0m\u001b[0m\n\u001b[0m\u001b[1;32m     71\u001b[0m         \u001b[0;32mexcept\u001b[0m \u001b[0mException\u001b[0m \u001b[0;32mas\u001b[0m \u001b[0me\u001b[0m\u001b[0;34m:\u001b[0m\u001b[0;34m\u001b[0m\u001b[0;34m\u001b[0m\u001b[0m\n\u001b[1;32m     72\u001b[0m             \u001b[0;32mraise\u001b[0m \u001b[0me\u001b[0m\u001b[0;34m\u001b[0m\u001b[0;34m\u001b[0m\u001b[0m\n",
            "\u001b[0;32m/usr/local/lib/python3.9/dist-packages/mercury/robust/data_tests.py\u001b[0m in \u001b[0;36mrun\u001b[0;34m(self, *args, **kwargs)\u001b[0m\n\u001b[1;32m   1002\u001b[0m \u001b[0;34m\u001b[0m\u001b[0m\n\u001b[1;32m   1003\u001b[0m         \u001b[0;32mif\u001b[0m \u001b[0mself\u001b[0m\u001b[0;34m.\u001b[0m\u001b[0m_high_number_of_duplicates\u001b[0m\u001b[0;34m(\u001b[0m\u001b[0;34m)\u001b[0m\u001b[0;34m:\u001b[0m\u001b[0;34m\u001b[0m\u001b[0;34m\u001b[0m\u001b[0m\n\u001b[0;32m-> 1004\u001b[0;31m             raise FailedTestError(\n\u001b[0m\u001b[1;32m   1005\u001b[0m                 \u001b[0;34mf\"Num of samples in test set that appear in train set is {self._is_duplicated_test.sum()} \"\u001b[0m\u001b[0;34m\u001b[0m\u001b[0;34m\u001b[0m\u001b[0m\n\u001b[1;32m   1006\u001b[0m                 \u001b[0;34mf\"(a proportion of {round(self._is_duplicated_test.sum() / len(self.test_dataset), 3)} test samples )\"\u001b[0m\u001b[0;34m\u001b[0m\u001b[0;34m\u001b[0m\u001b[0m\n",
            "\u001b[0;31mFailedTestError\u001b[0m: Num of samples in test set that appear in train set is 11 (a proportion of 0.002 test samples )and the max allowed is 0"
          ]
        }
      ],
      "source": [
        "from mercury.robust.data_tests import SampleLeakingTest\n",
        "test = SampleLeakingTest(base_dataset=df_train, test_dataset=df_test)\n",
        "test.run()"
      ]
    },
    {
      "cell_type": "code",
      "execution_count": 80,
      "id": "1f757ffa",
      "metadata": {
        "colab": {
          "base_uri": "https://localhost:8080/"
        },
        "id": "1f757ffa",
        "outputId": "67993c3b-739d-453b-92e0-38ef4b119a39"
      },
      "outputs": [
        {
          "output_type": "execute_result",
          "data": {
            "text/plain": [
              "{'num_duplicated': 11, 'percentage_duplicated': 0.0018333333333333333}"
            ]
          },
          "metadata": {},
          "execution_count": 80
        }
      ],
      "source": [
        "test.info()"
      ]
    },
    {
      "cell_type": "markdown",
      "id": "76199df0",
      "metadata": {
        "id": "76199df0"
      },
      "source": [
        "As we have some samples in the test set that also appear in the train set, the test fails"
      ]
    },
    {
      "cell_type": "markdown",
      "source": [
        "\n",
        "\n",
        "## References\n",
        "<a id=\"[1]\">[1]</a> \n",
        "Efficient Intent Detection with Dual Sentence Encoders. https://arxiv.org/abs/2003.04807.\n",
        "Iñigo Casanueva and Tadas Temcinas and Daniela Gerz and Matthew Henderson and Ivan Vulic.\n",
        "Data available at https://github.com/PolyAI-LDN/task-specific-datasets\n",
        "\n",
        "<a id=\"[2]\">[2]</a>\n",
        "Yeh, I. C., & Lien, C. H. (2009). The comparisons of data mining techniques for the predictive accuracy of probability of default of credit card clients. Expert Systems with Applications, 36(2), 2473-2480.\n",
        "https://archive.ics.uci.edu/ml/datasets/default+of+credit+card+clients"
      ],
      "metadata": {
        "id": "ai3WxQQSmLWl"
      },
      "id": "ai3WxQQSmLWl"
    },
    {
      "cell_type": "code",
      "source": [],
      "metadata": {
        "id": "IK2iRJ4-A-PG"
      },
      "id": "IK2iRJ4-A-PG",
      "execution_count": null,
      "outputs": []
    }
  ],
  "metadata": {
    "kernelspec": {
      "display_name": "Python 3 (ipykernel)",
      "language": "python",
      "name": "python3"
    },
    "language_info": {
      "codemirror_mode": {
        "name": "ipython",
        "version": 3
      },
      "file_extension": ".py",
      "mimetype": "text/x-python",
      "name": "python",
      "nbconvert_exporter": "python",
      "pygments_lexer": "ipython3",
      "version": "3.9.13"
    },
    "vscode": {
      "interpreter": {
        "hash": "aee8b7b246df8f9039afb4144a1f6fd8d2ca17a180786b69acc140d282b71a49"
      }
    },
    "colab": {
      "provenance": []
    }
  },
  "nbformat": 4,
  "nbformat_minor": 5
}