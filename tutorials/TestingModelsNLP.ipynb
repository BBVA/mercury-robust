{
 "cells": [
  {
   "cell_type": "markdown",
   "id": "XrerLwHcKX_I",
   "metadata": {
    "id": "XrerLwHcKX_I"
   },
   "source": [
    "## Robust Testing in NLP Models\n",
    "\n",
    "This notebook contains an example of a Test to check the robustness of a trained NLP model. In this case, we create a test to check if the model is robust to introducing typos in the text. For that, we use `ClassificationInvarianceTest` from mercury.robust"
   ]
  },
  {
   "cell_type": "code",
   "execution_count": 1,
   "id": "xthpTlRhKX_K",
   "metadata": {
    "id": "xthpTlRhKX_K"
   },
   "outputs": [],
   "source": [
    "import numpy as np\n",
    "import pandas as pd\n",
    "from sklearn.naive_bayes import MultinomialNB\n",
    "from sklearn.metrics import accuracy_score"
   ]
  },
  {
   "cell_type": "markdown",
   "id": "6XjM0uoOKX_L",
   "metadata": {
    "id": "6XjM0uoOKX_L"
   },
   "source": [
    "## Load Dataset\n",
    "\n",
    "We will use it with the banking intents dataset, which contains short customer queries classified under 77 possible labels. This dataset was used in [[1]](#[1])"
   ]
  },
  {
   "cell_type": "code",
   "execution_count": 2,
   "id": "10wlykWtKX_L",
   "metadata": {
    "id": "10wlykWtKX_L"
   },
   "outputs": [],
   "source": [
    "path_dataset = \"./data/bankintents/\"\n",
    "train_df = pd.read_csv(path_dataset + \"train.csv\")\n",
    "test_df = pd.read_csv(path_dataset + \"test.csv\")\n",
    "categories_df = pd.read_json(path_dataset + \"categories.json\")\n",
    "train_df = train_df.sample(frac=1, random_state=342)  # shuffle"
   ]
  },
  {
   "cell_type": "code",
   "execution_count": 3,
   "id": "U-70MdTqKX_L",
   "metadata": {
    "id": "U-70MdTqKX_L",
    "outputId": "e70763f2-853d-4d30-dd48-09bbf22c176a"
   },
   "outputs": [
    {
     "data": {
      "text/html": [
       "<div>\n",
       "<style scoped>\n",
       "    .dataframe tbody tr th:only-of-type {\n",
       "        vertical-align: middle;\n",
       "    }\n",
       "\n",
       "    .dataframe tbody tr th {\n",
       "        vertical-align: top;\n",
       "    }\n",
       "\n",
       "    .dataframe thead th {\n",
       "        text-align: right;\n",
       "    }\n",
       "</style>\n",
       "<table border=\"1\" class=\"dataframe\">\n",
       "  <thead>\n",
       "    <tr style=\"text-align: right;\">\n",
       "      <th></th>\n",
       "      <th>text</th>\n",
       "      <th>category</th>\n",
       "      <th>set</th>\n",
       "      <th>category_id</th>\n",
       "      <th>id</th>\n",
       "    </tr>\n",
       "  </thead>\n",
       "  <tbody>\n",
       "    <tr>\n",
       "      <th>9695</th>\n",
       "      <td>how do i set up my apple pay watch to connect ...</td>\n",
       "      <td>apple_pay_or_google_pay</td>\n",
       "      <td>train</td>\n",
       "      <td>74</td>\n",
       "      <td>9695</td>\n",
       "    </tr>\n",
       "    <tr>\n",
       "      <th>3369</th>\n",
       "      <td>Why isn't my balance updating after depositing...</td>\n",
       "      <td>balance_not_updated_after_cheque_or_cash_deposit</td>\n",
       "      <td>train</td>\n",
       "      <td>26</td>\n",
       "      <td>3369</td>\n",
       "    </tr>\n",
       "    <tr>\n",
       "      <th>377</th>\n",
       "      <td>How do you decide what your exchange rates are?</td>\n",
       "      <td>exchange_rate</td>\n",
       "      <td>train</td>\n",
       "      <td>2</td>\n",
       "      <td>377</td>\n",
       "    </tr>\n",
       "    <tr>\n",
       "      <th>4669</th>\n",
       "      <td>I see a direct debit transaction that I didn't...</td>\n",
       "      <td>direct_debit_payment_not_recognised</td>\n",
       "      <td>train</td>\n",
       "      <td>37</td>\n",
       "      <td>4669</td>\n",
       "    </tr>\n",
       "    <tr>\n",
       "      <th>7815</th>\n",
       "      <td>How can I create another card linked to this a...</td>\n",
       "      <td>getting_spare_card</td>\n",
       "      <td>train</td>\n",
       "      <td>60</td>\n",
       "      <td>7815</td>\n",
       "    </tr>\n",
       "  </tbody>\n",
       "</table>\n",
       "</div>"
      ],
      "text/plain": [
       "                                                   text  \\\n",
       "9695  how do i set up my apple pay watch to connect ...   \n",
       "3369  Why isn't my balance updating after depositing...   \n",
       "377     How do you decide what your exchange rates are?   \n",
       "4669  I see a direct debit transaction that I didn't...   \n",
       "7815  How can I create another card linked to this a...   \n",
       "\n",
       "                                              category    set  category_id  \\\n",
       "9695                           apple_pay_or_google_pay  train           74   \n",
       "3369  balance_not_updated_after_cheque_or_cash_deposit  train           26   \n",
       "377                                      exchange_rate  train            2   \n",
       "4669               direct_debit_payment_not_recognised  train           37   \n",
       "7815                                getting_spare_card  train           60   \n",
       "\n",
       "        id  \n",
       "9695  9695  \n",
       "3369  3369  \n",
       "377    377  \n",
       "4669  4669  \n",
       "7815  7815  "
      ]
     },
     "execution_count": 3,
     "metadata": {},
     "output_type": "execute_result"
    }
   ],
   "source": [
    "train_df.head()"
   ]
  },
  {
   "cell_type": "markdown",
   "id": "7gxCV4D2KX_L",
   "metadata": {
    "id": "7gxCV4D2KX_L"
   },
   "source": [
    "## Train model\n",
    "\n",
    "We train a classification model to predict the category of a text. We create a basic NLP pipeline with a TfidfVectorizer and a LogisticRegression model\n"
   ]
  },
  {
   "cell_type": "code",
   "execution_count": 4,
   "id": "gPkTgAiZKX_M",
   "metadata": {
    "id": "gPkTgAiZKX_M"
   },
   "outputs": [],
   "source": [
    "\n",
    "from sklearn.feature_extraction.text import TfidfVectorizer\n",
    "from sklearn.linear_model import LogisticRegression\n",
    "from sklearn.pipeline import Pipeline\n",
    "\n",
    "tfidf = TfidfVectorizer()\n",
    "clf = LogisticRegression()\n",
    "pipeline = Pipeline([('tfidf', tfidf), ('classifier', clf)])\n",
    "pipeline = pipeline.fit(train_df[\"text\"].values, train_df[\"category_id\"].values)"
   ]
  },
  {
   "cell_type": "code",
   "execution_count": 5,
   "id": "XTNaO87aKX_M",
   "metadata": {
    "id": "XTNaO87aKX_M",
    "outputId": "4328cece-c94c-4a17-f00f-f4addb1ffbc5"
   },
   "outputs": [
    {
     "data": {
      "text/plain": [
       "0.8772727272727273"
      ]
     },
     "execution_count": 5,
     "metadata": {},
     "output_type": "execute_result"
    }
   ],
   "source": [
    "from sklearn.metrics import accuracy_score\n",
    "accuracy_score(test_df.category_id, pipeline.predict(test_df.text))"
   ]
  },
  {
   "cell_type": "markdown",
   "id": "4KUQj1EtKX_M",
   "metadata": {
    "id": "4KUQj1EtKX_M"
   },
   "source": [
    "## Invariance Test\n",
    "\n",
    "Now we will create an `InvarianceTest` for the model that we trained. The idea of the `ClassificationInvarianceTest` is that if we apply a label-preserving perturbation to a sample, its prediction shouldn't change. For example, if we change the name of a person in a sentence when using a sentiment analysis model, the sentiment shouldn't change, or if we make a minor typo in a text when using a text classification model, the prediction shouldn't change.\n",
    "\n",
    "The idea of the Invariance Test comes from the paper [Beyond Accuracy: Behavioral Testing of NLP Models with CheckList](https://homes.cs.washington.edu/~marcotcr/acl20_checklist.pdf). You can read the paper to get further ideas to create more tests"
   ]
  },
  {
   "cell_type": "markdown",
   "id": "hR72FH8lKX_M",
   "metadata": {
    "id": "hR72FH8lKX_M"
   },
   "source": [
    "### Create Dataset with perturbed samples (typos)\n",
    "\n",
    "First, let's create perturbed samples. We take a sample from our test dataset as original dataset. Then, we apply perturbations to these samples to introduce typos and create a perturbed dataset. We first create the `add_typos` function to create types in a given string. Then, we create a function that takes a dataset and a function, and applies `num_perturbation` to each one of the samples using the function.\n",
    "\n"
   ]
  },
  {
   "cell_type": "code",
   "execution_count": 6,
   "id": "BTgPgyhDKX_N",
   "metadata": {
    "id": "BTgPgyhDKX_N"
   },
   "outputs": [],
   "source": [
    "sample_test_data = test_df.sample(50)[\"text\"].values.tolist()"
   ]
  },
  {
   "cell_type": "code",
   "execution_count": 7,
   "id": "wLgS1NgxKX_N",
   "metadata": {
    "id": "wLgS1NgxKX_N"
   },
   "outputs": [],
   "source": [
    "def add_typos(string: str, num_typos: int = 1):\n",
    "    \"\"\"\n",
    "    Function that receives a string and returns the same string but with added typos.\n",
    "    The typos are added by randomly swapping consecutive characters.\n",
    "    Note that the same string can be returned in case that the string hasn't the enough\n",
    "    length to introduce typos by swapping characters or if the consecutive characters to\n",
    "    swap are the same.\n",
    "\n",
    "    Args:\n",
    "        string: the string to add typos\n",
    "        num_typos: the number of typos to add\n",
    "\n",
    "    Returns:\n",
    "        (str): The string with the typos added\n",
    "    \"\"\"\n",
    "    if len(string) <= 1:\n",
    "        return string\n",
    "    string = list(string)\n",
    "    indices = np.random.choice(len(string) - 1, num_typos)\n",
    "    for idx in indices:\n",
    "        tmp = string[idx]\n",
    "        string[idx] = string[idx + 1]\n",
    "        string[idx + 1] = tmp\n",
    "    return ''.join(string)\n",
    "\n",
    "def generate_perturbations(data, num_perturbations, generation_fn):\n",
    "    pertubations_dataset = []\n",
    "    for i in range(len(data)):\n",
    "        sample_perturbations = []\n",
    "        for j in range(num_perturbations):\n",
    "            sample_perturbations.append(generation_fn(data[i]))\n",
    "        pertubations_dataset.append(sample_perturbations)\n",
    "    return pertubations_dataset\n",
    "\n",
    "typos_test_data = generate_perturbations(\n",
    "    sample_test_data, \n",
    "    num_perturbations=3, \n",
    "    generation_fn=add_typos\n",
    ")"
   ]
  },
  {
   "cell_type": "markdown",
   "id": "dqNq-JkAKX_N",
   "metadata": {
    "id": "dqNq-JkAKX_N"
   },
   "source": [
    "Let's see an example"
   ]
  },
  {
   "cell_type": "code",
   "execution_count": 8,
   "id": "ewUz_mZsKX_N",
   "metadata": {
    "id": "ewUz_mZsKX_N",
    "outputId": "3ae8379c-90e8-4394-ef66-64948a5d25a0"
   },
   "outputs": [
    {
     "name": "stdout",
     "output_type": "stream",
     "text": [
      "The amount of cash I received was different than what I requested.\n",
      "The amount of cash I received was different than what I requeste.d\n"
     ]
    }
   ],
   "source": [
    "print(sample_test_data[1])\n",
    "print(typos_test_data[1][0])"
   ]
  },
  {
   "cell_type": "markdown",
   "id": "lS2LI3rtKX_N",
   "metadata": {
    "id": "lS2LI3rtKX_N"
   },
   "source": [
    "### Create test and run\n",
    "\n",
    "Now, let's create the `ClassificationInvarianceTest` and run it. We need to pass to the test the trained model object which has a `predict()` method returning the predictions, or alternatively a function as `predict_fn` argument that generates the predictions for our samples. We also pass a `threshold` which indicates how many errors are we willing to tolerate in order to pass the test. If the error rate is higher than the threshold, then the test will fail raising a `FailedTestError`"
   ]
  },
  {
   "cell_type": "code",
   "execution_count": 9,
   "id": "93fQPMznKX_O",
   "metadata": {
    "id": "93fQPMznKX_O",
    "outputId": "463eb708-b244-42c3-f871-ababaa4f1b27"
   },
   "outputs": [
    {
     "ename": "FailedTestError",
     "evalue": "Error rate 0.22666666666666666 is higher than threshold 0.05",
     "output_type": "error",
     "traceback": [
      "\u001b[0;31m---------------------------------------------------------------------------\u001b[0m",
      "\u001b[0;31mFailedTestError\u001b[0m                           Traceback (most recent call last)",
      "Cell \u001b[0;32mIn[9], line 10\u001b[0m\n\u001b[1;32m      1\u001b[0m \u001b[38;5;28;01mfrom\u001b[39;00m \u001b[38;5;21;01mmercury\u001b[39;00m\u001b[38;5;21;01m.\u001b[39;00m\u001b[38;5;21;01mrobust\u001b[39;00m\u001b[38;5;21;01m.\u001b[39;00m\u001b[38;5;21;01mmodel_tests\u001b[39;00m \u001b[38;5;28;01mimport\u001b[39;00m ClassificationInvarianceTest\n\u001b[1;32m      3\u001b[0m test \u001b[38;5;241m=\u001b[39m ClassificationInvarianceTest(\n\u001b[1;32m      4\u001b[0m     original_samples\u001b[38;5;241m=\u001b[39msample_test_data, \n\u001b[1;32m      5\u001b[0m     perturbed_samples\u001b[38;5;241m=\u001b[39mtypos_test_data,\n\u001b[0;32m   (...)\u001b[0m\n\u001b[1;32m      8\u001b[0m     name\u001b[38;5;241m=\u001b[39m\u001b[38;5;124m\"\u001b[39m\u001b[38;5;124mInvariance to typos\u001b[39m\u001b[38;5;124m\"\u001b[39m\n\u001b[1;32m      9\u001b[0m )\n\u001b[0;32m---> 10\u001b[0m \u001b[43mtest\u001b[49m\u001b[38;5;241;43m.\u001b[39;49m\u001b[43mrun\u001b[49m\u001b[43m(\u001b[49m\u001b[43m)\u001b[49m\n",
      "File \u001b[0;32m~/Library/Python/3.9/lib/python/site-packages/mercury/robust/model_tests.py:791\u001b[0m, in \u001b[0;36mClassificationInvarianceTest.run\u001b[0;34m(self, *args, **kwargs)\u001b[0m\n\u001b[1;32m    789\u001b[0m \u001b[38;5;28mself\u001b[39m\u001b[38;5;241m.\u001b[39m_check_changes_in_perturbed_samples_predictions()\n\u001b[1;32m    790\u001b[0m \u001b[38;5;28mself\u001b[39m\u001b[38;5;241m.\u001b[39m_calculate_errors_rate()\n\u001b[0;32m--> 791\u001b[0m \u001b[38;5;28;43mself\u001b[39;49m\u001b[38;5;241;43m.\u001b[39;49m\u001b[43m_fail_test_if_high_error\u001b[49m\u001b[43m(\u001b[49m\u001b[43m)\u001b[49m\n",
      "File \u001b[0;32m~/Library/Python/3.9/lib/python/site-packages/mercury/robust/model_tests.py:870\u001b[0m, in \u001b[0;36mClassificationInvarianceTest._fail_test_if_high_error\u001b[0;34m(self)\u001b[0m\n\u001b[1;32m    868\u001b[0m     error_rate \u001b[38;5;241m=\u001b[39m \u001b[38;5;28mself\u001b[39m\u001b[38;5;241m.\u001b[39mrate_samples_with_errors\n\u001b[1;32m    869\u001b[0m \u001b[38;5;28;01mif\u001b[39;00m error_rate \u001b[38;5;241m>\u001b[39m \u001b[38;5;28mself\u001b[39m\u001b[38;5;241m.\u001b[39mthreshold:\n\u001b[0;32m--> 870\u001b[0m     \u001b[38;5;28;01mraise\u001b[39;00m FailedTestError(\u001b[38;5;124mf\u001b[39m\u001b[38;5;124m\"\u001b[39m\u001b[38;5;124mError rate \u001b[39m\u001b[38;5;132;01m{\u001b[39;00merror_rate\u001b[38;5;132;01m}\u001b[39;00m\u001b[38;5;124m is higher than threshold \u001b[39m\u001b[38;5;132;01m{\u001b[39;00m\u001b[38;5;28mself\u001b[39m\u001b[38;5;241m.\u001b[39mthreshold\u001b[38;5;132;01m}\u001b[39;00m\u001b[38;5;124m\"\u001b[39m)\n",
      "\u001b[0;31mFailedTestError\u001b[0m: Error rate 0.22666666666666666 is higher than threshold 0.05"
     ]
    }
   ],
   "source": [
    "from mercury.robust.model_tests import ClassificationInvarianceTest\n",
    "\n",
    "test = ClassificationInvarianceTest(\n",
    "    original_samples=sample_test_data, \n",
    "    perturbed_samples=typos_test_data,\n",
    "    model=pipeline, \n",
    "    threshold=0.05, \n",
    "    name=\"Invariance to typos\"\n",
    ")\n",
    "test.run()"
   ]
  },
  {
   "cell_type": "markdown",
   "id": "toUmVdyjKX_O",
   "metadata": {
    "id": "toUmVdyjKX_O"
   },
   "source": [
    "You might obtain a different number of errors depending on the generated typos, but most likely it will fail if you kept the low threshold. \n",
    "\n",
    "By calling the `info()` method you can check the:\n",
    "- rate_samples_with_errors: the percentage of samples with at least one perturbation with different prediction.\n",
    "- total_rate_errors: the total percentage of perturbations that have different prediction to its original sample"
   ]
  },
  {
   "cell_type": "code",
   "execution_count": 10,
   "id": "SbKl_-LgKX_O",
   "metadata": {
    "id": "SbKl_-LgKX_O",
    "outputId": "ecb22619-0a92-4701-bc03-6f93d5376a21"
   },
   "outputs": [
    {
     "data": {
      "text/plain": [
       "{'rate_samples_with_errors': 0.36, 'total_rate_errors': 0.22666666666666666}"
      ]
     },
     "execution_count": 10,
     "metadata": {},
     "output_type": "execute_result"
    }
   ],
   "source": [
    "test.info()"
   ]
  },
  {
   "cell_type": "markdown",
   "id": "hARxybDUKX_O",
   "metadata": {
    "id": "hARxybDUKX_O"
   },
   "source": [
    "You can also call `get_examples_failed()` to obtain some examples where the prediction changes:"
   ]
  },
  {
   "cell_type": "code",
   "execution_count": 11,
   "id": "sKQHa2ZAKX_O",
   "metadata": {
    "id": "sKQHa2ZAKX_O"
   },
   "outputs": [],
   "source": [
    "pd.set_option('display.max_colwidth', None)"
   ]
  },
  {
   "cell_type": "code",
   "execution_count": 12,
   "id": "ouwTFx9bKX_O",
   "metadata": {
    "id": "ouwTFx9bKX_O",
    "outputId": "0b6514c6-6c2b-4939-aa24-5663354f9723"
   },
   "outputs": [
    {
     "data": {
      "text/html": [
       "<div>\n",
       "<style scoped>\n",
       "    .dataframe tbody tr th:only-of-type {\n",
       "        vertical-align: middle;\n",
       "    }\n",
       "\n",
       "    .dataframe tbody tr th {\n",
       "        vertical-align: top;\n",
       "    }\n",
       "\n",
       "    .dataframe thead th {\n",
       "        text-align: right;\n",
       "    }\n",
       "</style>\n",
       "<table border=\"1\" class=\"dataframe\">\n",
       "  <thead>\n",
       "    <tr style=\"text-align: right;\">\n",
       "      <th></th>\n",
       "      <th>original</th>\n",
       "      <th>perturbed</th>\n",
       "      <th>pred_original</th>\n",
       "      <th>pred_perturbed</th>\n",
       "    </tr>\n",
       "  </thead>\n",
       "  <tbody>\n",
       "    <tr>\n",
       "      <th>0</th>\n",
       "      <td>How do I pay by check?</td>\n",
       "      <td>How do I pay by chekc?</td>\n",
       "      <td>61</td>\n",
       "      <td>74</td>\n",
       "    </tr>\n",
       "    <tr>\n",
       "      <th>1</th>\n",
       "      <td>I am seeing a weird payment showing up that I know I did not make, how can I get it cancelled?</td>\n",
       "      <td>I am seeing a weird payment showing up that Ik now I did not make, how can I get it cancelled?</td>\n",
       "      <td>37</td>\n",
       "      <td>52</td>\n",
       "    </tr>\n",
       "    <tr>\n",
       "      <th>2</th>\n",
       "      <td>Who can top up my accounts?</td>\n",
       "      <td>Who can top u pmy accounts?</td>\n",
       "      <td>66</td>\n",
       "      <td>18</td>\n",
       "    </tr>\n",
       "    <tr>\n",
       "      <th>3</th>\n",
       "      <td>Can I freeze my card right now?</td>\n",
       "      <td>Can I freeze my crad right now?</td>\n",
       "      <td>9</td>\n",
       "      <td>11</td>\n",
       "    </tr>\n",
       "    <tr>\n",
       "      <th>4</th>\n",
       "      <td>I need your help in deleting my account.</td>\n",
       "      <td>I need your hel pin deleting my account.</td>\n",
       "      <td>47</td>\n",
       "      <td>31</td>\n",
       "    </tr>\n",
       "  </tbody>\n",
       "</table>\n",
       "</div>"
      ],
      "text/plain": [
       "                                                                                         original  \\\n",
       "0                                                                          How do I pay by check?   \n",
       "1  I am seeing a weird payment showing up that I know I did not make, how can I get it cancelled?   \n",
       "2                                                                     Who can top up my accounts?   \n",
       "3                                                                 Can I freeze my card right now?   \n",
       "4                                                        I need your help in deleting my account.   \n",
       "\n",
       "                                                                                        perturbed  \\\n",
       "0                                                                          How do I pay by chekc?   \n",
       "1  I am seeing a weird payment showing up that Ik now I did not make, how can I get it cancelled?   \n",
       "2                                                                     Who can top u pmy accounts?   \n",
       "3                                                                 Can I freeze my crad right now?   \n",
       "4                                                        I need your hel pin deleting my account.   \n",
       "\n",
       "   pred_original  pred_perturbed  \n",
       "0             61              74  \n",
       "1             37              52  \n",
       "2             66              18  \n",
       "3              9              11  \n",
       "4             47              31  "
      ]
     },
     "execution_count": 12,
     "metadata": {},
     "output_type": "execute_result"
    }
   ],
   "source": [
    "test.get_examples_failed()"
   ]
  },
  {
   "cell_type": "code",
   "execution_count": 13,
   "id": "Am2VjYrsKX_O",
   "metadata": {
    "id": "Am2VjYrsKX_O",
    "outputId": "b8b52f28-ca6c-40b0-eb36-23562d57bbb7"
   },
   "outputs": [
    {
     "data": {
      "text/html": [
       "<div>\n",
       "<style scoped>\n",
       "    .dataframe tbody tr th:only-of-type {\n",
       "        vertical-align: middle;\n",
       "    }\n",
       "\n",
       "    .dataframe tbody tr th {\n",
       "        vertical-align: top;\n",
       "    }\n",
       "\n",
       "    .dataframe thead th {\n",
       "        text-align: right;\n",
       "    }\n",
       "</style>\n",
       "<table border=\"1\" class=\"dataframe\">\n",
       "  <thead>\n",
       "    <tr style=\"text-align: right;\">\n",
       "      <th></th>\n",
       "      <th>original</th>\n",
       "      <th>perturbed</th>\n",
       "      <th>pred_original</th>\n",
       "      <th>pred_perturbed</th>\n",
       "    </tr>\n",
       "  </thead>\n",
       "  <tbody>\n",
       "    <tr>\n",
       "      <th>0</th>\n",
       "      <td>What is the process for activating my card?</td>\n",
       "      <td>What is the process for atcivating my card?</td>\n",
       "      <td>71</td>\n",
       "      <td>0</td>\n",
       "    </tr>\n",
       "    <tr>\n",
       "      <th>1</th>\n",
       "      <td>Why can't I get my virtual card to work?</td>\n",
       "      <td>Why can't I get my virtual card to owrk?</td>\n",
       "      <td>63</td>\n",
       "      <td>23</td>\n",
       "    </tr>\n",
       "    <tr>\n",
       "      <th>2</th>\n",
       "      <td>Why can't I get my virtual card to work?</td>\n",
       "      <td>Why can't I get m yvirtual card to work?</td>\n",
       "      <td>63</td>\n",
       "      <td>9</td>\n",
       "    </tr>\n",
       "    <tr>\n",
       "      <th>3</th>\n",
       "      <td>How do I make my virtual card work?</td>\n",
       "      <td>How do I maek my virtual card work?</td>\n",
       "      <td>63</td>\n",
       "      <td>23</td>\n",
       "    </tr>\n",
       "    <tr>\n",
       "      <th>4</th>\n",
       "      <td>How do I make my virtual card work?</td>\n",
       "      <td>How do I make ym virtual card work?</td>\n",
       "      <td>63</td>\n",
       "      <td>23</td>\n",
       "    </tr>\n",
       "  </tbody>\n",
       "</table>\n",
       "</div>"
      ],
      "text/plain": [
       "                                      original  \\\n",
       "0  What is the process for activating my card?   \n",
       "1     Why can't I get my virtual card to work?   \n",
       "2     Why can't I get my virtual card to work?   \n",
       "3          How do I make my virtual card work?   \n",
       "4          How do I make my virtual card work?   \n",
       "\n",
       "                                     perturbed  pred_original  pred_perturbed  \n",
       "0  What is the process for atcivating my card?             71               0  \n",
       "1     Why can't I get my virtual card to owrk?             63              23  \n",
       "2     Why can't I get m yvirtual card to work?             63               9  \n",
       "3          How do I maek my virtual card work?             63              23  \n",
       "4          How do I make ym virtual card work?             63              23  "
      ]
     },
     "execution_count": 13,
     "metadata": {},
     "output_type": "execute_result"
    }
   ],
   "source": [
    "test.get_examples_failed(n_samples=3, n_perturbed=2)"
   ]
  },
  {
   "cell_type": "markdown",
   "id": "MXxktnShKX_P",
   "metadata": {
    "id": "MXxktnShKX_P"
   },
   "source": [
    "### Test Suites\n",
    "\n",
    "You can also group different tests in a `TestSuite` and execute them together. You can see an example of the TestSuite tutorial which you can adapt to an NLP use case\n"
   ]
  },
  {
   "cell_type": "markdown",
   "id": "eGC5O5kcKyQM",
   "metadata": {
    "id": "eGC5O5kcKyQM"
   },
   "source": [
    "## References\n",
    "<a id=\"[1]\">[1]</a> \n",
    "Efficient Intent Detection with Dual Sentence Encoders. https://arxiv.org/abs/2003.04807.\n",
    "Iñigo Casanueva and Tadas Temcinas and Daniela Gerz and Matthew Henderson and Ivan Vulic.\n",
    "Data available at https://github.com/PolyAI-LDN/task-specific-datasets"
   ]
  },
  {
   "cell_type": "code",
   "execution_count": null,
   "id": "ix5Bbv2IKX_P",
   "metadata": {
    "id": "ix5Bbv2IKX_P"
   },
   "outputs": [],
   "source": []
  }
 ],
 "metadata": {
  "colab": {
   "provenance": []
  },
  "kernelspec": {
   "display_name": "Python 3 (ipykernel)",
   "language": "python",
   "name": "python3"
  },
  "language_info": {
   "codemirror_mode": {
    "name": "ipython",
    "version": 3
   },
   "file_extension": ".py",
   "mimetype": "text/x-python",
   "name": "python",
   "nbconvert_exporter": "python",
   "pygments_lexer": "ipython3",
   "version": "3.9.13"
  }
 },
 "nbformat": 4,
 "nbformat_minor": 5
}
